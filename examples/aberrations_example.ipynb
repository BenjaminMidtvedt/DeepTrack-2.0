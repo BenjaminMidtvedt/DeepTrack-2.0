{
 "cells": [
  {
   "cell_type": "code",
   "execution_count": null,
   "metadata": {},
   "outputs": [],
   "source": [
    "%matplotlib inline\n",
    "import sys\n",
    "sys.path.append(\"..\") # Adds the module to path"
   ]
  },
  {
   "cell_type": "markdown",
   "metadata": {},
   "source": [
    "# deeptrack.aberrations\n",
    "\n",
    "This example introduces the module deeptrack.aberrations."
   ]
  },
  {
   "cell_type": "markdown",
   "metadata": {},
   "source": [
    "## 1. What is an aberration?\n",
    "\n",
    "\n",
    "\n",
    "Aberrations are some alteration of the pupil function of an optical system. They receive as input the complex pupil function in Fourier space. The method `.get()` may optionally receive the position of each pixel in polar coordinates through the keyword arguments `rho` and `theta`. \n",
    "\n",
    "The feature, or set of features, is passed to the optical system on initilization through the `aberration` keyword."
   ]
  },
  {
   "cell_type": "markdown",
   "metadata": {},
   "source": [
    "## 2. Example of an aberration\n",
    "\n",
    "Below is the implementation of the feature `GaussianApodization`. It scales the amplitude of the pupil as a function of the distance from the central pixel."
   ]
  },
  {
   "cell_type": "code",
   "execution_count": null,
   "metadata": {},
   "outputs": [],
   "source": [
    "import numpy as np\n",
    "import matplotlib.pyplot as plt\n",
    "from deeptrack.aberrations import Aberration\n",
    "\n",
    "# Implementation of abstract class Aberration\n",
    "# which decreases the amplitude of the pupil at high frequencies.\n",
    "class GaussianApodization(Aberration):\n",
    "    def get(self, pupil, sigma=1, rho=None, **kwargs):\n",
    "        return pupil * np.exp(-(rho / sigma) ** 2) "
   ]
  },
  {
   "cell_type": "markdown",
   "metadata": {},
   "source": [
    "## 3. The effect of different aberrations\n",
    "\n",
    "Here we show aberrations in use. We study the point spread function of an aberrated particle and an unaberrated particle in focus, 10 micron under focus and 10 micron over focus. "
   ]
  },
  {
   "cell_type": "code",
   "execution_count": null,
   "metadata": {},
   "outputs": [],
   "source": [
    "from deeptrack.scatterers import PointParticle\n",
    "from deeptrack.optics import Fluorescence\n",
    "\n",
    "particle = PointParticle(\n",
    "    position=(32, 32),\n",
    "    position_unit=\"pixel\",\n",
    "    intensity=1\n",
    ")\n",
    "\n",
    "unaberrated_optics = Fluorescence(\n",
    "    NA = 0.3,\n",
    "    resolution=1e-6,\n",
    "    magnification=10,\n",
    "    wavelength=530e-9,\n",
    "    output_region=(0, 0, 64, 64)\n",
    ")\n",
    "\n",
    "unaberrated_particle = unaberrated_optics(particle)\n",
    "\n",
    "def plot(unaberrated, aberrated):\n",
    "    plt.subplot(2,3,1)\n",
    "    im = aberrated.resolve(z=-100)\n",
    "    plt.imshow(im[:, :, 0], cmap=\"gray\")\n",
    "    plt.ylabel(\"Aberrated\")\n",
    "    plt.title(\"Focus: -1 mu\")\n",
    "    \n",
    "    plt.subplot(2,3,2)\n",
    "    im = aberrated.resolve(z=0)\n",
    "    plt.imshow(im[:, :, 0], cmap=\"gray\")\n",
    "    plt.title(\"Focus: 0 mu\")\n",
    "    \n",
    "    plt.subplot(2,3,3)\n",
    "    im = aberrated.resolve(z=100)\n",
    "    plt.imshow(im[:, :, 0], cmap=\"gray\")\n",
    "    plt.title(\"Focus: 1 mu\")\n",
    "    \n",
    "    \n",
    "    plt.subplot(2,3,4)\n",
    "    im = unaberrated.resolve(z=-100)\n",
    "    plt.imshow(im[:, :, 0], cmap=\"gray\")\n",
    "    plt.ylabel(\"Unaberrated\")\n",
    "    #plt.title(\"Focus: -1 mu\")\n",
    "    \n",
    "    plt.subplot(2,3,5)\n",
    "    im = unaberrated.resolve(z=0)\n",
    "    plt.imshow(im[:, :, 0], cmap=\"gray\")\n",
    "    #plt.title(\"Focus: 0 mu\")\n",
    "    \n",
    "    plt.subplot(2,3,6)\n",
    "    im = unaberrated.resolve(z=100)\n",
    "    plt.imshow(im[:, :, 0], cmap=\"gray\")\n",
    "    #plt.title(\"Focus: 1 mu\")"
   ]
  },
  {
   "cell_type": "markdown",
   "metadata": {},
   "source": [
    "### SphericalAberration"
   ]
  },
  {
   "cell_type": "code",
   "execution_count": null,
   "metadata": {},
   "outputs": [],
   "source": [
    "from deeptrack.aberrations import SphericalAberration\n",
    "aberrated_optics = Fluorescence(\n",
    "    NA = 0.3,\n",
    "    resolution=1e-6,\n",
    "    magnification=10,\n",
    "    wavelength=530e-9,\n",
    "    output_region=(0, 0, 64, 64),\n",
    "    padding=(64, 64, 64, 64),\n",
    "    aberration=SphericalAberration(coefficient=1)\n",
    ")\n",
    "\n",
    "aberrated_particle = aberrated_optics(particle)\n",
    "\n",
    "plot(unaberrated_particle, aberrated_particle)"
   ]
  },
  {
   "cell_type": "markdown",
   "metadata": {},
   "source": [
    "### Apodization"
   ]
  },
  {
   "cell_type": "code",
   "execution_count": null,
   "metadata": {},
   "outputs": [],
   "source": [
    "aberrated_optics = Fluorescence(\n",
    "    NA = 0.3,\n",
    "    resolution=1e-6,\n",
    "    magnification=10,\n",
    "    wavelength=530e-9,\n",
    "    output_region=(0, 0, 64, 64),\n",
    "    padding=(64, 64, 64, 64),\n",
    "    aberration=GaussianApodization(sigma=0.5)\n",
    ")\n",
    "\n",
    "aberrated_particle = aberrated_optics(particle)\n",
    "\n",
    "plot(unaberrated_particle, aberrated_particle)"
   ]
  },
  {
   "cell_type": "markdown",
   "metadata": {},
   "source": [
    "### Piston"
   ]
  },
  {
   "cell_type": "code",
   "execution_count": null,
   "metadata": {},
   "outputs": [],
   "source": [
    "from deeptrack.aberrations import Piston\n",
    "\n",
    "aberrated_optics = Fluorescence(\n",
    "    NA = 0.3,\n",
    "    resolution=1e-6,\n",
    "    magnification=10,\n",
    "    wavelength=530e-9,\n",
    "    output_region=(0, 0, 64, 64),\n",
    "    padding=(64, 64, 64, 64),\n",
    "    aberration=Piston(coefficient=1)\n",
    ")\n",
    "\n",
    "aberrated_particle = aberrated_optics(particle)\n",
    "\n",
    "plot(unaberrated_particle, aberrated_particle)"
   ]
  },
  {
   "cell_type": "markdown",
   "metadata": {},
   "source": [
    "### VerticalTilt"
   ]
  },
  {
   "cell_type": "code",
   "execution_count": null,
   "metadata": {},
   "outputs": [],
   "source": [
    "from deeptrack.aberrations import VerticalTilt\n",
    "\n",
    "aberrated_optics = Fluorescence(\n",
    "    NA = 0.3,\n",
    "    resolution=1e-6,\n",
    "    magnification=10,\n",
    "    wavelength=530e-9,\n",
    "    output_region=(0, 0, 64, 64),\n",
    "    padding=(64, 64, 64, 64),\n",
    "    aberration=VerticalTilt(coefficient=1)\n",
    ")\n",
    "\n",
    "aberrated_particle = aberrated_optics(particle)\n",
    "\n",
    "plot(unaberrated_particle, aberrated_particle)"
   ]
  },
  {
   "cell_type": "markdown",
   "metadata": {},
   "source": [
    "### HorizontalTilt"
   ]
  },
  {
   "cell_type": "code",
   "execution_count": null,
   "metadata": {},
   "outputs": [],
   "source": [
    "from deeptrack.aberrations import HorizontalTilt\n",
    "aberrated_optics = Fluorescence(\n",
    "    NA = 0.3,\n",
    "    resolution=1e-6,\n",
    "    magnification=10,\n",
    "    wavelength=530e-9,\n",
    "    output_region=(0, 0, 64, 64),\n",
    "    padding=(64, 64, 64, 64),\n",
    "    aberration=HorizontalTilt(coefficient=1)\n",
    ")\n",
    "\n",
    "aberrated_particle = aberrated_optics(particle)\n",
    "\n",
    "plot(unaberrated_particle, aberrated_particle)"
   ]
  },
  {
   "cell_type": "markdown",
   "metadata": {},
   "source": [
    "### ObliqueAstigmatism"
   ]
  },
  {
   "cell_type": "code",
   "execution_count": null,
   "metadata": {},
   "outputs": [],
   "source": [
    "from deeptrack.aberrations import ObliqueAstigmatism\n",
    "aberrated_optics = Fluorescence(\n",
    "    NA = 0.3,\n",
    "    resolution=1e-6,\n",
    "    magnification=10,\n",
    "    wavelength=530e-9,\n",
    "    output_region=(0, 0, 64, 64),\n",
    "    padding=(64, 64, 64, 64),\n",
    "    aberration=ObliqueAstigmatism(coefficient=1)\n",
    ")\n",
    "\n",
    "aberrated_particle = aberrated_optics(particle)\n",
    "\n",
    "plot(unaberrated_particle, aberrated_particle)"
   ]
  },
  {
   "cell_type": "markdown",
   "metadata": {},
   "source": [
    "### Defocus"
   ]
  },
  {
   "cell_type": "code",
   "execution_count": null,
   "metadata": {},
   "outputs": [],
   "source": [
    "from deeptrack.aberrations import Defocus\n",
    "aberrated_optics = Fluorescence(\n",
    "    NA = 0.3,\n",
    "    resolution=1e-6,\n",
    "    magnification=10,\n",
    "    wavelength=530e-9,\n",
    "    output_region=(0, 0, 64, 64),\n",
    "    padding=(64, 64, 64, 64),\n",
    "    aberration=Defocus(coefficient=1)\n",
    ")\n",
    "\n",
    "aberrated_particle = aberrated_optics(particle)\n",
    "\n",
    "plot(unaberrated_particle, aberrated_particle)"
   ]
  },
  {
   "cell_type": "markdown",
   "metadata": {},
   "source": [
    "### Astigmatism"
   ]
  },
  {
   "cell_type": "code",
   "execution_count": null,
   "metadata": {},
   "outputs": [],
   "source": [
    "from deeptrack.aberrations import Astigmatism\n",
    "aberrated_optics = Fluorescence(\n",
    "    NA = 0.3,\n",
    "    resolution=1e-6,\n",
    "    magnification=10,\n",
    "    wavelength=530e-9,\n",
    "    output_region=(0, 0, 64, 64),\n",
    "    padding=(64, 64, 64, 64),\n",
    "    aberration=Astigmatism(coefficient=1)\n",
    ")\n",
    "\n",
    "aberrated_particle = aberrated_optics(particle)\n",
    "\n",
    "plot(unaberrated_particle, aberrated_particle)"
   ]
  },
  {
   "cell_type": "markdown",
   "metadata": {},
   "source": [
    "### ObliqueTrefoil"
   ]
  },
  {
   "cell_type": "code",
   "execution_count": null,
   "metadata": {},
   "outputs": [],
   "source": [
    "from deeptrack.aberrations import ObliqueTrefoil\n",
    "aberrated_optics = Fluorescence(\n",
    "    NA = 0.3,\n",
    "    resolution=1e-6,\n",
    "    magnification=10,\n",
    "    wavelength=530e-9,\n",
    "    output_region=(0, 0, 64, 64),\n",
    "    padding=(64, 64, 64, 64),\n",
    "    aberration=ObliqueTrefoil(coefficient=1)\n",
    ")\n",
    "\n",
    "aberrated_particle = aberrated_optics(particle)\n",
    "\n",
    "plot(unaberrated_particle, aberrated_particle)"
   ]
  },
  {
   "cell_type": "markdown",
   "metadata": {},
   "source": [
    "### VerticalComa"
   ]
  },
  {
   "cell_type": "code",
   "execution_count": null,
   "metadata": {},
   "outputs": [],
   "source": [
    "from deeptrack.aberrations import VerticalComa\n",
    "aberrated_optics = Fluorescence(\n",
    "    NA = 0.3,\n",
    "    resolution=1e-6,\n",
    "    magnification=10,\n",
    "    wavelength=530e-9,\n",
    "    output_region=(0, 0, 64, 64),\n",
    "    padding=(64, 64, 64, 64),\n",
    "    aberration=VerticalComa(coefficient=1)\n",
    ")\n",
    "\n",
    "aberrated_particle = aberrated_optics(particle)\n",
    "\n",
    "plot(unaberrated_particle, aberrated_particle)"
   ]
  },
  {
   "cell_type": "markdown",
   "metadata": {},
   "source": [
    "### HorizontalComa"
   ]
  },
  {
   "cell_type": "code",
   "execution_count": null,
   "metadata": {},
   "outputs": [],
   "source": [
    "from deeptrack.aberrations import HorizontalComa\n",
    "aberrated_optics = Fluorescence(\n",
    "    NA = 0.3,\n",
    "    resolution=1e-6,\n",
    "    magnification=10,\n",
    "    wavelength=530e-9,\n",
    "    output_region=(0, 0, 64, 64),\n",
    "    padding=(64, 64, 64, 64),\n",
    "    aberration=HorizontalComa(coefficient=1)\n",
    ")\n",
    "\n",
    "aberrated_particle = aberrated_optics(particle)\n",
    "\n",
    "plot(unaberrated_particle, aberrated_particle)"
   ]
  },
  {
   "cell_type": "markdown",
   "metadata": {},
   "source": [
    "### Trefoil"
   ]
  },
  {
   "cell_type": "code",
   "execution_count": null,
   "metadata": {},
   "outputs": [],
   "source": [
    "from deeptrack.aberrations import Trefoil\n",
    "aberrated_optics = Fluorescence(\n",
    "    NA = 0.3,\n",
    "    resolution=1e-6,\n",
    "    magnification=10,\n",
    "    wavelength=530e-9,\n",
    "    output_region=(0, 0, 64, 64),\n",
    "    padding=(64, 64, 64, 64),\n",
    "    aberration=Trefoil(coefficient=1)\n",
    ")\n",
    "\n",
    "aberrated_particle = aberrated_optics(particle)\n",
    "\n",
    "plot(unaberrated_particle, aberrated_particle)"
   ]
  }
 ],
 "metadata": {
  "kernelspec": {
   "display_name": "Python 3",
   "language": "python",
   "name": "python3"
  },
  "language_info": {
   "codemirror_mode": {
    "name": "ipython",
    "version": 3
   },
   "file_extension": ".py",
   "mimetype": "text/x-python",
   "name": "python",
   "nbconvert_exporter": "python",
   "pygments_lexer": "ipython3",
   "version": "3.6.9"
  }
 },
 "nbformat": 4,
 "nbformat_minor": 2
}
