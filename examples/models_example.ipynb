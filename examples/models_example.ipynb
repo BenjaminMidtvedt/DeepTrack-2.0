{
 "cells": [
  {
   "cell_type": "code",
   "execution_count": null,
   "metadata": {},
   "outputs": [],
   "source": [
    "%matplotlib inline\n",
    "import sys\n",
    "sys.path.append(\"..\") # Adds the module to path"
   ]
  },
  {
   "cell_type": "markdown",
   "metadata": {},
   "source": [
    "# deeptrack.models\n",
    "\n",
    "This example introduces the module deeptrack.models."
   ]
  },
  {
   "cell_type": "markdown",
   "metadata": {},
   "source": [
    "## What is a model?\n",
    "\n",
    "The module deeptrack.models contains constructors for Keras models with TensorFlow backend, and can be used as standard keras models. Additionally, each model also extends Feature, allowing them to be combined with other features. The method `.get()` of a model calls the method `.predict()` of the underlying keras model on the input image. All models can take an optional argument `add_batch_dimension_on_resolve`, which adds an additional dimension to the input image before the first axis."
   ]
  },
  {
   "cell_type": "markdown",
   "metadata": {},
   "source": [
    "## 1. Convolutional"
   ]
  },
  {
   "cell_type": "code",
   "execution_count": null,
   "metadata": {},
   "outputs": [],
   "source": [
    "from deeptrack.models import convolutional\n",
    "\n",
    "model = convolutional(\n",
    "    input_shape=(64, 64, 1),                  # shape of the input\n",
    "    conv_layers_dimensions=(16, 32, 64, 128), # number of features in each convolutional layer\n",
    "    dense_layers_dimensions=(32, 32),         # number of neurons in each dense layer\n",
    "    number_of_outputs=3,                      # number of neurons in the final dense step (numebr of output values)\n",
    "    output_activation=\"sigmoid\",              # activation function on final layer\n",
    "    loss=\"mse\"                                # loss function\n",
    ")\n",
    "\n",
    "model.summary()"
   ]
  },
  {
   "cell_type": "markdown",
   "metadata": {},
   "source": [
    "## 2. Unet"
   ]
  },
  {
   "cell_type": "code",
   "execution_count": null,
   "metadata": {},
   "outputs": [],
   "source": [
    "from deeptrack.models import unet\n",
    "\n",
    "model = unet(\n",
    "    input_shape=(64, 64, 1),                  # shape of the input\n",
    "    conv_layers_dimensions=(16, 32, 64, 128), # number of features in each convolutional layer\n",
    "    base_conv_layers_dimensions=(256, 256),   # number of features at the base of the unet\n",
    "    output_conv_layers_dimensions=(32, 32),   # number of features in convolutional layer after the U-net\n",
    "    steps_per_pooling=1,                      # number of convolutional layers per pooling layer\n",
    "    number_of_outputs=1,                      # number of output features\n",
    "    output_activation=\"sigmoid\",              # activation function on final layer\n",
    "    loss=\"mse\"                                # loss function\n",
    ")\n",
    "\n",
    "model.summary()"
   ]
  },
  {
   "cell_type": "markdown",
   "metadata": {},
   "source": [
    "## 3. RNN"
   ]
  },
  {
   "cell_type": "code",
   "execution_count": null,
   "metadata": {},
   "outputs": [],
   "source": [
    "from deeptrack.models import rnn\n",
    "\n",
    "model = rnn(\n",
    "    input_shape=(None, 64, 64, 1),              # shape of the input\n",
    "    conv_layers_dimensions=(16, 32, 64),  # number of features in each convolutional layer\n",
    "    dense_layers_dimensions=(32,),        # number of units in each dense layer\n",
    "    rnn_layers_dimensions=(32,),          # number of units in each recurrent layer\n",
    "    steps_per_pooling=1,                  # number of convolutional layers per pooling layer\n",
    "    number_of_outputs=1,                  # number of output features\n",
    "    output_activation=\"sigmoid\",          # activation function on final layer\n",
    "    loss=\"mse\"                            # loss function\n",
    ")\n",
    "\n",
    "model.summary()"
   ]
  }
 ],
 "metadata": {
  "kernelspec": {
   "display_name": "Python 3",
   "language": "python",
   "name": "python3"
  },
  "language_info": {
   "codemirror_mode": {
    "name": "ipython",
    "version": 3
   },
   "file_extension": ".py",
   "mimetype": "text/x-python",
   "name": "python",
   "nbconvert_exporter": "python",
   "pygments_lexer": "ipython3",
   "version": "3.6.9"
  }
 },
 "nbformat": 4,
 "nbformat_minor": 2
}
