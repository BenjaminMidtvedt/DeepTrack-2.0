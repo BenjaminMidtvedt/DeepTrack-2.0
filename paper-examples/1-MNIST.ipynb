{
 "cells": [
  {
   "cell_type": "markdown",
   "metadata": {},
   "source": [
    "# Example 1. MNIST\n",
    "\n",
    "Trains a fully connected neural network to identify handwritten digits using MNIST dataset."
   ]
  },
  {
   "cell_type": "markdown",
   "metadata": {},
   "source": [
    "## 1. Setup\n",
    "\n",
    "Imports and defines the objects needed for this example."
   ]
  },
  {
   "cell_type": "code",
   "execution_count": 1,
   "metadata": {},
   "outputs": [
    {
     "name": "stdout",
     "output_type": "stream",
     "text": [
      "MNIST already downloaded! Use force_overwrite=True to redownload the dataset.\n"
     ]
    }
   ],
   "source": [
    "import os\n",
    "import numpy as np\n",
    "import matplotlib.pyplot as plt\n",
    "import itertools\n",
    "\n",
    "import deeptrack as dt\n",
    "\n",
    "import datasets\n",
    "#Download dataset from the cloud\n",
    "datasets.load(\"MNIST\")\n",
    "\n",
    "PATH_TO_DATASET = os.path.abspath(\"./datasets/MNIST\")\n",
    "\n",
    "TRAINING_SET_PATH = os.path.join(PATH_TO_DATASET, \"training_set.npy\")\n",
    "TRAINING_LABELS_PATH = os.path.join(PATH_TO_DATASET, \"training_labels.npy\")\n",
    "VALIDATION_SET_PATH = os.path.join(PATH_TO_DATASET, \"validation_set.npy\")\n",
    "VALIDATION_LABELS_PATH = os.path.join(PATH_TO_DATASET, \"validation_labels.npy\")\n"
   ]
  },
  {
   "cell_type": "markdown",
   "metadata": {},
   "source": [
    "## 2. Defining the dataset\n",
    "\n",
    "### 2.1 Loading the data\n",
    "\n",
    "The dataset is how we provide the network with training data. For this example we create the dataset by loading it from storage using `LoadImage`."
   ]
  },
  {
   "cell_type": "code",
   "execution_count": 2,
   "metadata": {},
   "outputs": [],
   "source": [
    "# Load the images from storage\n",
    "get_training_images = dt.LoadImage(path=TRAINING_SET_PATH)\n",
    "get_training_labels = dt.LoadImage(path=TRAINING_LABELS_PATH)\n",
    "\n",
    "get_validation_images = dt.LoadImage(path=VALIDATION_SET_PATH)\n",
    "get_validation_labels = dt.LoadImage(path=VALIDATION_LABELS_PATH)"
   ]
  },
  {
   "cell_type": "markdown",
   "metadata": {},
   "source": [
    "Note that we don't load the images yet, we have just created the objects that will do so. First we normalize the data."
   ]
  },
  {
   "cell_type": "code",
   "execution_count": 3,
   "metadata": {},
   "outputs": [],
   "source": [
    "normalization = dt.NormalizeMinMax(0, 1)\n",
    "\n",
    "get_training_images += normalization\n",
    "get_validation_images += normalization"
   ]
  },
  {
   "cell_type": "markdown",
   "metadata": {},
   "source": [
    "Since all training data is contained in a single file, we explicitly load the images"
   ]
  },
  {
   "cell_type": "code",
   "execution_count": 4,
   "metadata": {},
   "outputs": [],
   "source": [
    "training_images = get_training_images.resolve()\n",
    "training_labels = get_training_labels.resolve()\n",
    "\n",
    "validation_images = get_validation_images.resolve()\n",
    "validation_labels = get_validation_labels.resolve()"
   ]
  },
  {
   "cell_type": "markdown",
   "metadata": {},
   "source": [
    "We want to continuously generate new data for the network to train on. For this, we use the Dataset feature."
   ]
  },
  {
   "cell_type": "code",
   "execution_count": 5,
   "metadata": {},
   "outputs": [],
   "source": [
    "training_data_iterator = itertools.cycle(training_images)\n",
    "training_label_iterator = itertools.cycle(training_labels)\n",
    "\n",
    "training_iterator = dt.Dataset(\n",
    "    data=training_data_iterator, \n",
    "    label=training_label_iterator\n",
    ")"
   ]
  },
  {
   "cell_type": "markdown",
   "metadata": {},
   "source": [
    "### 2.2 Augmenting the training set\n",
    "\n",
    "In order to expand the dataset we augment it. "
   ]
  },
  {
   "cell_type": "markdown",
   "metadata": {},
   "source": [
    "Affine augmentations consist of translating, rescaling, rotating and shearing"
   ]
  },
  {
   "cell_type": "code",
   "execution_count": 6,
   "metadata": {
    "scrolled": true
   },
   "outputs": [],
   "source": [
    "# How much to scale in x and y\n",
    "scale = {\n",
    "    \"x\": lambda: 0.8 + np.random.rand() * 0.4,\n",
    "    \"y\": lambda: 0.8 + np.random.rand() * 0.4\n",
    "}\n",
    "\n",
    "# How much to translate in x and y\n",
    "translate_px = {\n",
    "    \"x\": lambda: int(np.random.randint(-2, 3)),\n",
    "    \"y\": lambda: int(np.random.randint(-2, 3))\n",
    "}\n",
    "\n",
    "# Dummy property: whether to rotate or shear\n",
    "should_rotate= lambda: np.random.randint(2)\n",
    "\n",
    "# If should rotate, how much\n",
    "rotate = lambda should_rotate: (-20 + np.random.rand() * 40) * should_rotate\n",
    "\n",
    "# If not should rotate, how much shear\n",
    "shear = lambda should_rotate: (-20 + np.random.rand() * 40) * (1 - should_rotate)\n",
    "\n",
    "affine_transform = dt.Affine(\n",
    "    scale=scale,\n",
    "    translate_px=translate_px,\n",
    "    should_rotate=should_rotate,\n",
    "    shear=shear,   \n",
    "    order=2\n",
    ")"
   ]
  },
  {
   "cell_type": "markdown",
   "metadata": {},
   "source": [
    "We also distort the images elastically."
   ]
  },
  {
   "cell_type": "code",
   "execution_count": 7,
   "metadata": {},
   "outputs": [],
   "source": [
    "elastic_transform = dt.ElasticTransformation(\n",
    "    alpha=lambda: np.random.rand() * 40, # Amplitude of distortions\n",
    "    sigma=lambda: 5 + np.random.rand() * 2, # Granularity of distortions\n",
    ")"
   ]
  },
  {
   "cell_type": "markdown",
   "metadata": {},
   "source": [
    "Finally, since these distortions may cause pixels to fall outside the range of (0, 1), we clip the values."
   ]
  },
  {
   "cell_type": "code",
   "execution_count": 8,
   "metadata": {},
   "outputs": [],
   "source": [
    "clip = dt.Clip(0, 1)"
   ]
  },
  {
   "cell_type": "markdown",
   "metadata": {},
   "source": [
    "We add the augmentations to the pipeline"
   ]
  },
  {
   "cell_type": "code",
   "execution_count": 9,
   "metadata": {},
   "outputs": [],
   "source": [
    "augmented_training_set = training_iterator + elastic_transform + affine_transform + clip"
   ]
  },
  {
   "cell_type": "markdown",
   "metadata": {},
   "source": [
    "### 2.3 Defining the target\n",
    "The training iterator resolves images. We can extract the label that we provided to the Dataset feature by just calling `get_property`."
   ]
  },
  {
   "cell_type": "code",
   "execution_count": 11,
   "metadata": {},
   "outputs": [],
   "source": [
    "def get_label(image):\n",
    "    return image.get_property(\"label\")"
   ]
  },
  {
   "cell_type": "markdown",
   "metadata": {},
   "source": [
    "### 2.3 Visualizing the dataset\n",
    "\n",
    "To ensure the data and the labels match up we plot 8 images print their correspoding label. To convert the objects we created to an numpy array, we call the method `resolve()`. Since we flattened the images we need to reshape the images again to visualize them."
   ]
  },
  {
   "cell_type": "code",
   "execution_count": 12,
   "metadata": {},
   "outputs": [
    {
     "name": "stdout",
     "output_type": "stream",
     "text": [
      "Showing images of the digit 5\n"
     ]
    },
    {
     "data": {
      "image/png": "[encoded data removed]",
      "text/plain": [
       "<Figure size 432x288 with 2 Axes>"
      ]
     },
     "metadata": {
      "needs_background": "light"
     },
     "output_type": "display_data"
    },
    {
     "name": "stdout",
     "output_type": "stream",
     "text": [
      "Showing images of the digit 0\n"
     ]
    },
    {
     "data": {
      "image/png": "[encoded data removed]",
      "text/plain": [
       "<Figure size 432x288 with 2 Axes>"
      ]
     },
     "metadata": {
      "needs_background": "light"
     },
     "output_type": "display_data"
    },
    {
     "name": "stdout",
     "output_type": "stream",
     "text": [
      "Showing images of the digit 4\n"
     ]
    },
    {
     "data": {
      "image/png": "[encoded data removed]",
      "text/plain": [
       "<Figure size 432x288 with 2 Axes>"
      ]
     },
     "metadata": {
      "needs_background": "light"
     },
     "output_type": "display_data"
    },
    {
     "name": "stdout",
     "output_type": "stream",
     "text": [
      "Showing images of the digit 1\n"
     ]
    },
    {
     "data": {
      "image/png": "[encoded data removed]",
      "text/plain": [
       "<Figure size 432x288 with 2 Axes>"
      ]
     },
     "metadata": {
      "needs_background": "light"
     },
     "output_type": "display_data"
    },
    {
     "name": "stdout",
     "output_type": "stream",
     "text": [
      "Showing images of the digit 9\n"
     ]
    },
    {
     "data": {
      "image/png": "[encoded data removed]",
      "text/plain": [
       "<Figure size 432x288 with 2 Axes>"
      ]
     },
     "metadata": {
      "needs_background": "light"
     },
     "output_type": "display_data"
    },
    {
     "name": "stdout",
     "output_type": "stream",
     "text": [
      "Showing images of the digit 2\n"
     ]
    },
    {
     "data": {
      "image/png": "[encoded data removed]",
      "text/plain": [
       "<Figure size 432x288 with 2 Axes>"
      ]
     },
     "metadata": {
      "needs_background": "light"
     },
     "output_type": "display_data"
    },
    {
     "name": "stdout",
     "output_type": "stream",
     "text": [
      "Showing images of the digit 1\n"
     ]
    },
    {
     "data": {
      "image/png": "[encoded data removed]",
      "text/plain": [
       "<Figure size 432x288 with 2 Axes>"
      ]
     },
     "metadata": {
      "needs_background": "light"
     },
     "output_type": "display_data"
    },
    {
     "name": "stdout",
     "output_type": "stream",
     "text": [
      "Showing images of the digit 3\n"
     ]
    },
    {
     "data": {
      "image/png": "[encoded data removed]",
      "text/plain": [
       "<Figure size 432x288 with 2 Axes>"
      ]
     },
     "metadata": {
      "needs_background": "light"
     },
     "output_type": "display_data"
    },
    {
     "name": "stdout",
     "output_type": "stream",
     "text": [
      "Showing images of the digit 1\n"
     ]
    },
    {
     "data": {
      "image/png": "[encoded data removed]",
      "text/plain": [
       "<Figure size 432x288 with 2 Axes>"
      ]
     },
     "metadata": {
      "needs_background": "light"
     },
     "output_type": "display_data"
    },
    {
     "name": "stdout",
     "output_type": "stream",
     "text": [
      "Showing images of the digit 4\n"
     ]
    },
    {
     "data": {
      "image/png": "[encoded data removed]",
      "text/plain": [
       "<Figure size 432x288 with 2 Axes>"
      ]
     },
     "metadata": {
      "needs_background": "light"
     },
     "output_type": "display_data"
    },
    {
     "name": "stdout",
     "output_type": "stream",
     "text": [
      "Showing images of the digit 3\n"
     ]
    },
    {
     "data": {
      "image/png": "[encoded data removed]",
      "text/plain": [
       "<Figure size 432x288 with 2 Axes>"
      ]
     },
     "metadata": {
      "needs_background": "light"
     },
     "output_type": "display_data"
    },
    {
     "name": "stdout",
     "output_type": "stream",
     "text": [
      "Showing images of the digit 5\n"
     ]
    },
    {
     "data": {
      "image/png": "[encoded data removed]",
      "text/plain": [
       "<Figure size 432x288 with 2 Axes>"
      ]
     },
     "metadata": {
      "needs_background": "light"
     },
     "output_type": "display_data"
    },
    {
     "name": "stdout",
     "output_type": "stream",
     "text": [
      "Showing images of the digit 3\n"
     ]
    },
    {
     "data": {
      "image/png": "[encoded data removed]",
      "text/plain": [
       "<Figure size 432x288 with 2 Axes>"
      ]
     },
     "metadata": {
      "needs_background": "light"
     },
     "output_type": "display_data"
    },
    {
     "name": "stdout",
     "output_type": "stream",
     "text": [
      "Showing images of the digit 6\n"
     ]
    },
    {
     "data": {
      "image/png": "[encoded data removed]",
      "text/plain": [
       "<Figure size 432x288 with 2 Axes>"
      ]
     },
     "metadata": {
      "needs_background": "light"
     },
     "output_type": "display_data"
    },
    {
     "name": "stdout",
     "output_type": "stream",
     "text": [
      "Showing images of the digit 1\n"
     ]
    },
    {
     "data": {
      "image/png": "[encoded data removed]",
      "text/plain": [
       "<Figure size 432x288 with 2 Axes>"
      ]
     },
     "metadata": {
      "needs_background": "light"
     },
     "output_type": "display_data"
    },
    {
     "name": "stdout",
     "output_type": "stream",
     "text": [
      "Showing images of the digit 7\n"
     ]
    },
    {
     "data": {
      "image/png": "[encoded data removed]",
      "text/plain": [
       "<Figure size 432x288 with 2 Axes>"
      ]
     },
     "metadata": {
      "needs_background": "light"
     },
     "output_type": "display_data"
    },
    {
     "name": "stdout",
     "output_type": "stream",
     "text": [
      "Showing images of the digit 2\n"
     ]
    },
    {
     "data": {
      "image/png": "[encoded data removed]",
      "text/plain": [
       "<Figure size 432x288 with 2 Axes>"
      ]
     },
     "metadata": {
      "needs_background": "light"
     },
     "output_type": "display_data"
    },
    {
     "name": "stdout",
     "output_type": "stream",
     "text": [
      "Showing images of the digit 8\n"
     ]
    },
    {
     "data": {
      "image/png": "[encoded data removed]",
      "text/plain": [
       "<Figure size 432x288 with 2 Axes>"
      ]
     },
     "metadata": {
      "needs_background": "light"
     },
     "output_type": "display_data"
    },
    {
     "name": "stdout",
     "output_type": "stream",
     "text": [
      "Showing images of the digit 6\n"
     ]
    },
    {
     "data": {
      "image/png": "[encoded data removed]",
      "text/plain": [
       "<Figure size 432x288 with 2 Axes>"
      ]
     },
     "metadata": {
      "needs_background": "light"
     },
     "output_type": "display_data"
    },
    {
     "name": "stdout",
     "output_type": "stream",
     "text": [
      "Showing images of the digit 9\n"
     ]
    },
    {
     "data": {
      "image/png": "[encoded data removed]",
      "text/plain": [
       "<Figure size 432x288 with 2 Axes>"
      ]
     },
     "metadata": {
      "needs_background": "light"
     },
     "output_type": "display_data"
    },
    {
     "name": "stdout",
     "output_type": "stream",
     "text": [
      "Showing images of the digit 4\n"
     ]
    },
    {
     "data": {
      "image/png": "[encoded data removed]",
      "text/plain": [
       "<Figure size 432x288 with 2 Axes>"
      ]
     },
     "metadata": {
      "needs_background": "light"
     },
     "output_type": "display_data"
    },
    {
     "name": "stdout",
     "output_type": "stream",
     "text": [
      "Showing images of the digit 0\n"
     ]
    },
    {
     "data": {
      "image/png": "[encoded data removed]",
      "text/plain": [
       "<Figure size 432x288 with 2 Axes>"
      ]
     },
     "metadata": {
      "needs_background": "light"
     },
     "output_type": "display_data"
    },
    {
     "name": "stdout",
     "output_type": "stream",
     "text": [
      "Showing images of the digit 9\n"
     ]
    },
    {
     "data": {
      "image/png": "[encoded data removed]",
      "text/plain": [
       "<Figure size 432x288 with 2 Axes>"
      ]
     },
     "metadata": {
      "needs_background": "light"
     },
     "output_type": "display_data"
    },
    {
     "name": "stdout",
     "output_type": "stream",
     "text": [
      "Showing images of the digit 1\n"
     ]
    },
    {
     "data": {
      "image/png": "[encoded data removed]",
      "text/plain": [
       "<Figure size 432x288 with 2 Axes>"
      ]
     },
     "metadata": {
      "needs_background": "light"
     },
     "output_type": "display_data"
    },
    {
     "name": "stdout",
     "output_type": "stream",
     "text": [
      "Showing images of the digit 1\n"
     ]
    },
    {
     "data": {
      "image/png": "[encoded data removed]",
      "text/plain": [
       "<Figure size 432x288 with 2 Axes>"
      ]
     },
     "metadata": {
      "needs_background": "light"
     },
     "output_type": "display_data"
    },
    {
     "name": "stdout",
     "output_type": "stream",
     "text": [
      "Showing images of the digit 2\n"
     ]
    },
    {
     "data": {
      "image/png": "[encoded data removed]",
      "text/plain": [
       "<Figure size 432x288 with 2 Axes>"
      ]
     },
     "metadata": {
      "needs_background": "light"
     },
     "output_type": "display_data"
    },
    {
     "name": "stdout",
     "output_type": "stream",
     "text": [
      "Showing images of the digit 4\n"
     ]
    },
    {
     "data": {
      "image/png": "[encoded data removed]",
      "text/plain": [
       "<Figure size 432x288 with 2 Axes>"
      ]
     },
     "metadata": {
      "needs_background": "light"
     },
     "output_type": "display_data"
    },
    {
     "name": "stdout",
     "output_type": "stream",
     "text": [
      "Showing images of the digit 3\n"
     ]
    },
    {
     "data": {
      "image/png": "[encoded data removed]",
      "text/plain": [
       "<Figure size 432x288 with 2 Axes>"
      ]
     },
     "metadata": {
      "needs_background": "light"
     },
     "output_type": "display_data"
    },
    {
     "name": "stdout",
     "output_type": "stream",
     "text": [
      "Showing images of the digit 2\n"
     ]
    },
    {
     "data": {
      "image/png": "[encoded data removed]",
      "text/plain": [
       "<Figure size 432x288 with 2 Axes>"
      ]
     },
     "metadata": {
      "needs_background": "light"
     },
     "output_type": "display_data"
    },
    {
     "name": "stdout",
     "output_type": "stream",
     "text": [
      "Showing images of the digit 7\n"
     ]
    },
    {
     "data": {
      "image/png": "[encoded data removed]",
      "text/plain": [
       "<Figure size 432x288 with 2 Axes>"
      ]
     },
     "metadata": {
      "needs_background": "light"
     },
     "output_type": "display_data"
    },
    {
     "name": "stdout",
     "output_type": "stream",
     "text": [
      "Showing images of the digit 3\n"
     ]
    },
    {
     "data": {
      "image/png": "[encoded data removed]",
      "text/plain": [
       "<Figure size 432x288 with 2 Axes>"
      ]
     },
     "metadata": {
      "needs_background": "light"
     },
     "output_type": "display_data"
    },
    {
     "name": "stdout",
     "output_type": "stream",
     "text": [
      "Showing images of the digit 8\n"
     ]
    },
    {
     "data": {
      "image/png": "[encoded data removed]",
      "text/plain": [
       "<Figure size 432x288 with 2 Axes>"
      ]
     },
     "metadata": {
      "needs_background": "light"
     },
     "output_type": "display_data"
    }
   ],
   "source": [
    "NUMBER_OF_IMAGES = 32\n",
    "\n",
    "for image_index in range(NUMBER_OF_IMAGES):\n",
    "    \n",
    "    augmented_training_set.update()\n",
    "    \n",
    "    original_image = training_iterator.resolve()\n",
    "    augmented_image = augmented_training_set.resolve()\n",
    "    \n",
    "    plt.subplot(1, 2, 1)\n",
    "    plt.imshow(original_image)\n",
    "    plt.title(\"Original image\")\n",
    "    \n",
    "    plt.subplot(1, 2, 2)\n",
    "    plt.imshow(augmented_image)\n",
    "    plt.title(\"Augmented image\")\n",
    "    \n",
    "    print(\"Showing images of the digit \" + str(get_label(original_image)))\n",
    "    plt.show()"
   ]
  },
  {
   "cell_type": "markdown",
   "metadata": {},
   "source": [
    "## 3. Defining the network\n",
    "\n",
    "The network used is a fully connected neural network. Here we define the network architecture, loss function and the optimizer."
   ]
  },
  {
   "cell_type": "code",
   "execution_count": 13,
   "metadata": {},
   "outputs": [],
   "source": [
    "model = dt.models.FullyConnected(\n",
    "    input_shape=(28, 28),\n",
    "    dense_layers_dimensions=(2000, 1500, 1000, 500),\n",
    "    number_of_outputs=10,\n",
    "    dropout=(0.25, 0.25),\n",
    "    output_activation=\"softmax\",\n",
    "    loss=\"sparse_categorical_crossentropy\",\n",
    "    metrics=[\"accuracy\"],\n",
    "    optimizer=\"rmsprop\"\n",
    ")"
   ]
  },
  {
   "cell_type": "markdown",
   "metadata": {},
   "source": [
    "## 4. Training the network\n",
    "\n",
    "The network is trained for 100 epochs using standard Keras syntax."
   ]
  },
  {
   "cell_type": "code",
   "execution_count": 14,
   "metadata": {
    "scrolled": true
   },
   "outputs": [
    {
     "name": "stdout",
     "output_type": "stream",
     "text": [
      "Epoch 1/2000\n",
      "100/100 [==============================] - 31s 308ms/step - loss: 2.4124 - accuracy: 0.2489 - val_loss: 1.5116 - val_accuracy: 0.4452\n",
      "Epoch 2/2000\n",
      "100/100 [==============================] - 31s 306ms/step - loss: 1.5748 - accuracy: 0.4641 - val_loss: 0.9038 - val_accuracy: 0.6482\n",
      "Epoch 3/2000\n",
      "100/100 [==============================] - 31s 312ms/step - loss: 1.3007 - accuracy: 0.5653 - val_loss: 0.6323 - val_accuracy: 0.8200\n",
      "Epoch 4/2000\n",
      "100/100 [==============================] - 36s 365ms/step - loss: 1.0567 - accuracy: 0.6469 - val_loss: 0.4373 - val_accuracy: 0.8564\n",
      "Epoch 5/2000\n",
      "100/100 [==============================] - 36s 363ms/step - loss: 0.9671 - accuracy: 0.6845 - val_loss: 0.3998 - val_accuracy: 0.8746\n",
      "Epoch 6/2000\n",
      "100/100 [==============================] - 34s 341ms/step - loss: 0.8479 - accuracy: 0.7252 - val_loss: 0.3904 - val_accuracy: 0.8747\n",
      "Epoch 7/2000\n",
      "100/100 [==============================] - 35s 351ms/step - loss: 0.7552 - accuracy: 0.7519 - val_loss: 0.3211 - val_accuracy: 0.9018\n",
      "Epoch 8/2000\n",
      "100/100 [==============================] - 34s 340ms/step - loss: 0.7365 - accuracy: 0.7547 - val_loss: 0.2776 - val_accuracy: 0.9164\n",
      "Epoch 9/2000\n",
      "100/100 [==============================] - 37s 367ms/step - loss: 0.6407 - accuracy: 0.7961 - val_loss: 0.3287 - val_accuracy: 0.9008\n",
      "Epoch 10/2000\n",
      "100/100 [==============================] - 49s 487ms/step - loss: 0.5733 - accuracy: 0.8202 - val_loss: 0.2985 - val_accuracy: 0.9024\n",
      "Epoch 11/2000\n",
      "100/100 [==============================] - 42s 415ms/step - loss: 0.6025 - accuracy: 0.8091 - val_loss: 0.2371 - val_accuracy: 0.9247\n",
      "Epoch 12/2000\n",
      "100/100 [==============================] - 43s 428ms/step - loss: 0.5819 - accuracy: 0.8144 - val_loss: 0.2629 - val_accuracy: 0.9136\n",
      "Epoch 13/2000\n",
      "100/100 [==============================] - 40s 401ms/step - loss: 0.5549 - accuracy: 0.8233 - val_loss: 0.2050 - val_accuracy: 0.9377\n",
      "Epoch 14/2000\n",
      "100/100 [==============================] - 38s 378ms/step - loss: 0.5700 - accuracy: 0.8152 - val_loss: 0.2072 - val_accuracy: 0.9329\n",
      "Epoch 15/2000\n",
      "100/100 [==============================] - 42s 421ms/step - loss: 0.5448 - accuracy: 0.8280 - val_loss: 0.1995 - val_accuracy: 0.9381\n",
      "Epoch 16/2000\n",
      "100/100 [==============================] - 39s 392ms/step - loss: 0.5526 - accuracy: 0.8181 - val_loss: 0.1784 - val_accuracy: 0.9461\n",
      "Epoch 17/2000\n",
      "100/100 [==============================] - 39s 388ms/step - loss: 0.4945 - accuracy: 0.8453 - val_loss: 0.1666 - val_accuracy: 0.9484\n",
      "Epoch 18/2000\n",
      "100/100 [==============================] - 39s 386ms/step - loss: 0.4998 - accuracy: 0.8447 - val_loss: 0.1596 - val_accuracy: 0.9522\n",
      "Epoch 19/2000\n",
      "100/100 [==============================] - 39s 390ms/step - loss: 0.4419 - accuracy: 0.8616 - val_loss: 0.1568 - val_accuracy: 0.9530\n",
      "Epoch 20/2000\n",
      "100/100 [==============================] - 37s 373ms/step - loss: 0.4408 - accuracy: 0.8603 - val_loss: 0.1548 - val_accuracy: 0.9555\n",
      "Epoch 21/2000\n",
      "100/100 [==============================] - 36s 364ms/step - loss: 0.4733 - accuracy: 0.8511 - val_loss: 0.1838 - val_accuracy: 0.9465\n",
      "Epoch 22/2000\n",
      "100/100 [==============================] - 35s 350ms/step - loss: 0.4532 - accuracy: 0.8592 - val_loss: 0.1984 - val_accuracy: 0.9385\n",
      "Epoch 23/2000\n",
      "100/100 [==============================] - 38s 375ms/step - loss: 0.4560 - accuracy: 0.8575 - val_loss: 0.1552 - val_accuracy: 0.9562\n",
      "Epoch 24/2000\n",
      "100/100 [==============================] - 37s 368ms/step - loss: 0.4574 - accuracy: 0.8553 - val_loss: 0.1316 - val_accuracy: 0.9615\n",
      "Epoch 25/2000\n",
      "100/100 [==============================] - 36s 365ms/step - loss: 0.4619 - accuracy: 0.8520 - val_loss: 0.1854 - val_accuracy: 0.9410\n",
      "Epoch 26/2000\n",
      "100/100 [==============================] - 38s 385ms/step - loss: 0.4493 - accuracy: 0.8558 - val_loss: 0.1412 - val_accuracy: 0.9563\n",
      "Epoch 27/2000\n",
      "100/100 [==============================] - 37s 370ms/step - loss: 0.4302 - accuracy: 0.8609 - val_loss: 0.2008 - val_accuracy: 0.9340\n",
      "Epoch 28/2000\n",
      "100/100 [==============================] - 37s 366ms/step - loss: 0.3636 - accuracy: 0.8841 - val_loss: 0.1916 - val_accuracy: 0.9374\n",
      "Epoch 29/2000\n",
      "100/100 [==============================] - 36s 356ms/step - loss: 0.4014 - accuracy: 0.8816 - val_loss: 0.1349 - val_accuracy: 0.9600\n",
      "Epoch 30/2000\n",
      "100/100 [==============================] - 37s 370ms/step - loss: 0.4138 - accuracy: 0.8686 - val_loss: 0.1317 - val_accuracy: 0.9592\n",
      "Epoch 31/2000\n",
      "100/100 [==============================] - 36s 364ms/step - loss: 0.4281 - accuracy: 0.8662 - val_loss: 0.1306 - val_accuracy: 0.9596\n",
      "Epoch 32/2000\n",
      "100/100 [==============================] - 36s 364ms/step - loss: 0.4021 - accuracy: 0.8792 - val_loss: 0.1541 - val_accuracy: 0.9524\n",
      "Epoch 33/2000\n",
      "100/100 [==============================] - 37s 368ms/step - loss: 0.3925 - accuracy: 0.8820 - val_loss: 0.1151 - val_accuracy: 0.9663\n",
      "Epoch 34/2000\n",
      "100/100 [==============================] - 39s 385ms/step - loss: 0.4103 - accuracy: 0.8697 - val_loss: 0.1275 - val_accuracy: 0.9619\n",
      "Epoch 35/2000\n",
      "100/100 [==============================] - 37s 371ms/step - loss: 0.3886 - accuracy: 0.8805 - val_loss: 0.1446 - val_accuracy: 0.9553\n",
      "Epoch 36/2000\n",
      "100/100 [==============================] - 37s 368ms/step - loss: 0.3992 - accuracy: 0.8748 - val_loss: 0.1227 - val_accuracy: 0.9625\n",
      "Epoch 37/2000\n",
      "100/100 [==============================] - 36s 359ms/step - loss: 0.3542 - accuracy: 0.8891 - val_loss: 0.1082 - val_accuracy: 0.9658\n",
      "Epoch 38/2000\n",
      "100/100 [==============================] - 36s 357ms/step - loss: 0.3278 - accuracy: 0.9008 - val_loss: 0.1163 - val_accuracy: 0.9619\n",
      "Epoch 39/2000\n",
      "100/100 [==============================] - 36s 357ms/step - loss: 0.3860 - accuracy: 0.8789 - val_loss: 0.1067 - val_accuracy: 0.9665\n",
      "Epoch 40/2000\n",
      "100/100 [==============================] - 36s 356ms/step - loss: 0.3763 - accuracy: 0.8773 - val_loss: 0.1257 - val_accuracy: 0.9604\n",
      "Epoch 41/2000\n",
      "100/100 [==============================] - 36s 359ms/step - loss: 0.3542 - accuracy: 0.8855 - val_loss: 0.1123 - val_accuracy: 0.9640\n",
      "Epoch 42/2000\n",
      "100/100 [==============================] - 35s 354ms/step - loss: 0.3652 - accuracy: 0.8877 - val_loss: 0.1175 - val_accuracy: 0.9637\n",
      "Epoch 43/2000\n",
      "100/100 [==============================] - 35s 350ms/step - loss: 0.3722 - accuracy: 0.8822 - val_loss: 0.1090 - val_accuracy: 0.9665\n",
      "Epoch 44/2000\n",
      "100/100 [==============================] - 35s 346ms/step - loss: 0.3428 - accuracy: 0.8939 - val_loss: 0.1272 - val_accuracy: 0.9611\n",
      "Epoch 45/2000\n",
      "100/100 [==============================] - 35s 347ms/step - loss: 0.3590 - accuracy: 0.8913 - val_loss: 0.1037 - val_accuracy: 0.9666\n",
      "Epoch 46/2000\n",
      "100/100 [==============================] - 34s 335ms/step - loss: 0.3599 - accuracy: 0.8841 - val_loss: 0.0976 - val_accuracy: 0.9694\n",
      "Epoch 47/2000\n",
      "100/100 [==============================] - 34s 342ms/step - loss: 0.3202 - accuracy: 0.9009 - val_loss: 0.1137 - val_accuracy: 0.9648\n",
      "Epoch 48/2000\n",
      "100/100 [==============================] - 35s 347ms/step - loss: 0.3204 - accuracy: 0.8998 - val_loss: 0.0929 - val_accuracy: 0.9701\n",
      "Epoch 49/2000\n",
      "100/100 [==============================] - 34s 341ms/step - loss: 0.3378 - accuracy: 0.8961 - val_loss: 0.0990 - val_accuracy: 0.9707\n",
      "Epoch 50/2000\n",
      "100/100 [==============================] - 35s 346ms/step - loss: 0.3401 - accuracy: 0.8931 - val_loss: 0.1321 - val_accuracy: 0.9576\n",
      "Epoch 51/2000\n",
      "100/100 [==============================] - 35s 351ms/step - loss: 0.3162 - accuracy: 0.8973 - val_loss: 0.1272 - val_accuracy: 0.9610\n",
      "Epoch 52/2000\n",
      "100/100 [==============================] - 36s 357ms/step - loss: 0.3486 - accuracy: 0.8930 - val_loss: 0.1125 - val_accuracy: 0.9650\n",
      "Epoch 53/2000\n",
      "100/100 [==============================] - 35s 347ms/step - loss: 0.3432 - accuracy: 0.8941 - val_loss: 0.0976 - val_accuracy: 0.9697\n",
      "Epoch 54/2000\n",
      "100/100 [==============================] - 36s 356ms/step - loss: 0.3464 - accuracy: 0.8923 - val_loss: 0.1012 - val_accuracy: 0.9693\n",
      "Epoch 55/2000\n",
      "100/100 [==============================] - 35s 349ms/step - loss: 0.3349 - accuracy: 0.8944 - val_loss: 0.0983 - val_accuracy: 0.9713\n",
      "Epoch 56/2000\n",
      "100/100 [==============================] - 35s 346ms/step - loss: 0.3082 - accuracy: 0.8972 - val_loss: 0.1218 - val_accuracy: 0.9619\n",
      "Epoch 57/2000\n",
      "100/100 [==============================] - 35s 346ms/step - loss: 0.2907 - accuracy: 0.9125 - val_loss: 0.1019 - val_accuracy: 0.9680\n",
      "Epoch 58/2000\n",
      "100/100 [==============================] - 35s 347ms/step - loss: 0.3301 - accuracy: 0.8938 - val_loss: 0.0878 - val_accuracy: 0.9724\n",
      "Epoch 59/2000\n",
      "100/100 [==============================] - 35s 350ms/step - loss: 0.3304 - accuracy: 0.8933 - val_loss: 0.0937 - val_accuracy: 0.9724\n",
      "Epoch 60/2000\n",
      "100/100 [==============================] - 36s 359ms/step - loss: 0.3129 - accuracy: 0.9017 - val_loss: 0.1002 - val_accuracy: 0.9681\n",
      "Epoch 61/2000\n",
      "100/100 [==============================] - 37s 373ms/step - loss: 0.3232 - accuracy: 0.9003 - val_loss: 0.0856 - val_accuracy: 0.9732\n",
      "Epoch 62/2000\n",
      "100/100 [==============================] - 36s 362ms/step - loss: 0.3248 - accuracy: 0.8950 - val_loss: 0.1051 - val_accuracy: 0.9677\n",
      "Epoch 63/2000\n",
      "100/100 [==============================] - 35s 354ms/step - loss: 0.3146 - accuracy: 0.8989 - val_loss: 0.1093 - val_accuracy: 0.9660\n",
      "Epoch 64/2000\n",
      "100/100 [==============================] - 35s 349ms/step - loss: 0.3104 - accuracy: 0.9002 - val_loss: 0.0982 - val_accuracy: 0.9701\n",
      "Epoch 65/2000\n",
      "100/100 [==============================] - 35s 347ms/step - loss: 0.3105 - accuracy: 0.9027 - val_loss: 0.1178 - val_accuracy: 0.9637\n",
      "Epoch 66/2000\n",
      "100/100 [==============================] - 35s 351ms/step - loss: 0.2819 - accuracy: 0.9180 - val_loss: 0.0962 - val_accuracy: 0.9708\n",
      "Epoch 67/2000\n",
      "100/100 [==============================] - 34s 345ms/step - loss: 0.2927 - accuracy: 0.9112 - val_loss: 0.1009 - val_accuracy: 0.9688\n",
      "Epoch 68/2000\n",
      "100/100 [==============================] - 35s 353ms/step - loss: 0.3138 - accuracy: 0.9013 - val_loss: 0.0880 - val_accuracy: 0.9716\n",
      "Epoch 69/2000\n",
      "100/100 [==============================] - 36s 358ms/step - loss: 0.3132 - accuracy: 0.9041 - val_loss: 0.0981 - val_accuracy: 0.9704\n",
      "Epoch 70/2000\n",
      "100/100 [==============================] - 35s 346ms/step - loss: 0.3005 - accuracy: 0.9050 - val_loss: 0.0941 - val_accuracy: 0.9682\n",
      "Epoch 71/2000\n",
      "100/100 [==============================] - 34s 344ms/step - loss: 0.3145 - accuracy: 0.9003 - val_loss: 0.0838 - val_accuracy: 0.9729\n",
      "Epoch 72/2000\n",
      "100/100 [==============================] - 35s 353ms/step - loss: 0.3018 - accuracy: 0.9016 - val_loss: 0.0824 - val_accuracy: 0.9750\n",
      "Epoch 73/2000\n",
      "100/100 [==============================] - 34s 345ms/step - loss: 0.3191 - accuracy: 0.8992 - val_loss: 0.0794 - val_accuracy: 0.9766\n",
      "Epoch 74/2000\n",
      "100/100 [==============================] - 35s 351ms/step - loss: 0.3211 - accuracy: 0.8977 - val_loss: 0.0814 - val_accuracy: 0.9743\n",
      "Epoch 75/2000\n",
      "100/100 [==============================] - 33s 334ms/step - loss: 0.2703 - accuracy: 0.9170 - val_loss: 0.0966 - val_accuracy: 0.9692\n",
      "Epoch 76/2000\n",
      "100/100 [==============================] - 35s 350ms/step - loss: 0.2740 - accuracy: 0.9155 - val_loss: 0.1067 - val_accuracy: 0.9654\n",
      "Epoch 77/2000\n",
      "100/100 [==============================] - 35s 350ms/step - loss: 0.3082 - accuracy: 0.9017 - val_loss: 0.0933 - val_accuracy: 0.9711\n",
      "Epoch 78/2000\n",
      "100/100 [==============================] - 36s 363ms/step - loss: 0.3090 - accuracy: 0.9033 - val_loss: 0.0876 - val_accuracy: 0.9725\n",
      "Epoch 79/2000\n",
      "100/100 [==============================] - 35s 346ms/step - loss: 0.3035 - accuracy: 0.9069 - val_loss: 0.0970 - val_accuracy: 0.9693\n",
      "Epoch 80/2000\n",
      "100/100 [==============================] - 34s 342ms/step - loss: 0.3065 - accuracy: 0.9048 - val_loss: 0.0830 - val_accuracy: 0.9759\n",
      "Epoch 81/2000\n",
      "100/100 [==============================] - 34s 340ms/step - loss: 0.3009 - accuracy: 0.9067 - val_loss: 0.0976 - val_accuracy: 0.9701\n",
      "Epoch 82/2000\n",
      "100/100 [==============================] - 35s 350ms/step - loss: 0.2908 - accuracy: 0.9094 - val_loss: 0.0789 - val_accuracy: 0.9755\n",
      "Epoch 83/2000\n",
      "100/100 [==============================] - 35s 353ms/step - loss: 0.3181 - accuracy: 0.8984 - val_loss: 0.0786 - val_accuracy: 0.9743\n",
      "Epoch 84/2000\n",
      "100/100 [==============================] - 35s 355ms/step - loss: 0.2930 - accuracy: 0.9108 - val_loss: 0.0914 - val_accuracy: 0.9727\n",
      "Epoch 85/2000\n",
      "100/100 [==============================] - 34s 343ms/step - loss: 0.2520 - accuracy: 0.9228 - val_loss: 0.0840 - val_accuracy: 0.9739\n",
      "Epoch 86/2000\n",
      "100/100 [==============================] - 34s 344ms/step - loss: 0.2976 - accuracy: 0.9066 - val_loss: 0.0902 - val_accuracy: 0.9690\n",
      "Epoch 87/2000\n",
      "100/100 [==============================] - 36s 362ms/step - loss: 0.2949 - accuracy: 0.9075 - val_loss: 0.0774 - val_accuracy: 0.9762\n",
      "Epoch 88/2000\n",
      "100/100 [==============================] - 34s 337ms/step - loss: 0.2659 - accuracy: 0.9109 - val_loss: 0.0781 - val_accuracy: 0.9751\n",
      "Epoch 89/2000\n",
      "100/100 [==============================] - 35s 347ms/step - loss: 0.2933 - accuracy: 0.9081 - val_loss: 0.0934 - val_accuracy: 0.9704\n",
      "Epoch 90/2000\n",
      "100/100 [==============================] - 35s 349ms/step - loss: 0.3030 - accuracy: 0.9066 - val_loss: 0.0831 - val_accuracy: 0.9755\n",
      "Epoch 91/2000\n",
      "100/100 [==============================] - 35s 351ms/step - loss: 0.2962 - accuracy: 0.9097 - val_loss: 0.0860 - val_accuracy: 0.9734\n",
      "Epoch 92/2000\n",
      "100/100 [==============================] - 36s 355ms/step - loss: 0.2834 - accuracy: 0.9114 - val_loss: 0.0785 - val_accuracy: 0.9757\n",
      "Epoch 93/2000\n",
      "100/100 [==============================] - 35s 348ms/step - loss: 0.2980 - accuracy: 0.9048 - val_loss: 0.0798 - val_accuracy: 0.9767\n",
      "Epoch 94/2000\n",
      "100/100 [==============================] - 36s 355ms/step - loss: 0.2629 - accuracy: 0.9198 - val_loss: 0.0797 - val_accuracy: 0.9742\n",
      "Epoch 95/2000\n",
      "100/100 [==============================] - 35s 350ms/step - loss: 0.2618 - accuracy: 0.9189 - val_loss: 0.1028 - val_accuracy: 0.9672\n",
      "Epoch 96/2000\n",
      "100/100 [==============================] - 36s 363ms/step - loss: 0.2748 - accuracy: 0.9103 - val_loss: 0.0742 - val_accuracy: 0.9771\n",
      "Epoch 97/2000\n",
      "100/100 [==============================] - 35s 349ms/step - loss: 0.2940 - accuracy: 0.9086 - val_loss: 0.0938 - val_accuracy: 0.9718\n",
      "Epoch 98/2000\n",
      "100/100 [==============================] - 34s 343ms/step - loss: 0.2645 - accuracy: 0.9181 - val_loss: 0.0857 - val_accuracy: 0.9743\n",
      "Epoch 99/2000\n",
      "100/100 [==============================] - 34s 343ms/step - loss: 0.2886 - accuracy: 0.9141 - val_loss: 0.0880 - val_accuracy: 0.9713\n",
      "Epoch 100/2000\n",
      "100/100 [==============================] - 35s 348ms/step - loss: 0.2753 - accuracy: 0.9161 - val_loss: 0.0833 - val_accuracy: 0.9738\n",
      "Epoch 101/2000\n",
      "100/100 [==============================] - 36s 363ms/step - loss: 0.2961 - accuracy: 0.9108 - val_loss: 0.0813 - val_accuracy: 0.9741\n",
      "Epoch 102/2000\n",
      "100/100 [==============================] - 35s 353ms/step - loss: 0.2719 - accuracy: 0.9144 - val_loss: 0.0880 - val_accuracy: 0.9733\n",
      "Epoch 103/2000\n",
      "100/100 [==============================] - 35s 352ms/step - loss: 0.2490 - accuracy: 0.9234 - val_loss: 0.0800 - val_accuracy: 0.9742\n",
      "Epoch 104/2000\n",
      "100/100 [==============================] - 35s 350ms/step - loss: 0.2706 - accuracy: 0.9231 - val_loss: 0.0792 - val_accuracy: 0.9738\n",
      "Epoch 105/2000\n",
      "100/100 [==============================] - 36s 356ms/step - loss: 0.2941 - accuracy: 0.9092 - val_loss: 0.0821 - val_accuracy: 0.9727\n",
      "Epoch 106/2000\n",
      "100/100 [==============================] - 35s 350ms/step - loss: 0.2932 - accuracy: 0.9053 - val_loss: 0.0774 - val_accuracy: 0.9761\n",
      "Epoch 107/2000\n",
      "100/100 [==============================] - 34s 341ms/step - loss: 0.2761 - accuracy: 0.9125 - val_loss: 0.0830 - val_accuracy: 0.9761\n",
      "Epoch 108/2000\n",
      "100/100 [==============================] - 35s 348ms/step - loss: 0.2728 - accuracy: 0.9136 - val_loss: 0.0947 - val_accuracy: 0.9705\n",
      "Epoch 109/2000\n",
      "100/100 [==============================] - 35s 355ms/step - loss: 0.2755 - accuracy: 0.9153 - val_loss: 0.0815 - val_accuracy: 0.9752\n",
      "Epoch 110/2000\n",
      "100/100 [==============================] - 36s 356ms/step - loss: 0.2800 - accuracy: 0.9127 - val_loss: 0.0717 - val_accuracy: 0.9778\n",
      "Epoch 111/2000\n"
     ]
    },
    {
     "name": "stdout",
     "output_type": "stream",
     "text": [
      "100/100 [==============================] - 35s 350ms/step - loss: 0.2874 - accuracy: 0.9119 - val_loss: 0.0784 - val_accuracy: 0.9740\n",
      "Epoch 112/2000\n",
      "100/100 [==============================] - 35s 353ms/step - loss: 0.2694 - accuracy: 0.9134 - val_loss: 0.0834 - val_accuracy: 0.9744\n",
      "Epoch 113/2000\n",
      "100/100 [==============================] - 35s 354ms/step - loss: 0.2328 - accuracy: 0.9300 - val_loss: 0.0791 - val_accuracy: 0.9751\n",
      "Epoch 114/2000\n",
      "100/100 [==============================] - 34s 337ms/step - loss: 0.2609 - accuracy: 0.9228 - val_loss: 0.0717 - val_accuracy: 0.9772\n",
      "Epoch 115/2000\n",
      "100/100 [==============================] - 34s 341ms/step - loss: 0.2776 - accuracy: 0.9153 - val_loss: 0.0832 - val_accuracy: 0.9723\n",
      "Epoch 116/2000\n",
      "100/100 [==============================] - 32s 322ms/step - loss: 0.2721 - accuracy: 0.9172 - val_loss: 0.0799 - val_accuracy: 0.9763\n",
      "Epoch 117/2000\n",
      "100/100 [==============================] - 33s 334ms/step - loss: 0.2736 - accuracy: 0.9164 - val_loss: 0.0753 - val_accuracy: 0.9759\n",
      "Epoch 118/2000\n",
      "100/100 [==============================] - 32s 321ms/step - loss: 0.2888 - accuracy: 0.9114 - val_loss: 0.0784 - val_accuracy: 0.9764\n",
      "Epoch 119/2000\n",
      "100/100 [==============================] - 34s 342ms/step - loss: 0.2796 - accuracy: 0.9134 - val_loss: 0.0781 - val_accuracy: 0.9751\n",
      "Epoch 120/2000\n",
      "100/100 [==============================] - 33s 328ms/step - loss: 0.2872 - accuracy: 0.9127 - val_loss: 0.0722 - val_accuracy: 0.9785\n",
      "Epoch 121/2000\n",
      "100/100 [==============================] - 34s 342ms/step - loss: 0.2765 - accuracy: 0.9106 - val_loss: 0.0713 - val_accuracy: 0.9777\n",
      "Epoch 122/2000\n",
      "100/100 [==============================] - 34s 341ms/step - loss: 0.2336 - accuracy: 0.9273 - val_loss: 0.0720 - val_accuracy: 0.9782\n",
      "Epoch 123/2000\n",
      "100/100 [==============================] - 33s 333ms/step - loss: 0.2568 - accuracy: 0.9220 - val_loss: 0.0734 - val_accuracy: 0.9768\n",
      "Epoch 124/2000\n",
      "100/100 [==============================] - 34s 336ms/step - loss: 0.2513 - accuracy: 0.9247 - val_loss: 0.0739 - val_accuracy: 0.9763\n",
      "Epoch 125/2000\n",
      "100/100 [==============================] - 32s 324ms/step - loss: 0.2677 - accuracy: 0.9142 - val_loss: 0.0720 - val_accuracy: 0.9773\n",
      "Epoch 126/2000\n",
      "100/100 [==============================] - 33s 333ms/step - loss: 0.2616 - accuracy: 0.9220 - val_loss: 0.0757 - val_accuracy: 0.9747\n",
      "Epoch 127/2000\n",
      "100/100 [==============================] - 33s 333ms/step - loss: 0.2747 - accuracy: 0.9202 - val_loss: 0.0748 - val_accuracy: 0.9768\n",
      "Epoch 128/2000\n",
      "100/100 [==============================] - 34s 342ms/step - loss: 0.2456 - accuracy: 0.9258 - val_loss: 0.0703 - val_accuracy: 0.9773\n",
      "Epoch 129/2000\n",
      "100/100 [==============================] - 34s 338ms/step - loss: 0.2526 - accuracy: 0.9197 - val_loss: 0.0702 - val_accuracy: 0.9781\n",
      "Epoch 130/2000\n",
      "100/100 [==============================] - 34s 343ms/step - loss: 0.2831 - accuracy: 0.9144 - val_loss: 0.0708 - val_accuracy: 0.9780\n",
      "Epoch 131/2000\n",
      "100/100 [==============================] - 34s 342ms/step - loss: 0.2442 - accuracy: 0.9242 - val_loss: 0.0882 - val_accuracy: 0.9726\n",
      "Epoch 132/2000\n",
      "100/100 [==============================] - 36s 363ms/step - loss: 0.2300 - accuracy: 0.9309 - val_loss: 0.0695 - val_accuracy: 0.9789\n",
      "Epoch 133/2000\n",
      "100/100 [==============================] - 35s 351ms/step - loss: 0.2719 - accuracy: 0.9159 - val_loss: 0.0731 - val_accuracy: 0.9766\n",
      "Epoch 134/2000\n",
      "100/100 [==============================] - 35s 348ms/step - loss: 0.2812 - accuracy: 0.9130 - val_loss: 0.0703 - val_accuracy: 0.9772\n",
      "Epoch 135/2000\n",
      "100/100 [==============================] - 35s 354ms/step - loss: 0.2343 - accuracy: 0.9231 - val_loss: 0.0709 - val_accuracy: 0.9769\n",
      "Epoch 136/2000\n",
      "100/100 [==============================] - 33s 329ms/step - loss: 0.2669 - accuracy: 0.9147 - val_loss: 0.0763 - val_accuracy: 0.9748\n",
      "Epoch 137/2000\n",
      "100/100 [==============================] - 34s 335ms/step - loss: 0.2700 - accuracy: 0.9186 - val_loss: 0.0715 - val_accuracy: 0.9792\n",
      "Epoch 138/2000\n",
      "100/100 [==============================] - 34s 342ms/step - loss: 0.2888 - accuracy: 0.9123 - val_loss: 0.0739 - val_accuracy: 0.9755\n",
      "Epoch 139/2000\n",
      "100/100 [==============================] - 35s 346ms/step - loss: 0.2662 - accuracy: 0.9148 - val_loss: 0.0676 - val_accuracy: 0.9781\n",
      "Epoch 140/2000\n",
      "100/100 [==============================] - 36s 356ms/step - loss: 0.2786 - accuracy: 0.9153 - val_loss: 0.0712 - val_accuracy: 0.9783\n",
      "Epoch 141/2000\n",
      "100/100 [==============================] - 35s 345ms/step - loss: 0.2200 - accuracy: 0.9291 - val_loss: 0.0713 - val_accuracy: 0.9768\n",
      "Epoch 142/2000\n",
      "100/100 [==============================] - 34s 342ms/step - loss: 0.2602 - accuracy: 0.9219 - val_loss: 0.0753 - val_accuracy: 0.9779\n",
      "Epoch 143/2000\n",
      "100/100 [==============================] - 34s 338ms/step - loss: 0.2579 - accuracy: 0.9225 - val_loss: 0.0735 - val_accuracy: 0.9768\n",
      "Epoch 144/2000\n",
      "100/100 [==============================] - 34s 343ms/step - loss: 0.2653 - accuracy: 0.9148 - val_loss: 0.0708 - val_accuracy: 0.9782\n",
      "Epoch 145/2000\n",
      "100/100 [==============================] - 33s 330ms/step - loss: 0.2464 - accuracy: 0.9191 - val_loss: 0.0632 - val_accuracy: 0.9797\n",
      "Epoch 146/2000\n",
      "100/100 [==============================] - 32s 323ms/step - loss: 0.2553 - accuracy: 0.9191 - val_loss: 0.0616 - val_accuracy: 0.9806\n",
      "Epoch 147/2000\n",
      "100/100 [==============================] - 34s 336ms/step - loss: 0.2582 - accuracy: 0.9187 - val_loss: 0.0668 - val_accuracy: 0.9789\n",
      "Epoch 148/2000\n",
      "100/100 [==============================] - 32s 324ms/step - loss: 0.2788 - accuracy: 0.9167 - val_loss: 0.0636 - val_accuracy: 0.9793\n",
      "Epoch 149/2000\n",
      "100/100 [==============================] - 35s 352ms/step - loss: 0.2721 - accuracy: 0.9137 - val_loss: 0.0655 - val_accuracy: 0.9785\n",
      "Epoch 150/2000\n",
      "100/100 [==============================] - 34s 342ms/step - loss: 0.2254 - accuracy: 0.9309 - val_loss: 0.0678 - val_accuracy: 0.9799\n",
      "Epoch 151/2000\n",
      "100/100 [==============================] - 35s 346ms/step - loss: 0.2549 - accuracy: 0.9220 - val_loss: 0.0811 - val_accuracy: 0.9753\n",
      "Epoch 152/2000\n",
      "100/100 [==============================] - 34s 336ms/step - loss: 0.2559 - accuracy: 0.9198 - val_loss: 0.0709 - val_accuracy: 0.9795\n",
      "Epoch 153/2000\n",
      "100/100 [==============================] - 34s 344ms/step - loss: 0.2504 - accuracy: 0.9255 - val_loss: 0.0715 - val_accuracy: 0.9773\n",
      "Epoch 154/2000\n",
      "100/100 [==============================] - 32s 315ms/step - loss: 0.2602 - accuracy: 0.9197 - val_loss: 0.0666 - val_accuracy: 0.9789\n",
      "Epoch 155/2000\n",
      "100/100 [==============================] - 34s 340ms/step - loss: 0.2645 - accuracy: 0.9177 - val_loss: 0.0669 - val_accuracy: 0.9795\n",
      "Epoch 156/2000\n",
      "100/100 [==============================] - 34s 342ms/step - loss: 0.2531 - accuracy: 0.9227 - val_loss: 0.0625 - val_accuracy: 0.9789\n",
      "Epoch 157/2000\n",
      "100/100 [==============================] - 34s 338ms/step - loss: 0.2647 - accuracy: 0.9200 - val_loss: 0.0659 - val_accuracy: 0.9803\n",
      "Epoch 158/2000\n",
      "100/100 [==============================] - 32s 324ms/step - loss: 0.2715 - accuracy: 0.9145 - val_loss: 0.0658 - val_accuracy: 0.9789\n",
      "Epoch 159/2000\n",
      "100/100 [==============================] - 34s 343ms/step - loss: 0.2430 - accuracy: 0.9248 - val_loss: 0.0777 - val_accuracy: 0.9769\n",
      "Epoch 160/2000\n",
      "100/100 [==============================] - 32s 318ms/step - loss: 0.2205 - accuracy: 0.9314 - val_loss: 0.0679 - val_accuracy: 0.9783\n",
      "Epoch 161/2000\n",
      "100/100 [==============================] - 33s 334ms/step - loss: 0.2619 - accuracy: 0.9189 - val_loss: 0.0779 - val_accuracy: 0.9764\n",
      "Epoch 162/2000\n",
      "100/100 [==============================] - 34s 341ms/step - loss: 0.2440 - accuracy: 0.9255 - val_loss: 0.0710 - val_accuracy: 0.9770\n",
      "Epoch 163/2000\n",
      "100/100 [==============================] - 34s 341ms/step - loss: 0.2431 - accuracy: 0.9245 - val_loss: 0.0629 - val_accuracy: 0.9812\n",
      "Epoch 164/2000\n",
      "100/100 [==============================] - 32s 318ms/step - loss: 0.2505 - accuracy: 0.9191 - val_loss: 0.0755 - val_accuracy: 0.9758\n",
      "Epoch 165/2000\n",
      "100/100 [==============================] - 35s 346ms/step - loss: 0.2577 - accuracy: 0.9220 - val_loss: 0.0628 - val_accuracy: 0.9796\n",
      "Epoch 166/2000\n"
     ]
    },
    {
     "name": "stdout",
     "output_type": "stream",
     "text": [
      "100/100 [==============================] - 34s 339ms/step - loss: 0.2614 - accuracy: 0.9194 - val_loss: 0.0703 - val_accuracy: 0.9788\n",
      "Epoch 167/2000\n",
      "100/100 [==============================] - 32s 322ms/step - loss: 0.2381 - accuracy: 0.9253 - val_loss: 0.0690 - val_accuracy: 0.9771\n",
      "Epoch 168/2000\n",
      "100/100 [==============================] - 34s 338ms/step - loss: 0.2574 - accuracy: 0.9208 - val_loss: 0.0701 - val_accuracy: 0.9760\n",
      "Epoch 169/2000\n",
      "100/100 [==============================] - 31s 310ms/step - loss: 0.2318 - accuracy: 0.9295 - val_loss: 0.0668 - val_accuracy: 0.9801\n",
      "Epoch 170/2000\n",
      "100/100 [==============================] - 33s 329ms/step - loss: 0.2340 - accuracy: 0.9283 - val_loss: 0.0695 - val_accuracy: 0.9772\n",
      "Epoch 171/2000\n",
      "100/100 [==============================] - 32s 319ms/step - loss: 0.2519 - accuracy: 0.9253 - val_loss: 0.0644 - val_accuracy: 0.9794\n",
      "Epoch 172/2000\n",
      "100/100 [==============================] - 32s 315ms/step - loss: 0.2529 - accuracy: 0.9205 - val_loss: 0.0672 - val_accuracy: 0.9781\n",
      "Epoch 173/2000\n",
      "100/100 [==============================] - 34s 344ms/step - loss: 0.2595 - accuracy: 0.9227 - val_loss: 0.0670 - val_accuracy: 0.9790\n",
      "Epoch 174/2000\n",
      "100/100 [==============================] - 35s 355ms/step - loss: 0.2664 - accuracy: 0.9167 - val_loss: 0.0635 - val_accuracy: 0.9806\n",
      "Epoch 175/2000\n",
      "100/100 [==============================] - 33s 330ms/step - loss: 0.2545 - accuracy: 0.9217 - val_loss: 0.0670 - val_accuracy: 0.9795\n",
      "Epoch 176/2000\n",
      "100/100 [==============================] - 37s 365ms/step - loss: 0.2776 - accuracy: 0.9191 - val_loss: 0.0707 - val_accuracy: 0.9780\n",
      "Epoch 177/2000\n",
      "100/100 [==============================] - 35s 355ms/step - loss: 0.2603 - accuracy: 0.9175 - val_loss: 0.0769 - val_accuracy: 0.9737\n",
      "Epoch 178/2000\n",
      "100/100 [==============================] - 35s 351ms/step - loss: 0.2031 - accuracy: 0.9359 - val_loss: 0.0889 - val_accuracy: 0.9718\n",
      "Epoch 179/2000\n",
      "100/100 [==============================] - 35s 355ms/step - loss: 0.2111 - accuracy: 0.9369 - val_loss: 0.0670 - val_accuracy: 0.9792\n",
      "Epoch 180/2000\n",
      "100/100 [==============================] - 34s 337ms/step - loss: 0.2685 - accuracy: 0.9173 - val_loss: 0.0678 - val_accuracy: 0.9782\n",
      "Epoch 181/2000\n",
      "100/100 [==============================] - 33s 330ms/step - loss: 0.2360 - accuracy: 0.9244 - val_loss: 0.0626 - val_accuracy: 0.9809\n",
      "Epoch 182/2000\n",
      "100/100 [==============================] - 35s 346ms/step - loss: 0.2364 - accuracy: 0.9261 - val_loss: 0.0695 - val_accuracy: 0.9790\n",
      "Epoch 183/2000\n",
      "100/100 [==============================] - 35s 347ms/step - loss: 0.2372 - accuracy: 0.9292 - val_loss: 0.0667 - val_accuracy: 0.9789\n",
      "Epoch 184/2000\n",
      "100/100 [==============================] - 35s 349ms/step - loss: 0.2538 - accuracy: 0.9197 - val_loss: 0.0616 - val_accuracy: 0.9805\n",
      "Epoch 185/2000\n",
      "100/100 [==============================] - 35s 346ms/step - loss: 0.2431 - accuracy: 0.9252 - val_loss: 0.0695 - val_accuracy: 0.9804\n",
      "Epoch 186/2000\n",
      "100/100 [==============================] - 35s 345ms/step - loss: 0.2714 - accuracy: 0.9156 - val_loss: 0.0784 - val_accuracy: 0.9752\n",
      "Epoch 187/2000\n",
      "100/100 [==============================] - 35s 353ms/step - loss: 0.2320 - accuracy: 0.9275 - val_loss: 0.0649 - val_accuracy: 0.9788\n",
      "Epoch 188/2000\n",
      "100/100 [==============================] - 36s 363ms/step - loss: 0.2162 - accuracy: 0.9369 - val_loss: 0.0624 - val_accuracy: 0.9816\n",
      "Epoch 189/2000\n",
      "100/100 [==============================] - 34s 343ms/step - loss: 0.2731 - accuracy: 0.9173 - val_loss: 0.0650 - val_accuracy: 0.9811\n",
      "Epoch 190/2000\n",
      "100/100 [==============================] - 34s 340ms/step - loss: 0.2459 - accuracy: 0.9252 - val_loss: 0.0608 - val_accuracy: 0.9807\n",
      "Epoch 191/2000\n",
      "100/100 [==============================] - 36s 357ms/step - loss: 0.2368 - accuracy: 0.9261 - val_loss: 0.0642 - val_accuracy: 0.9802\n",
      "Epoch 192/2000\n",
      "100/100 [==============================] - 35s 353ms/step - loss: 0.2535 - accuracy: 0.9217 - val_loss: 0.0669 - val_accuracy: 0.9785\n",
      "Epoch 193/2000\n",
      "100/100 [==============================] - 37s 370ms/step - loss: 0.2540 - accuracy: 0.9205 - val_loss: 0.0629 - val_accuracy: 0.9793\n",
      "Epoch 194/2000\n",
      "100/100 [==============================] - 35s 348ms/step - loss: 0.2411 - accuracy: 0.9255 - val_loss: 0.0668 - val_accuracy: 0.9788\n",
      "Epoch 195/2000\n",
      "100/100 [==============================] - 38s 378ms/step - loss: 0.2513 - accuracy: 0.9216 - val_loss: 0.0597 - val_accuracy: 0.9810\n",
      "Epoch 196/2000\n",
      "100/100 [==============================] - 36s 357ms/step - loss: 0.2614 - accuracy: 0.9217 - val_loss: 0.0588 - val_accuracy: 0.9815\n",
      "Epoch 197/2000\n",
      "100/100 [==============================] - 37s 366ms/step - loss: 0.2219 - accuracy: 0.9308 - val_loss: 0.0694 - val_accuracy: 0.9759\n",
      "Epoch 198/2000\n",
      "100/100 [==============================] - 34s 337ms/step - loss: 0.2398 - accuracy: 0.9280 - val_loss: 0.0634 - val_accuracy: 0.9812\n",
      "Epoch 199/2000\n",
      "100/100 [==============================] - 36s 357ms/step - loss: 0.2396 - accuracy: 0.9253 - val_loss: 0.0683 - val_accuracy: 0.9790\n",
      "Epoch 200/2000\n",
      "100/100 [==============================] - 35s 350ms/step - loss: 0.2493 - accuracy: 0.9256 - val_loss: 0.0642 - val_accuracy: 0.9794\n",
      "Epoch 201/2000\n",
      "100/100 [==============================] - 36s 360ms/step - loss: 0.2340 - accuracy: 0.9247 - val_loss: 0.0634 - val_accuracy: 0.9783\n",
      "Epoch 202/2000\n",
      "100/100 [==============================] - 35s 350ms/step - loss: 0.2657 - accuracy: 0.9175 - val_loss: 0.0612 - val_accuracy: 0.9808\n",
      "Epoch 203/2000\n",
      "100/100 [==============================] - 36s 360ms/step - loss: 0.2408 - accuracy: 0.9217 - val_loss: 0.0664 - val_accuracy: 0.9774\n",
      "Epoch 204/2000\n",
      "100/100 [==============================] - 37s 369ms/step - loss: 0.2575 - accuracy: 0.9220 - val_loss: 0.0634 - val_accuracy: 0.9799\n",
      "Epoch 205/2000\n",
      "100/100 [==============================] - 35s 352ms/step - loss: 0.2493 - accuracy: 0.9208 - val_loss: 0.0765 - val_accuracy: 0.9762\n",
      "Epoch 206/2000\n",
      "100/100 [==============================] - 36s 365ms/step - loss: 0.2283 - accuracy: 0.9314 - val_loss: 0.0758 - val_accuracy: 0.9770\n",
      "Epoch 207/2000\n",
      "100/100 [==============================] - 36s 358ms/step - loss: 0.2145 - accuracy: 0.9353 - val_loss: 0.0653 - val_accuracy: 0.9797\n",
      "Epoch 208/2000\n",
      "100/100 [==============================] - 36s 356ms/step - loss: 0.2525 - accuracy: 0.9205 - val_loss: 0.0669 - val_accuracy: 0.9778\n",
      "Epoch 209/2000\n",
      "100/100 [==============================] - 38s 375ms/step - loss: 0.2484 - accuracy: 0.9255 - val_loss: 0.0636 - val_accuracy: 0.9788\n",
      "Epoch 210/2000\n",
      "100/100 [==============================] - 35s 348ms/step - loss: 0.2365 - accuracy: 0.9275 - val_loss: 0.0577 - val_accuracy: 0.9820\n",
      "Epoch 211/2000\n",
      "100/100 [==============================] - 36s 360ms/step - loss: 0.2453 - accuracy: 0.9227 - val_loss: 0.0611 - val_accuracy: 0.9814\n",
      "Epoch 212/2000\n",
      "100/100 [==============================] - 38s 376ms/step - loss: 0.2518 - accuracy: 0.9225 - val_loss: 0.0676 - val_accuracy: 0.9792\n",
      "Epoch 213/2000\n",
      "100/100 [==============================] - 37s 371ms/step - loss: 0.2446 - accuracy: 0.9225 - val_loss: 0.0647 - val_accuracy: 0.9806\n",
      "Epoch 214/2000\n",
      "100/100 [==============================] - 36s 364ms/step - loss: 0.2441 - accuracy: 0.9239 - val_loss: 0.0610 - val_accuracy: 0.9831\n",
      "Epoch 215/2000\n",
      "100/100 [==============================] - 43s 426ms/step - loss: 0.2402 - accuracy: 0.9248 - val_loss: 0.0628 - val_accuracy: 0.9817\n",
      "Epoch 216/2000\n",
      "100/100 [==============================] - 34s 340ms/step - loss: 0.2127 - accuracy: 0.9345 - val_loss: 0.0585 - val_accuracy: 0.9818\n",
      "Epoch 217/2000\n",
      "100/100 [==============================] - 33s 334ms/step - loss: 0.2275 - accuracy: 0.9261 - val_loss: 0.0717 - val_accuracy: 0.9778\n",
      "Epoch 218/2000\n",
      "100/100 [==============================] - 33s 331ms/step - loss: 0.2515 - accuracy: 0.9223 - val_loss: 0.0598 - val_accuracy: 0.9811\n",
      "Epoch 219/2000\n",
      "100/100 [==============================] - 33s 325ms/step - loss: 0.2410 - accuracy: 0.9287 - val_loss: 0.0594 - val_accuracy: 0.9819\n",
      "Epoch 220/2000\n",
      "100/100 [==============================] - 33s 325ms/step - loss: 0.2346 - accuracy: 0.9258 - val_loss: 0.0572 - val_accuracy: 0.9814\n",
      "Epoch 221/2000\n"
     ]
    },
    {
     "name": "stdout",
     "output_type": "stream",
     "text": [
      "100/100 [==============================] - 33s 332ms/step - loss: 0.2574 - accuracy: 0.9214 - val_loss: 0.0574 - val_accuracy: 0.9838\n",
      "Epoch 222/2000\n",
      "100/100 [==============================] - 32s 321ms/step - loss: 0.2303 - accuracy: 0.9284 - val_loss: 0.0596 - val_accuracy: 0.9811\n",
      "Epoch 223/2000\n",
      "100/100 [==============================] - 32s 324ms/step - loss: 0.2494 - accuracy: 0.9236 - val_loss: 0.0588 - val_accuracy: 0.9820\n",
      "Epoch 224/2000\n",
      "100/100 [==============================] - 32s 317ms/step - loss: 0.2590 - accuracy: 0.9200 - val_loss: 0.0633 - val_accuracy: 0.9814\n",
      "Epoch 225/2000\n",
      "100/100 [==============================] - 32s 323ms/step - loss: 0.1956 - accuracy: 0.9391 - val_loss: 0.0603 - val_accuracy: 0.9810\n",
      "Epoch 226/2000\n",
      "100/100 [==============================] - 32s 323ms/step - loss: 0.2220 - accuracy: 0.9312 - val_loss: 0.0847 - val_accuracy: 0.9758\n",
      "Epoch 227/2000\n",
      "100/100 [==============================] - 32s 321ms/step - loss: 0.2414 - accuracy: 0.9256 - val_loss: 0.0645 - val_accuracy: 0.9810\n",
      "Epoch 228/2000\n",
      "100/100 [==============================] - 32s 316ms/step - loss: 0.2468 - accuracy: 0.9228 - val_loss: 0.0567 - val_accuracy: 0.9818\n",
      "Epoch 229/2000\n",
      "100/100 [==============================] - 32s 322ms/step - loss: 0.2353 - accuracy: 0.9255 - val_loss: 0.0573 - val_accuracy: 0.9830\n",
      "Epoch 230/2000\n",
      "100/100 [==============================] - 32s 316ms/step - loss: 0.2495 - accuracy: 0.9200 - val_loss: 0.0576 - val_accuracy: 0.9820\n",
      "Epoch 231/2000\n",
      "100/100 [==============================] - 33s 325ms/step - loss: 0.2419 - accuracy: 0.9252 - val_loss: 0.0597 - val_accuracy: 0.9813\n",
      "Epoch 232/2000\n",
      "100/100 [==============================] - 32s 320ms/step - loss: 0.2358 - accuracy: 0.9248 - val_loss: 0.0653 - val_accuracy: 0.9810\n",
      "Epoch 233/2000\n",
      "100/100 [==============================] - 32s 322ms/step - loss: 0.2490 - accuracy: 0.9217 - val_loss: 0.0601 - val_accuracy: 0.9812\n",
      "Epoch 234/2000\n",
      "100/100 [==============================] - 33s 334ms/step - loss: 0.2153 - accuracy: 0.9311 - val_loss: 0.0651 - val_accuracy: 0.9800\n",
      "Epoch 235/2000\n",
      "100/100 [==============================] - 35s 345ms/step - loss: 0.2023 - accuracy: 0.9372 - val_loss: 0.0578 - val_accuracy: 0.9823\n",
      "Epoch 236/2000\n",
      "100/100 [==============================] - 36s 357ms/step - loss: 0.2580 - accuracy: 0.9212 - val_loss: 0.0591 - val_accuracy: 0.9821\n",
      "Epoch 237/2000\n",
      "100/100 [==============================] - 36s 359ms/step - loss: 0.2486 - accuracy: 0.9237 - val_loss: 0.0578 - val_accuracy: 0.9825\n",
      "Epoch 238/2000\n",
      "100/100 [==============================] - 36s 355ms/step - loss: 0.2279 - accuracy: 0.9306 - val_loss: 0.0578 - val_accuracy: 0.9831\n",
      "Epoch 239/2000\n",
      "100/100 [==============================] - 35s 352ms/step - loss: 0.2346 - accuracy: 0.9273 - val_loss: 0.0579 - val_accuracy: 0.9827\n",
      "Epoch 240/2000\n",
      "100/100 [==============================] - 38s 382ms/step - loss: 0.2507 - accuracy: 0.9250 - val_loss: 0.0595 - val_accuracy: 0.9820\n",
      "Epoch 241/2000\n",
      "100/100 [==============================] - 37s 367ms/step - loss: 0.2411 - accuracy: 0.9262 - val_loss: 0.0595 - val_accuracy: 0.9811\n",
      "Epoch 242/2000\n",
      "100/100 [==============================] - 35s 350ms/step - loss: 0.2332 - accuracy: 0.9277 - val_loss: 0.0572 - val_accuracy: 0.9829\n",
      "Epoch 243/2000\n",
      "100/100 [==============================] - 36s 362ms/step - loss: 0.2434 - accuracy: 0.9261 - val_loss: 0.0623 - val_accuracy: 0.9806\n",
      "Epoch 244/2000\n",
      "100/100 [==============================] - 37s 368ms/step - loss: 0.2069 - accuracy: 0.9359 - val_loss: 0.0623 - val_accuracy: 0.9798\n",
      "Epoch 245/2000\n",
      "100/100 [==============================] - 36s 360ms/step - loss: 0.2224 - accuracy: 0.9322 - val_loss: 0.0652 - val_accuracy: 0.9820\n",
      "Epoch 246/2000\n",
      "100/100 [==============================] - 36s 361ms/step - loss: 0.2493 - accuracy: 0.9219 - val_loss: 0.0581 - val_accuracy: 0.9833\n",
      "Epoch 247/2000\n",
      "100/100 [==============================] - 36s 360ms/step - loss: 0.2319 - accuracy: 0.9294 - val_loss: 0.0630 - val_accuracy: 0.9805\n",
      "Epoch 248/2000\n",
      "100/100 [==============================] - 38s 378ms/step - loss: 0.2379 - accuracy: 0.9264 - val_loss: 0.0595 - val_accuracy: 0.9803\n",
      "Epoch 249/2000\n",
      "100/100 [==============================] - 37s 371ms/step - loss: 0.2468 - accuracy: 0.9233 - val_loss: 0.0543 - val_accuracy: 0.9825\n",
      "Epoch 250/2000\n",
      "100/100 [==============================] - 36s 363ms/step - loss: 0.2416 - accuracy: 0.9258 - val_loss: 0.0622 - val_accuracy: 0.9813\n",
      "Epoch 251/2000\n",
      "100/100 [==============================] - 36s 360ms/step - loss: 0.2407 - accuracy: 0.9295 - val_loss: 0.0603 - val_accuracy: 0.9821\n",
      "Epoch 252/2000\n",
      "100/100 [==============================] - 37s 370ms/step - loss: 0.2363 - accuracy: 0.9270 - val_loss: 0.0667 - val_accuracy: 0.9800\n",
      "Epoch 253/2000\n",
      "100/100 [==============================] - 37s 369ms/step - loss: 0.2113 - accuracy: 0.9359 - val_loss: 0.0612 - val_accuracy: 0.9813\n",
      "Epoch 254/2000\n",
      "100/100 [==============================] - 37s 370ms/step - loss: 0.2123 - accuracy: 0.9367 - val_loss: 0.0633 - val_accuracy: 0.9817\n",
      "Epoch 255/2000\n",
      "100/100 [==============================] - 37s 368ms/step - loss: 0.2375 - accuracy: 0.9247 - val_loss: 0.0668 - val_accuracy: 0.9792\n",
      "Epoch 256/2000\n",
      "100/100 [==============================] - 37s 366ms/step - loss: 0.2363 - accuracy: 0.9267 - val_loss: 0.0600 - val_accuracy: 0.9798\n",
      "Epoch 257/2000\n",
      "100/100 [==============================] - 38s 385ms/step - loss: 0.2157 - accuracy: 0.9300 - val_loss: 0.0576 - val_accuracy: 0.9829\n",
      "Epoch 258/2000\n",
      "100/100 [==============================] - 37s 371ms/step - loss: 0.2288 - accuracy: 0.9289 - val_loss: 0.0544 - val_accuracy: 0.9840\n",
      "Epoch 259/2000\n",
      "100/100 [==============================] - 37s 371ms/step - loss: 0.2296 - accuracy: 0.9273 - val_loss: 0.0615 - val_accuracy: 0.9813\n",
      "Epoch 260/2000\n",
      "100/100 [==============================] - 37s 366ms/step - loss: 0.2442 - accuracy: 0.9259 - val_loss: 0.0556 - val_accuracy: 0.9836\n",
      "Epoch 261/2000\n",
      "100/100 [==============================] - 36s 364ms/step - loss: 0.2524 - accuracy: 0.9206 - val_loss: 0.0585 - val_accuracy: 0.9821\n",
      "Epoch 262/2000\n",
      "100/100 [==============================] - 37s 372ms/step - loss: 0.2207 - accuracy: 0.9328 - val_loss: 0.0695 - val_accuracy: 0.9793\n",
      "Epoch 263/2000\n",
      "100/100 [==============================] - 35s 354ms/step - loss: 0.1960 - accuracy: 0.9402 - val_loss: 0.0587 - val_accuracy: 0.9815\n",
      "Epoch 264/2000\n",
      "100/100 [==============================] - 38s 379ms/step - loss: 0.2408 - accuracy: 0.9267 - val_loss: 0.0593 - val_accuracy: 0.9822\n",
      "Epoch 265/2000\n",
      "100/100 [==============================] - 38s 384ms/step - loss: 0.2285 - accuracy: 0.9286 - val_loss: 0.0636 - val_accuracy: 0.9813\n",
      "Epoch 266/2000\n",
      "100/100 [==============================] - 37s 367ms/step - loss: 0.2318 - accuracy: 0.9266 - val_loss: 0.0589 - val_accuracy: 0.9813\n",
      "Epoch 267/2000\n",
      "100/100 [==============================] - 37s 371ms/step - loss: 0.2381 - accuracy: 0.9273 - val_loss: 0.0583 - val_accuracy: 0.9823\n",
      "Epoch 268/2000\n",
      "100/100 [==============================] - 37s 370ms/step - loss: 0.2336 - accuracy: 0.9248 - val_loss: 0.0579 - val_accuracy: 0.9827\n",
      "Epoch 269/2000\n",
      "100/100 [==============================] - 37s 374ms/step - loss: 0.2207 - accuracy: 0.9330 - val_loss: 0.0603 - val_accuracy: 0.9815\n",
      "Epoch 270/2000\n",
      "100/100 [==============================] - 37s 371ms/step - loss: 0.2307 - accuracy: 0.9303 - val_loss: 0.0616 - val_accuracy: 0.9813\n",
      "Epoch 271/2000\n",
      "100/100 [==============================] - 37s 365ms/step - loss: 0.2419 - accuracy: 0.9219 - val_loss: 0.0580 - val_accuracy: 0.9833\n",
      "Epoch 272/2000\n",
      "100/100 [==============================] - 36s 363ms/step - loss: 0.2045 - accuracy: 0.9369 - val_loss: 0.0568 - val_accuracy: 0.9836\n",
      "Epoch 273/2000\n",
      "100/100 [==============================] - 40s 396ms/step - loss: 0.2129 - accuracy: 0.9312 - val_loss: 0.0568 - val_accuracy: 0.9820\n",
      "Epoch 274/2000\n",
      "100/100 [==============================] - 37s 374ms/step - loss: 0.2318 - accuracy: 0.9259 - val_loss: 0.0606 - val_accuracy: 0.9806\n",
      "Epoch 275/2000\n",
      "100/100 [==============================] - 36s 358ms/step - loss: 0.2397 - accuracy: 0.9270 - val_loss: 0.0556 - val_accuracy: 0.9836\n",
      "Epoch 276/2000\n"
     ]
    },
    {
     "name": "stdout",
     "output_type": "stream",
     "text": [
      "100/100 [==============================] - 36s 365ms/step - loss: 0.2255 - accuracy: 0.9314 - val_loss: 0.0654 - val_accuracy: 0.9779\n",
      "Epoch 277/2000\n",
      "100/100 [==============================] - 35s 346ms/step - loss: 0.2541 - accuracy: 0.9241 - val_loss: 0.0579 - val_accuracy: 0.9821\n",
      "Epoch 278/2000\n",
      "100/100 [==============================] - 36s 365ms/step - loss: 0.2237 - accuracy: 0.9312 - val_loss: 0.0585 - val_accuracy: 0.9816\n",
      "Epoch 279/2000\n",
      "100/100 [==============================] - 36s 359ms/step - loss: 0.2319 - accuracy: 0.9292 - val_loss: 0.0535 - val_accuracy: 0.9825\n",
      "Epoch 280/2000\n",
      "100/100 [==============================] - 37s 369ms/step - loss: 0.2456 - accuracy: 0.9253 - val_loss: 0.0538 - val_accuracy: 0.9822\n",
      "Epoch 281/2000\n",
      "100/100 [==============================] - 37s 372ms/step - loss: 0.2175 - accuracy: 0.9328 - val_loss: 0.0611 - val_accuracy: 0.9809\n",
      "Epoch 282/2000\n",
      "100/100 [==============================] - 37s 368ms/step - loss: 0.1926 - accuracy: 0.9408 - val_loss: 0.0566 - val_accuracy: 0.9820\n",
      "Epoch 283/2000\n",
      "100/100 [==============================] - 37s 372ms/step - loss: 0.2409 - accuracy: 0.9270 - val_loss: 0.0599 - val_accuracy: 0.9804\n",
      "Epoch 284/2000\n",
      "100/100 [==============================] - 37s 374ms/step - loss: 0.2399 - accuracy: 0.9273 - val_loss: 0.0600 - val_accuracy: 0.9815\n",
      "Epoch 285/2000\n",
      "100/100 [==============================] - 39s 385ms/step - loss: 0.2268 - accuracy: 0.9284 - val_loss: 0.0518 - val_accuracy: 0.9830\n",
      "Epoch 286/2000\n",
      "100/100 [==============================] - 37s 366ms/step - loss: 0.2265 - accuracy: 0.9267 - val_loss: 0.0561 - val_accuracy: 0.9819\n",
      "Epoch 287/2000\n",
      "100/100 [==============================] - 37s 370ms/step - loss: 0.2282 - accuracy: 0.9325 - val_loss: 0.0522 - val_accuracy: 0.9823\n",
      "Epoch 288/2000\n",
      "100/100 [==============================] - 38s 381ms/step - loss: 0.2295 - accuracy: 0.9305 - val_loss: 0.0638 - val_accuracy: 0.9801\n",
      "Epoch 289/2000\n",
      "100/100 [==============================] - 38s 379ms/step - loss: 0.2230 - accuracy: 0.9319 - val_loss: 0.0598 - val_accuracy: 0.9817\n",
      "Epoch 290/2000\n",
      "100/100 [==============================] - 37s 367ms/step - loss: 0.2291 - accuracy: 0.9316 - val_loss: 0.0671 - val_accuracy: 0.9795\n",
      "Epoch 291/2000\n",
      "100/100 [==============================] - 37s 373ms/step - loss: 0.2067 - accuracy: 0.9397 - val_loss: 0.0600 - val_accuracy: 0.9825\n",
      "Epoch 292/2000\n",
      "100/100 [==============================] - 36s 361ms/step - loss: 0.2343 - accuracy: 0.9272 - val_loss: 0.0598 - val_accuracy: 0.9811\n",
      "Epoch 293/2000\n",
      "100/100 [==============================] - 38s 378ms/step - loss: 0.2294 - accuracy: 0.9302 - val_loss: 0.0539 - val_accuracy: 0.9823\n",
      "Epoch 294/2000\n",
      "100/100 [==============================] - 38s 377ms/step - loss: 0.2244 - accuracy: 0.9294 - val_loss: 0.0563 - val_accuracy: 0.9824\n",
      "Epoch 295/2000\n",
      "100/100 [==============================] - 37s 375ms/step - loss: 0.2353 - accuracy: 0.9308 - val_loss: 0.0562 - val_accuracy: 0.9819\n",
      "Epoch 296/2000\n",
      "100/100 [==============================] - 39s 385ms/step - loss: 0.2346 - accuracy: 0.9261 - val_loss: 0.0568 - val_accuracy: 0.9822\n",
      "Epoch 297/2000\n",
      "100/100 [==============================] - 37s 368ms/step - loss: 0.2276 - accuracy: 0.9311 - val_loss: 0.0512 - val_accuracy: 0.9817\n",
      "Epoch 298/2000\n",
      "100/100 [==============================] - 38s 378ms/step - loss: 0.2344 - accuracy: 0.9280 - val_loss: 0.0526 - val_accuracy: 0.9832\n",
      "Epoch 299/2000\n",
      "100/100 [==============================] - 36s 363ms/step - loss: 0.2428 - accuracy: 0.9252 - val_loss: 0.0502 - val_accuracy: 0.9841\n",
      "Epoch 300/2000\n",
      "100/100 [==============================] - 36s 356ms/step - loss: 0.1944 - accuracy: 0.9419 - val_loss: 0.0573 - val_accuracy: 0.9814\n",
      "Epoch 301/2000\n",
      "100/100 [==============================] - 36s 359ms/step - loss: 0.2140 - accuracy: 0.9362 - val_loss: 0.0637 - val_accuracy: 0.9806\n",
      "Epoch 302/2000\n",
      "100/100 [==============================] - 35s 355ms/step - loss: 0.2414 - accuracy: 0.9250 - val_loss: 0.0562 - val_accuracy: 0.9824\n",
      "Epoch 303/2000\n",
      "100/100 [==============================] - 37s 372ms/step - loss: 0.2351 - accuracy: 0.9264 - val_loss: 0.0549 - val_accuracy: 0.9826\n",
      "Epoch 304/2000\n",
      "100/100 [==============================] - 37s 375ms/step - loss: 0.2188 - accuracy: 0.9347 - val_loss: 0.0590 - val_accuracy: 0.9807\n",
      "Epoch 305/2000\n",
      "100/100 [==============================] - 38s 384ms/step - loss: 0.2344 - accuracy: 0.9258 - val_loss: 0.0584 - val_accuracy: 0.9808\n",
      "Epoch 306/2000\n",
      "100/100 [==============================] - 37s 374ms/step - loss: 0.2135 - accuracy: 0.9369 - val_loss: 0.0572 - val_accuracy: 0.9811\n",
      "Epoch 307/2000\n",
      "100/100 [==============================] - 38s 380ms/step - loss: 0.2286 - accuracy: 0.9295 - val_loss: 0.0582 - val_accuracy: 0.9820\n",
      "Epoch 308/2000\n",
      "100/100 [==============================] - 36s 365ms/step - loss: 0.2441 - accuracy: 0.9237 - val_loss: 0.0543 - val_accuracy: 0.9830\n",
      "Epoch 309/2000\n",
      "100/100 [==============================] - 38s 378ms/step - loss: 0.2272 - accuracy: 0.9300 - val_loss: 0.0566 - val_accuracy: 0.9828\n",
      "Epoch 310/2000\n",
      "100/100 [==============================] - 36s 361ms/step - loss: 0.1921 - accuracy: 0.9397 - val_loss: 0.0557 - val_accuracy: 0.9810\n",
      "Epoch 311/2000\n",
      "100/100 [==============================] - 36s 358ms/step - loss: 0.2586 - accuracy: 0.9220 - val_loss: 0.0579 - val_accuracy: 0.9835\n",
      "Epoch 312/2000\n",
      "100/100 [==============================] - 36s 359ms/step - loss: 0.2320 - accuracy: 0.9256 - val_loss: 0.0530 - val_accuracy: 0.9829\n",
      "Epoch 313/2000\n",
      "100/100 [==============================] - 38s 379ms/step - loss: 0.2216 - accuracy: 0.9323 - val_loss: 0.0490 - val_accuracy: 0.9842\n",
      "Epoch 314/2000\n",
      "100/100 [==============================] - 38s 378ms/step - loss: 0.2382 - accuracy: 0.9284 - val_loss: 0.0566 - val_accuracy: 0.9830\n",
      "Epoch 315/2000\n",
      "100/100 [==============================] - 40s 396ms/step - loss: 0.2283 - accuracy: 0.9280 - val_loss: 0.0514 - val_accuracy: 0.9837\n",
      "Epoch 316/2000\n",
      "100/100 [==============================] - 38s 380ms/step - loss: 0.2150 - accuracy: 0.9297 - val_loss: 0.0546 - val_accuracy: 0.9820\n",
      "Epoch 317/2000\n",
      "100/100 [==============================] - 38s 383ms/step - loss: 0.2274 - accuracy: 0.9308 - val_loss: 0.0534 - val_accuracy: 0.9830\n",
      "Epoch 318/2000\n",
      "100/100 [==============================] - 37s 365ms/step - loss: 0.2316 - accuracy: 0.9309 - val_loss: 0.0624 - val_accuracy: 0.9823\n",
      "Epoch 319/2000\n",
      "100/100 [==============================] - 37s 371ms/step - loss: 0.2029 - accuracy: 0.9380 - val_loss: 0.0562 - val_accuracy: 0.9816\n",
      "Epoch 320/2000\n",
      "100/100 [==============================] - 37s 371ms/step - loss: 0.2203 - accuracy: 0.9344 - val_loss: 0.0537 - val_accuracy: 0.9836\n",
      "Epoch 321/2000\n",
      "100/100 [==============================] - 36s 358ms/step - loss: 0.2383 - accuracy: 0.9258 - val_loss: 0.0523 - val_accuracy: 0.9827\n",
      "Epoch 322/2000\n",
      "100/100 [==============================] - 38s 379ms/step - loss: 0.2264 - accuracy: 0.9312 - val_loss: 0.0579 - val_accuracy: 0.9812\n",
      "Epoch 323/2000\n",
      "100/100 [==============================] - 39s 390ms/step - loss: 0.2402 - accuracy: 0.9283 - val_loss: 0.0589 - val_accuracy: 0.9812\n",
      "Epoch 324/2000\n",
      "100/100 [==============================] - 37s 374ms/step - loss: 0.2404 - accuracy: 0.9298 - val_loss: 0.0541 - val_accuracy: 0.9818\n",
      "Epoch 325/2000\n",
      "100/100 [==============================] - 38s 380ms/step - loss: 0.2196 - accuracy: 0.9319 - val_loss: 0.0593 - val_accuracy: 0.9817\n",
      "Epoch 326/2000\n",
      "100/100 [==============================] - 36s 358ms/step - loss: 0.2336 - accuracy: 0.9278 - val_loss: 0.0595 - val_accuracy: 0.9808\n",
      "Epoch 327/2000\n",
      "100/100 [==============================] - 36s 362ms/step - loss: 0.2343 - accuracy: 0.9273 - val_loss: 0.0576 - val_accuracy: 0.9825\n",
      "Epoch 328/2000\n",
      "100/100 [==============================] - 36s 358ms/step - loss: 0.2029 - accuracy: 0.9358 - val_loss: 0.0532 - val_accuracy: 0.9841\n",
      "Epoch 329/2000\n",
      "100/100 [==============================] - 38s 378ms/step - loss: 0.2036 - accuracy: 0.9342 - val_loss: 0.0545 - val_accuracy: 0.9831\n",
      "Epoch 330/2000\n",
      "100/100 [==============================] - 37s 373ms/step - loss: 0.2359 - accuracy: 0.9262 - val_loss: 0.0626 - val_accuracy: 0.9811\n",
      "Epoch 331/2000\n"
     ]
    },
    {
     "name": "stdout",
     "output_type": "stream",
     "text": [
      "100/100 [==============================] - 37s 372ms/step - loss: 0.2228 - accuracy: 0.9314 - val_loss: 0.0519 - val_accuracy: 0.9835\n",
      "Epoch 332/2000\n",
      "100/100 [==============================] - 38s 383ms/step - loss: 0.2194 - accuracy: 0.9341 - val_loss: 0.0529 - val_accuracy: 0.9836\n",
      "Epoch 333/2000\n",
      "100/100 [==============================] - 38s 384ms/step - loss: 0.2404 - accuracy: 0.9280 - val_loss: 0.0546 - val_accuracy: 0.9830\n",
      "Epoch 334/2000\n",
      "100/100 [==============================] - 37s 368ms/step - loss: 0.2314 - accuracy: 0.9277 - val_loss: 0.0535 - val_accuracy: 0.9828\n",
      "Epoch 335/2000\n",
      "100/100 [==============================] - 38s 382ms/step - loss: 0.2306 - accuracy: 0.9319 - val_loss: 0.0598 - val_accuracy: 0.9817\n",
      "Epoch 336/2000\n",
      "100/100 [==============================] - 36s 356ms/step - loss: 0.2360 - accuracy: 0.9241 - val_loss: 0.0562 - val_accuracy: 0.9806\n",
      "Epoch 337/2000\n",
      "100/100 [==============================] - 38s 375ms/step - loss: 0.2296 - accuracy: 0.9278 - val_loss: 0.0582 - val_accuracy: 0.9813\n",
      "Epoch 338/2000\n",
      "100/100 [==============================] - 39s 388ms/step - loss: 0.1979 - accuracy: 0.9397 - val_loss: 0.0529 - val_accuracy: 0.9833\n",
      "Epoch 339/2000\n",
      "100/100 [==============================] - 37s 370ms/step - loss: 0.2209 - accuracy: 0.9317 - val_loss: 0.0570 - val_accuracy: 0.9830\n",
      "Epoch 340/2000\n",
      "100/100 [==============================] - 38s 380ms/step - loss: 0.2370 - accuracy: 0.9275 - val_loss: 0.0520 - val_accuracy: 0.9837\n",
      "Epoch 341/2000\n",
      "100/100 [==============================] - 38s 376ms/step - loss: 0.2191 - accuracy: 0.9319 - val_loss: 0.0578 - val_accuracy: 0.9824\n",
      "Epoch 342/2000\n",
      "100/100 [==============================] - 37s 375ms/step - loss: 0.2218 - accuracy: 0.9325 - val_loss: 0.0511 - val_accuracy: 0.9847\n",
      "Epoch 343/2000\n",
      "100/100 [==============================] - 36s 362ms/step - loss: 0.2232 - accuracy: 0.9314 - val_loss: 0.0567 - val_accuracy: 0.9832\n",
      "Epoch 344/2000\n",
      "100/100 [==============================] - 38s 378ms/step - loss: 0.2295 - accuracy: 0.9297 - val_loss: 0.0538 - val_accuracy: 0.9821\n",
      "Epoch 345/2000\n",
      "100/100 [==============================] - 37s 372ms/step - loss: 0.2390 - accuracy: 0.9284 - val_loss: 0.0531 - val_accuracy: 0.9830\n",
      "Epoch 346/2000\n",
      "100/100 [==============================] - 35s 346ms/step - loss: 0.2246 - accuracy: 0.9283 - val_loss: 0.0492 - val_accuracy: 0.9854\n",
      "Epoch 347/2000\n",
      "100/100 [==============================] - 37s 366ms/step - loss: 0.1885 - accuracy: 0.9442 - val_loss: 0.0491 - val_accuracy: 0.9848\n",
      "Epoch 348/2000\n",
      "100/100 [==============================] - 38s 375ms/step - loss: 0.2007 - accuracy: 0.9369 - val_loss: 0.0527 - val_accuracy: 0.9834\n",
      "Epoch 349/2000\n",
      "100/100 [==============================] - 35s 346ms/step - loss: 0.2438 - accuracy: 0.9281 - val_loss: 0.0519 - val_accuracy: 0.9839\n",
      "Epoch 350/2000\n",
      "100/100 [==============================] - 35s 351ms/step - loss: 0.2183 - accuracy: 0.9322 - val_loss: 0.0549 - val_accuracy: 0.9829\n",
      "Epoch 351/2000\n",
      "100/100 [==============================] - 35s 353ms/step - loss: 0.2110 - accuracy: 0.9356 - val_loss: 0.0524 - val_accuracy: 0.9840\n",
      "Epoch 352/2000\n",
      "100/100 [==============================] - 36s 360ms/step - loss: 0.2309 - accuracy: 0.9267 - val_loss: 0.0500 - val_accuracy: 0.9847\n",
      "Epoch 353/2000\n",
      "100/100 [==============================] - 37s 369ms/step - loss: 0.2167 - accuracy: 0.9336 - val_loss: 0.0522 - val_accuracy: 0.9838\n",
      "Epoch 354/2000\n",
      "100/100 [==============================] - 37s 366ms/step - loss: 0.2362 - accuracy: 0.9280 - val_loss: 0.0548 - val_accuracy: 0.9833\n",
      "Epoch 355/2000\n",
      "100/100 [==============================] - 36s 359ms/step - loss: 0.2319 - accuracy: 0.9280 - val_loss: 0.0518 - val_accuracy: 0.9840\n",
      "Epoch 356/2000\n",
      "100/100 [==============================] - 35s 352ms/step - loss: 0.2103 - accuracy: 0.9330 - val_loss: 0.0619 - val_accuracy: 0.9810\n",
      "Epoch 357/2000\n",
      "100/100 [==============================] - 38s 380ms/step - loss: 0.1994 - accuracy: 0.9398 - val_loss: 0.0531 - val_accuracy: 0.9846\n",
      "Epoch 358/2000\n",
      "100/100 [==============================] - 36s 359ms/step - loss: 0.2179 - accuracy: 0.9314 - val_loss: 0.0514 - val_accuracy: 0.9842\n",
      "Epoch 359/2000\n",
      "100/100 [==============================] - 37s 366ms/step - loss: 0.2271 - accuracy: 0.9267 - val_loss: 0.0573 - val_accuracy: 0.9820\n",
      "Epoch 360/2000\n",
      "100/100 [==============================] - 37s 373ms/step - loss: 0.2143 - accuracy: 0.9345 - val_loss: 0.0537 - val_accuracy: 0.9829\n",
      "Epoch 361/2000\n",
      "100/100 [==============================] - 36s 358ms/step - loss: 0.2200 - accuracy: 0.9305 - val_loss: 0.0499 - val_accuracy: 0.9841\n",
      "Epoch 362/2000\n",
      "100/100 [==============================] - 34s 343ms/step - loss: 0.2227 - accuracy: 0.9316 - val_loss: 0.0504 - val_accuracy: 0.9846\n",
      "Epoch 363/2000\n",
      "100/100 [==============================] - 38s 375ms/step - loss: 0.2283 - accuracy: 0.9294 - val_loss: 0.0613 - val_accuracy: 0.9809\n",
      "Epoch 364/2000\n",
      "100/100 [==============================] - 36s 356ms/step - loss: 0.2329 - accuracy: 0.9327 - val_loss: 0.0595 - val_accuracy: 0.9817\n",
      "Epoch 365/2000\n",
      "100/100 [==============================] - 34s 342ms/step - loss: 0.2133 - accuracy: 0.9331 - val_loss: 0.0553 - val_accuracy: 0.9819\n",
      "Epoch 366/2000\n",
      "100/100 [==============================] - 37s 373ms/step - loss: 0.2122 - accuracy: 0.9356 - val_loss: 0.0580 - val_accuracy: 0.9819\n",
      "Epoch 367/2000\n",
      "100/100 [==============================] - 36s 360ms/step - loss: 0.2223 - accuracy: 0.9303 - val_loss: 0.0600 - val_accuracy: 0.9808\n",
      "Epoch 368/2000\n",
      "100/100 [==============================] - 37s 369ms/step - loss: 0.2108 - accuracy: 0.9322 - val_loss: 0.0533 - val_accuracy: 0.9817\n",
      "Epoch 369/2000\n",
      "100/100 [==============================] - 36s 363ms/step - loss: 0.2361 - accuracy: 0.9244 - val_loss: 0.0526 - val_accuracy: 0.9844\n",
      "Epoch 370/2000\n",
      "100/100 [==============================] - 51s 506ms/step - loss: 0.2185 - accuracy: 0.9316 - val_loss: 0.0504 - val_accuracy: 0.9852\n",
      "Epoch 371/2000\n",
      "100/100 [==============================] - 41s 406ms/step - loss: 0.2347 - accuracy: 0.9261 - val_loss: 0.0527 - val_accuracy: 0.9842\n",
      "Epoch 372/2000\n",
      "100/100 [==============================] - 36s 361ms/step - loss: 0.2208 - accuracy: 0.9320 - val_loss: 0.0567 - val_accuracy: 0.9811\n",
      "Epoch 373/2000\n",
      "100/100 [==============================] - 37s 374ms/step - loss: 0.2370 - accuracy: 0.9295 - val_loss: 0.0478 - val_accuracy: 0.9859\n",
      "Epoch 374/2000\n",
      "100/100 [==============================] - 39s 386ms/step - loss: 0.2437 - accuracy: 0.9264 - val_loss: 0.0568 - val_accuracy: 0.9811\n",
      "Epoch 375/2000\n",
      "100/100 [==============================] - 38s 378ms/step - loss: 0.1922 - accuracy: 0.9416 - val_loss: 0.0589 - val_accuracy: 0.9806\n",
      "Epoch 376/2000\n",
      "100/100 [==============================] - 36s 356ms/step - loss: 0.2116 - accuracy: 0.9350 - val_loss: 0.0598 - val_accuracy: 0.9809\n",
      "Epoch 377/2000\n",
      "100/100 [==============================] - 34s 343ms/step - loss: 0.2418 - accuracy: 0.9228 - val_loss: 0.0568 - val_accuracy: 0.9812\n",
      "Epoch 378/2000\n",
      "100/100 [==============================] - 42s 417ms/step - loss: 0.2210 - accuracy: 0.9298 - val_loss: 0.0480 - val_accuracy: 0.9847\n",
      "Epoch 379/2000\n",
      "100/100 [==============================] - 38s 376ms/step - loss: 0.2140 - accuracy: 0.9308 - val_loss: 0.0491 - val_accuracy: 0.9839\n",
      "Epoch 380/2000\n",
      "100/100 [==============================] - 38s 377ms/step - loss: 0.2268 - accuracy: 0.9292 - val_loss: 0.0524 - val_accuracy: 0.9824\n",
      "Epoch 381/2000\n",
      "100/100 [==============================] - 36s 364ms/step - loss: 0.2319 - accuracy: 0.9283 - val_loss: 0.0568 - val_accuracy: 0.9827\n",
      "Epoch 382/2000\n",
      "100/100 [==============================] - 42s 420ms/step - loss: 0.2329 - accuracy: 0.9298 - val_loss: 0.0544 - val_accuracy: 0.9823\n",
      "Epoch 383/2000\n",
      "100/100 [==============================] - 38s 376ms/step - loss: 0.2504 - accuracy: 0.9217 - val_loss: 0.0541 - val_accuracy: 0.9823\n",
      "Epoch 384/2000\n",
      "100/100 [==============================] - 41s 412ms/step - loss: 0.2167 - accuracy: 0.9312 - val_loss: 0.0556 - val_accuracy: 0.9835\n",
      "Epoch 385/2000\n",
      "100/100 [==============================] - 43s 432ms/step - loss: 0.1913 - accuracy: 0.9413 - val_loss: 0.0544 - val_accuracy: 0.9833\n",
      "Epoch 386/2000\n"
     ]
    },
    {
     "name": "stdout",
     "output_type": "stream",
     "text": [
      "100/100 [==============================] - 38s 381ms/step - loss: 0.2339 - accuracy: 0.9287 - val_loss: 0.0560 - val_accuracy: 0.9834\n",
      "Epoch 387/2000\n",
      "100/100 [==============================] - 36s 358ms/step - loss: 0.2287 - accuracy: 0.9277 - val_loss: 0.0551 - val_accuracy: 0.9817\n",
      "Epoch 388/2000\n",
      "100/100 [==============================] - 38s 379ms/step - loss: 0.2180 - accuracy: 0.9331 - val_loss: 0.0548 - val_accuracy: 0.9818\n",
      "Epoch 389/2000\n",
      "100/100 [==============================] - 35s 350ms/step - loss: 0.2160 - accuracy: 0.9342 - val_loss: 0.0537 - val_accuracy: 0.9825\n",
      "Epoch 390/2000\n",
      "100/100 [==============================] - 39s 390ms/step - loss: 0.2254 - accuracy: 0.9277 - val_loss: 0.0542 - val_accuracy: 0.9820\n",
      "Epoch 391/2000\n",
      "100/100 [==============================] - 36s 364ms/step - loss: 0.2420 - accuracy: 0.9228 - val_loss: 0.0525 - val_accuracy: 0.9827\n",
      "Epoch 392/2000\n",
      "100/100 [==============================] - 37s 372ms/step - loss: 0.2342 - accuracy: 0.9291 - val_loss: 0.0540 - val_accuracy: 0.9822\n",
      "Epoch 393/2000\n",
      "100/100 [==============================] - 37s 375ms/step - loss: 0.2320 - accuracy: 0.9273 - val_loss: 0.0514 - val_accuracy: 0.9837\n",
      "Epoch 394/2000\n",
      "100/100 [==============================] - 36s 363ms/step - loss: 0.1925 - accuracy: 0.9420 - val_loss: 0.0521 - val_accuracy: 0.9826\n",
      "Epoch 395/2000\n",
      "100/100 [==============================] - 38s 378ms/step - loss: 0.2078 - accuracy: 0.9403 - val_loss: 0.0523 - val_accuracy: 0.9823\n",
      "Epoch 396/2000\n",
      "100/100 [==============================] - 37s 369ms/step - loss: 0.2274 - accuracy: 0.9306 - val_loss: 0.0509 - val_accuracy: 0.9841\n",
      "Epoch 397/2000\n",
      "100/100 [==============================] - 36s 363ms/step - loss: 0.2248 - accuracy: 0.9348 - val_loss: 0.0543 - val_accuracy: 0.9835\n",
      "Epoch 398/2000\n",
      "100/100 [==============================] - 38s 382ms/step - loss: 0.2275 - accuracy: 0.9291 - val_loss: 0.0545 - val_accuracy: 0.9825\n",
      "Epoch 399/2000\n",
      "100/100 [==============================] - 37s 374ms/step - loss: 0.2154 - accuracy: 0.9336 - val_loss: 0.0531 - val_accuracy: 0.9820\n",
      "Epoch 400/2000\n",
      "100/100 [==============================] - 38s 380ms/step - loss: 0.2184 - accuracy: 0.9303 - val_loss: 0.0536 - val_accuracy: 0.9819\n",
      "Epoch 401/2000\n",
      "100/100 [==============================] - 39s 393ms/step - loss: 0.2203 - accuracy: 0.9328 - val_loss: 0.0502 - val_accuracy: 0.9825\n",
      "Epoch 402/2000\n",
      "100/100 [==============================] - 34s 341ms/step - loss: 0.2271 - accuracy: 0.9278 - val_loss: 0.0539 - val_accuracy: 0.9823\n",
      "Epoch 403/2000\n",
      "100/100 [==============================] - 31s 313ms/step - loss: 0.1871 - accuracy: 0.9425 - val_loss: 0.0619 - val_accuracy: 0.9809\n",
      "Epoch 404/2000\n",
      "100/100 [==============================] - 31s 312ms/step - loss: 0.1919 - accuracy: 0.9391 - val_loss: 0.0613 - val_accuracy: 0.9790\n",
      "Epoch 405/2000\n",
      "100/100 [==============================] - 30s 304ms/step - loss: 0.2225 - accuracy: 0.9331 - val_loss: 0.0581 - val_accuracy: 0.9813\n",
      "Epoch 406/2000\n",
      "100/100 [==============================] - 31s 305ms/step - loss: 0.2176 - accuracy: 0.9302 - val_loss: 0.0493 - val_accuracy: 0.9841\n",
      "Epoch 407/2000\n",
      "100/100 [==============================] - 31s 314ms/step - loss: 0.2212 - accuracy: 0.9323 - val_loss: 0.0547 - val_accuracy: 0.9844\n",
      "Epoch 408/2000\n",
      "100/100 [==============================] - 31s 310ms/step - loss: 0.2282 - accuracy: 0.9333 - val_loss: 0.0486 - val_accuracy: 0.9842\n",
      "Epoch 409/2000\n",
      "100/100 [==============================] - 30s 303ms/step - loss: 0.2274 - accuracy: 0.9328 - val_loss: 0.0518 - val_accuracy: 0.9833\n",
      "Epoch 410/2000\n",
      "100/100 [==============================] - 30s 304ms/step - loss: 0.2151 - accuracy: 0.9327 - val_loss: 0.0519 - val_accuracy: 0.9824\n",
      "Epoch 411/2000\n",
      "100/100 [==============================] - 30s 300ms/step - loss: 0.2467 - accuracy: 0.9230 - val_loss: 0.0538 - val_accuracy: 0.9823\n",
      "Epoch 412/2000\n",
      "100/100 [==============================] - 30s 299ms/step - loss: 0.2024 - accuracy: 0.9353 - val_loss: 0.0522 - val_accuracy: 0.9846\n",
      "Epoch 413/2000\n",
      "100/100 [==============================] - 30s 299ms/step - loss: 0.1881 - accuracy: 0.9452 - val_loss: 0.0513 - val_accuracy: 0.9830\n",
      "Epoch 414/2000\n",
      "100/100 [==============================] - 30s 296ms/step - loss: 0.2333 - accuracy: 0.9300 - val_loss: 0.0540 - val_accuracy: 0.9844\n",
      "Epoch 415/2000\n",
      "100/100 [==============================] - 29s 293ms/step - loss: 0.2189 - accuracy: 0.9322 - val_loss: 0.0564 - val_accuracy: 0.9818\n",
      "Epoch 416/2000\n",
      "100/100 [==============================] - 30s 295ms/step - loss: 0.2073 - accuracy: 0.9389 - val_loss: 0.0564 - val_accuracy: 0.9825\n",
      "Epoch 417/2000\n",
      "100/100 [==============================] - 30s 299ms/step - loss: 0.2285 - accuracy: 0.9303 - val_loss: 0.0493 - val_accuracy: 0.9844\n",
      "Epoch 418/2000\n",
      "100/100 [==============================] - 30s 298ms/step - loss: 0.2230 - accuracy: 0.9316 - val_loss: 0.0498 - val_accuracy: 0.9831\n",
      "Epoch 419/2000\n",
      "100/100 [==============================] - 30s 297ms/step - loss: 0.2243 - accuracy: 0.9316 - val_loss: 0.0475 - val_accuracy: 0.9841\n",
      "Epoch 420/2000\n",
      "100/100 [==============================] - 30s 296ms/step - loss: 0.2388 - accuracy: 0.9287 - val_loss: 0.0504 - val_accuracy: 0.9832\n",
      "Epoch 421/2000\n",
      "100/100 [==============================] - 30s 302ms/step - loss: 0.2285 - accuracy: 0.9309 - val_loss: 0.0554 - val_accuracy: 0.9821\n",
      "Epoch 422/2000\n",
      "100/100 [==============================] - 30s 297ms/step - loss: 0.1923 - accuracy: 0.9391 - val_loss: 0.0505 - val_accuracy: 0.9836\n",
      "Epoch 423/2000\n",
      "100/100 [==============================] - 30s 297ms/step - loss: 0.2143 - accuracy: 0.9348 - val_loss: 0.0477 - val_accuracy: 0.9850\n",
      "Epoch 424/2000\n",
      "100/100 [==============================] - 29s 295ms/step - loss: 0.2333 - accuracy: 0.9300 - val_loss: 0.0511 - val_accuracy: 0.9837\n",
      "Epoch 425/2000\n",
      "100/100 [==============================] - 30s 297ms/step - loss: 0.2182 - accuracy: 0.9309 - val_loss: 0.0537 - val_accuracy: 0.9830\n",
      "Epoch 426/2000\n",
      "100/100 [==============================] - 30s 299ms/step - loss: 0.1987 - accuracy: 0.9397 - val_loss: 0.0591 - val_accuracy: 0.9811\n",
      "Epoch 427/2000\n",
      "100/100 [==============================] - 30s 299ms/step - loss: 0.2322 - accuracy: 0.9295 - val_loss: 0.0527 - val_accuracy: 0.9828\n",
      "Epoch 428/2000\n",
      "100/100 [==============================] - 30s 301ms/step - loss: 0.2116 - accuracy: 0.9347 - val_loss: 0.0482 - val_accuracy: 0.9847\n",
      "Epoch 429/2000\n",
      "100/100 [==============================] - 29s 292ms/step - loss: 0.2191 - accuracy: 0.9328 - val_loss: 0.0545 - val_accuracy: 0.9822\n",
      "Epoch 430/2000\n",
      "100/100 [==============================] - 30s 298ms/step - loss: 0.2305 - accuracy: 0.9270 - val_loss: 0.0535 - val_accuracy: 0.9831\n",
      "Epoch 431/2000\n",
      "100/100 [==============================] - 29s 293ms/step - loss: 0.2089 - accuracy: 0.9337 - val_loss: 0.0596 - val_accuracy: 0.9819\n",
      "Epoch 432/2000\n",
      "100/100 [==============================] - 29s 293ms/step - loss: 0.1868 - accuracy: 0.9461 - val_loss: 0.0550 - val_accuracy: 0.9834\n",
      "Epoch 433/2000\n",
      "100/100 [==============================] - 29s 292ms/step - loss: 0.2379 - accuracy: 0.9244 - val_loss: 0.0581 - val_accuracy: 0.9828\n",
      "Epoch 434/2000\n",
      "100/100 [==============================] - 29s 293ms/step - loss: 0.2244 - accuracy: 0.9322 - val_loss: 0.0558 - val_accuracy: 0.9828\n",
      "Epoch 435/2000\n",
      "100/100 [==============================] - 29s 295ms/step - loss: 0.2144 - accuracy: 0.9359 - val_loss: 0.0513 - val_accuracy: 0.9843\n",
      "Epoch 436/2000\n",
      "100/100 [==============================] - 29s 294ms/step - loss: 0.2258 - accuracy: 0.9325 - val_loss: 0.0483 - val_accuracy: 0.9845\n",
      "Epoch 437/2000\n",
      "100/100 [==============================] - 30s 296ms/step - loss: 0.2346 - accuracy: 0.9283 - val_loss: 0.0509 - val_accuracy: 0.9838\n",
      "Epoch 438/2000\n",
      "100/100 [==============================] - 31s 308ms/step - loss: 0.2259 - accuracy: 0.9297 - val_loss: 0.0525 - val_accuracy: 0.9828\n",
      "Epoch 439/2000\n",
      "100/100 [==============================] - 30s 304ms/step - loss: 0.2289 - accuracy: 0.9250 - val_loss: 0.0552 - val_accuracy: 0.9825\n",
      "Epoch 440/2000\n",
      "100/100 [==============================] - 29s 293ms/step - loss: 0.2219 - accuracy: 0.9352 - val_loss: 0.0502 - val_accuracy: 0.9837\n",
      "Epoch 441/2000\n"
     ]
    },
    {
     "name": "stdout",
     "output_type": "stream",
     "text": [
      "100/100 [==============================] - 29s 291ms/step - loss: 0.1854 - accuracy: 0.9448 - val_loss: 0.0566 - val_accuracy: 0.9824\n",
      "Epoch 442/2000\n",
      "100/100 [==============================] - 30s 298ms/step - loss: 0.2161 - accuracy: 0.9336 - val_loss: 0.0545 - val_accuracy: 0.9828\n",
      "Epoch 443/2000\n",
      "100/100 [==============================] - 30s 296ms/step - loss: 0.2234 - accuracy: 0.9330 - val_loss: 0.0497 - val_accuracy: 0.9838\n",
      "Epoch 444/2000\n",
      "100/100 [==============================] - 29s 295ms/step - loss: 0.2056 - accuracy: 0.9388 - val_loss: 0.0568 - val_accuracy: 0.9820\n",
      "Epoch 445/2000\n",
      "100/100 [==============================] - 30s 297ms/step - loss: 0.2078 - accuracy: 0.9362 - val_loss: 0.0571 - val_accuracy: 0.9822\n",
      "Epoch 446/2000\n",
      "100/100 [==============================] - 29s 293ms/step - loss: 0.2298 - accuracy: 0.9294 - val_loss: 0.0583 - val_accuracy: 0.9808\n",
      "Epoch 447/2000\n",
      "100/100 [==============================] - 29s 294ms/step - loss: 0.2205 - accuracy: 0.9328 - val_loss: 0.0572 - val_accuracy: 0.9811\n",
      "Epoch 448/2000\n",
      "100/100 [==============================] - 29s 292ms/step - loss: 0.2260 - accuracy: 0.9337 - val_loss: 0.0533 - val_accuracy: 0.9848\n",
      "Epoch 449/2000\n",
      "100/100 [==============================] - 30s 302ms/step - loss: 0.2362 - accuracy: 0.9258 - val_loss: 0.0494 - val_accuracy: 0.9835\n",
      "Epoch 450/2000\n",
      "100/100 [==============================] - 30s 297ms/step - loss: 0.1922 - accuracy: 0.9408 - val_loss: 0.0594 - val_accuracy: 0.9804\n",
      "Epoch 451/2000\n",
      "100/100 [==============================] - 29s 294ms/step - loss: 0.2121 - accuracy: 0.9361 - val_loss: 0.0581 - val_accuracy: 0.9817\n",
      "Epoch 452/2000\n",
      "100/100 [==============================] - 29s 294ms/step - loss: 0.2160 - accuracy: 0.9344 - val_loss: 0.0509 - val_accuracy: 0.9838\n",
      "Epoch 453/2000\n",
      "100/100 [==============================] - 29s 290ms/step - loss: 0.2196 - accuracy: 0.9316 - val_loss: 0.0478 - val_accuracy: 0.9839\n",
      "Epoch 454/2000\n",
      "100/100 [==============================] - 29s 290ms/step - loss: 0.2149 - accuracy: 0.9367 - val_loss: 0.0534 - val_accuracy: 0.9844\n",
      "Epoch 455/2000\n",
      "100/100 [==============================] - 29s 289ms/step - loss: 0.2315 - accuracy: 0.9323 - val_loss: 0.0487 - val_accuracy: 0.9852\n",
      "Epoch 456/2000\n",
      "100/100 [==============================] - 29s 291ms/step - loss: 0.2192 - accuracy: 0.9342 - val_loss: 0.0515 - val_accuracy: 0.9847\n",
      "Epoch 457/2000\n",
      "100/100 [==============================] - 29s 293ms/step - loss: 0.2107 - accuracy: 0.9375 - val_loss: 0.0535 - val_accuracy: 0.9831\n",
      "Epoch 458/2000\n",
      "100/100 [==============================] - 29s 292ms/step - loss: 0.2370 - accuracy: 0.9259 - val_loss: 0.0516 - val_accuracy: 0.9835\n",
      "Epoch 459/2000\n",
      "100/100 [==============================] - 30s 298ms/step - loss: 0.2069 - accuracy: 0.9353 - val_loss: 0.0520 - val_accuracy: 0.9833\n",
      "Epoch 460/2000\n",
      "100/100 [==============================] - 29s 288ms/step - loss: 0.1881 - accuracy: 0.9411 - val_loss: 0.0556 - val_accuracy: 0.9820\n",
      "Epoch 461/2000\n",
      "100/100 [==============================] - 29s 290ms/step - loss: 0.2296 - accuracy: 0.9295 - val_loss: 0.0624 - val_accuracy: 0.9813\n",
      "Epoch 462/2000\n",
      "100/100 [==============================] - 30s 295ms/step - loss: 0.2173 - accuracy: 0.9291 - val_loss: 0.0556 - val_accuracy: 0.9826\n",
      "Epoch 463/2000\n",
      "100/100 [==============================] - 30s 298ms/step - loss: 0.2221 - accuracy: 0.9306 - val_loss: 0.0539 - val_accuracy: 0.9821\n",
      "Epoch 464/2000\n",
      "100/100 [==============================] - 29s 293ms/step - loss: 0.2176 - accuracy: 0.9323 - val_loss: 0.0512 - val_accuracy: 0.9837\n",
      "Epoch 465/2000\n",
      "100/100 [==============================] - 29s 292ms/step - loss: 0.2133 - accuracy: 0.9353 - val_loss: 0.0525 - val_accuracy: 0.9822\n",
      "Epoch 466/2000\n",
      "100/100 [==============================] - 29s 292ms/step - loss: 0.2177 - accuracy: 0.9319 - val_loss: 0.0516 - val_accuracy: 0.9843\n",
      "Epoch 467/2000\n",
      "100/100 [==============================] - 29s 287ms/step - loss: 0.2359 - accuracy: 0.9270 - val_loss: 0.0519 - val_accuracy: 0.9841\n",
      "Epoch 468/2000\n",
      "100/100 [==============================] - 29s 292ms/step - loss: 0.2125 - accuracy: 0.9328 - val_loss: 0.0516 - val_accuracy: 0.9844\n",
      "Epoch 469/2000\n",
      "100/100 [==============================] - 29s 289ms/step - loss: 0.1971 - accuracy: 0.9406 - val_loss: 0.0467 - val_accuracy: 0.9847\n",
      "Epoch 470/2000\n",
      "100/100 [==============================] - 30s 296ms/step - loss: 0.2009 - accuracy: 0.9400 - val_loss: 0.0469 - val_accuracy: 0.9844\n",
      "Epoch 471/2000\n",
      "100/100 [==============================] - 29s 285ms/step - loss: 0.2312 - accuracy: 0.9297 - val_loss: 0.0500 - val_accuracy: 0.9843\n",
      "Epoch 472/2000\n",
      "100/100 [==============================] - 29s 291ms/step - loss: 0.2296 - accuracy: 0.9320 - val_loss: 0.0484 - val_accuracy: 0.9839\n",
      "Epoch 473/2000\n",
      "100/100 [==============================] - 29s 292ms/step - loss: 0.2156 - accuracy: 0.9320 - val_loss: 0.0559 - val_accuracy: 0.9840\n",
      "Epoch 474/2000\n",
      "100/100 [==============================] - 29s 293ms/step - loss: 0.2414 - accuracy: 0.9281 - val_loss: 0.0497 - val_accuracy: 0.9842\n",
      "Epoch 475/2000\n",
      "100/100 [==============================] - 29s 294ms/step - loss: 0.2135 - accuracy: 0.9331 - val_loss: 0.0508 - val_accuracy: 0.9831\n",
      "Epoch 476/2000\n",
      "100/100 [==============================] - 29s 293ms/step - loss: 0.2293 - accuracy: 0.9319 - val_loss: 0.0557 - val_accuracy: 0.9829\n",
      "Epoch 477/2000\n",
      "100/100 [==============================] - 29s 291ms/step - loss: 0.2212 - accuracy: 0.9305 - val_loss: 0.0496 - val_accuracy: 0.9847\n",
      "Epoch 478/2000\n",
      "100/100 [==============================] - 30s 295ms/step - loss: 0.1954 - accuracy: 0.9400 - val_loss: 0.0502 - val_accuracy: 0.9846\n",
      "Epoch 479/2000\n",
      "100/100 [==============================] - 30s 297ms/step - loss: 0.1906 - accuracy: 0.9403 - val_loss: 0.0525 - val_accuracy: 0.9834\n",
      "Epoch 480/2000\n",
      "100/100 [==============================] - 30s 300ms/step - loss: 0.2151 - accuracy: 0.9336 - val_loss: 0.0629 - val_accuracy: 0.9791\n",
      "Epoch 481/2000\n",
      "100/100 [==============================] - 30s 303ms/step - loss: 0.2197 - accuracy: 0.9341 - val_loss: 0.0475 - val_accuracy: 0.9836\n",
      "Epoch 482/2000\n",
      "100/100 [==============================] - 30s 301ms/step - loss: 0.2029 - accuracy: 0.9375 - val_loss: 0.0515 - val_accuracy: 0.9841\n",
      "Epoch 483/2000\n",
      "100/100 [==============================] - 30s 296ms/step - loss: 0.2190 - accuracy: 0.9302 - val_loss: 0.0517 - val_accuracy: 0.9844\n",
      "Epoch 484/2000\n",
      "100/100 [==============================] - 29s 293ms/step - loss: 0.2244 - accuracy: 0.9339 - val_loss: 0.0485 - val_accuracy: 0.9839\n",
      "Epoch 485/2000\n",
      "100/100 [==============================] - 29s 285ms/step - loss: 0.2334 - accuracy: 0.9294 - val_loss: 0.0483 - val_accuracy: 0.9835\n",
      "Epoch 486/2000\n",
      "100/100 [==============================] - 29s 290ms/step - loss: 0.2547 - accuracy: 0.9205 - val_loss: 0.0575 - val_accuracy: 0.9813\n",
      "Epoch 487/2000\n",
      "100/100 [==============================] - 29s 292ms/step - loss: 0.2033 - accuracy: 0.9362 - val_loss: 0.0536 - val_accuracy: 0.9840\n",
      "Epoch 488/2000\n",
      "100/100 [==============================] - 29s 293ms/step - loss: 0.1864 - accuracy: 0.9445 - val_loss: 0.0521 - val_accuracy: 0.9819\n",
      "Epoch 489/2000\n",
      "100/100 [==============================] - 29s 290ms/step - loss: 0.2197 - accuracy: 0.9311 - val_loss: 0.0515 - val_accuracy: 0.9847\n",
      "Epoch 490/2000\n",
      "100/100 [==============================] - 29s 289ms/step - loss: 0.2290 - accuracy: 0.9281 - val_loss: 0.0530 - val_accuracy: 0.9830\n",
      "Epoch 491/2000\n",
      "100/100 [==============================] - 30s 299ms/step - loss: 0.2069 - accuracy: 0.9337 - val_loss: 0.0503 - val_accuracy: 0.9845\n",
      "Epoch 492/2000\n",
      "100/100 [==============================] - 29s 286ms/step - loss: 0.2267 - accuracy: 0.9273 - val_loss: 0.0499 - val_accuracy: 0.9847\n",
      "Epoch 493/2000\n",
      "100/100 [==============================] - 29s 288ms/step - loss: 0.2247 - accuracy: 0.9289 - val_loss: 0.0509 - val_accuracy: 0.9849\n",
      "Epoch 494/2000\n",
      "100/100 [==============================] - 29s 292ms/step - loss: 0.2324 - accuracy: 0.9314 - val_loss: 0.0550 - val_accuracy: 0.9829\n",
      "Epoch 495/2000\n",
      "100/100 [==============================] - 29s 291ms/step - loss: 0.2173 - accuracy: 0.9300 - val_loss: 0.0512 - val_accuracy: 0.9838\n",
      "Epoch 496/2000\n"
     ]
    },
    {
     "name": "stdout",
     "output_type": "stream",
     "text": [
      "100/100 [==============================] - 29s 286ms/step - loss: 0.2296 - accuracy: 0.9283 - val_loss: 0.0497 - val_accuracy: 0.9846\n",
      "Epoch 497/2000\n",
      "100/100 [==============================] - 29s 289ms/step - loss: 0.1890 - accuracy: 0.9419 - val_loss: 0.0514 - val_accuracy: 0.9841\n",
      "Epoch 498/2000\n",
      "100/100 [==============================] - 29s 286ms/step - loss: 0.2150 - accuracy: 0.9334 - val_loss: 0.0549 - val_accuracy: 0.9824\n",
      "Epoch 499/2000\n",
      "100/100 [==============================] - 30s 299ms/step - loss: 0.2092 - accuracy: 0.9353 - val_loss: 0.0519 - val_accuracy: 0.9837\n",
      "Epoch 500/2000\n",
      "100/100 [==============================] - 29s 290ms/step - loss: 0.2246 - accuracy: 0.9319 - val_loss: 0.0550 - val_accuracy: 0.9825\n",
      "Epoch 501/2000\n",
      "100/100 [==============================] - 30s 296ms/step - loss: 0.2148 - accuracy: 0.9336 - val_loss: 0.0536 - val_accuracy: 0.9819\n",
      "Epoch 502/2000\n",
      "100/100 [==============================] - 29s 287ms/step - loss: 0.2345 - accuracy: 0.9272 - val_loss: 0.0521 - val_accuracy: 0.9824\n",
      "Epoch 503/2000\n",
      "100/100 [==============================] - 29s 290ms/step - loss: 0.1991 - accuracy: 0.9388 - val_loss: 0.0497 - val_accuracy: 0.9850\n",
      "Epoch 504/2000\n",
      "100/100 [==============================] - 29s 291ms/step - loss: 0.2067 - accuracy: 0.9355 - val_loss: 0.0530 - val_accuracy: 0.9834\n",
      "Epoch 505/2000\n",
      "100/100 [==============================] - 29s 287ms/step - loss: 0.2347 - accuracy: 0.9261 - val_loss: 0.0502 - val_accuracy: 0.9835\n",
      "Epoch 506/2000\n",
      "100/100 [==============================] - 29s 290ms/step - loss: 0.2112 - accuracy: 0.9364 - val_loss: 0.0543 - val_accuracy: 0.9828\n",
      "Epoch 507/2000\n",
      "100/100 [==============================] - 29s 287ms/step - loss: 0.1992 - accuracy: 0.9406 - val_loss: 0.0506 - val_accuracy: 0.9840\n",
      "Epoch 508/2000\n",
      "100/100 [==============================] - 29s 291ms/step - loss: 0.2261 - accuracy: 0.9323 - val_loss: 0.0551 - val_accuracy: 0.9830\n",
      "Epoch 509/2000\n",
      "100/100 [==============================] - 29s 286ms/step - loss: 0.2193 - accuracy: 0.9303 - val_loss: 0.0597 - val_accuracy: 0.9807\n",
      "Epoch 510/2000\n",
      "100/100 [==============================] - 29s 289ms/step - loss: 0.2034 - accuracy: 0.9377 - val_loss: 0.0506 - val_accuracy: 0.9838\n",
      "Epoch 511/2000\n",
      "100/100 [==============================] - 29s 288ms/step - loss: 0.2263 - accuracy: 0.9302 - val_loss: 0.0501 - val_accuracy: 0.9833\n",
      "Epoch 512/2000\n",
      "100/100 [==============================] - 30s 297ms/step - loss: 0.2058 - accuracy: 0.9356 - val_loss: 0.0484 - val_accuracy: 0.9845\n",
      "Epoch 513/2000\n",
      "100/100 [==============================] - 29s 294ms/step - loss: 0.2168 - accuracy: 0.9358 - val_loss: 0.0514 - val_accuracy: 0.9825\n",
      "Epoch 514/2000\n",
      "100/100 [==============================] - 29s 291ms/step - loss: 0.2098 - accuracy: 0.9330 - val_loss: 0.0524 - val_accuracy: 0.9821\n",
      "Epoch 515/2000\n",
      "100/100 [==============================] - 29s 289ms/step - loss: 0.1951 - accuracy: 0.9406 - val_loss: 0.0519 - val_accuracy: 0.9833\n",
      "Epoch 516/2000\n",
      "100/100 [==============================] - 29s 288ms/step - loss: 0.1997 - accuracy: 0.9395 - val_loss: 0.0480 - val_accuracy: 0.9847\n",
      "Epoch 517/2000\n",
      "100/100 [==============================] - 29s 290ms/step - loss: 0.2199 - accuracy: 0.9359 - val_loss: 0.0534 - val_accuracy: 0.9845\n",
      "Epoch 518/2000\n",
      "100/100 [==============================] - 29s 287ms/step - loss: 0.2148 - accuracy: 0.9333 - val_loss: 0.0519 - val_accuracy: 0.9838\n",
      "Epoch 519/2000\n",
      "100/100 [==============================] - 29s 291ms/step - loss: 0.1930 - accuracy: 0.9403 - val_loss: 0.0499 - val_accuracy: 0.9834\n",
      "Epoch 520/2000\n",
      "100/100 [==============================] - 29s 294ms/step - loss: 0.2228 - accuracy: 0.9339 - val_loss: 0.0457 - val_accuracy: 0.9855\n",
      "Epoch 521/2000\n",
      "100/100 [==============================] - 29s 288ms/step - loss: 0.2230 - accuracy: 0.9312 - val_loss: 0.0515 - val_accuracy: 0.9844\n",
      "Epoch 522/2000\n",
      "100/100 [==============================] - 29s 295ms/step - loss: 0.2205 - accuracy: 0.9287 - val_loss: 0.0521 - val_accuracy: 0.9833\n",
      "Epoch 523/2000\n",
      "100/100 [==============================] - 29s 287ms/step - loss: 0.2231 - accuracy: 0.9308 - val_loss: 0.0499 - val_accuracy: 0.9830\n",
      "Epoch 524/2000\n",
      "100/100 [==============================] - 29s 289ms/step - loss: 0.2304 - accuracy: 0.9316 - val_loss: 0.0502 - val_accuracy: 0.9836\n",
      "Epoch 525/2000\n",
      "100/100 [==============================] - 29s 288ms/step - loss: 0.1918 - accuracy: 0.9438 - val_loss: 0.0521 - val_accuracy: 0.9840\n",
      "Epoch 526/2000\n",
      "100/100 [==============================] - 29s 294ms/step - loss: 0.2110 - accuracy: 0.9372 - val_loss: 0.0556 - val_accuracy: 0.9831\n",
      "Epoch 527/2000\n",
      "100/100 [==============================] - 29s 288ms/step - loss: 0.2318 - accuracy: 0.9289 - val_loss: 0.0498 - val_accuracy: 0.9848\n",
      "Epoch 528/2000\n",
      "100/100 [==============================] - 29s 294ms/step - loss: 0.2126 - accuracy: 0.9306 - val_loss: 0.0535 - val_accuracy: 0.9843\n",
      "Epoch 529/2000\n",
      "100/100 [==============================] - 29s 286ms/step - loss: 0.2039 - accuracy: 0.9375 - val_loss: 0.0504 - val_accuracy: 0.9839\n",
      "Epoch 530/2000\n",
      "100/100 [==============================] - 29s 288ms/step - loss: 0.2306 - accuracy: 0.9286 - val_loss: 0.0494 - val_accuracy: 0.9858\n",
      "Epoch 531/2000\n",
      "100/100 [==============================] - 29s 291ms/step - loss: 0.2151 - accuracy: 0.9336 - val_loss: 0.0511 - val_accuracy: 0.9852\n",
      "Epoch 532/2000\n",
      "100/100 [==============================] - 29s 291ms/step - loss: 0.2302 - accuracy: 0.9342 - val_loss: 0.0507 - val_accuracy: 0.9852\n",
      "Epoch 533/2000\n",
      "100/100 [==============================] - 29s 292ms/step - loss: 0.2357 - accuracy: 0.9289 - val_loss: 0.0549 - val_accuracy: 0.9839\n",
      "Epoch 534/2000\n",
      "100/100 [==============================] - 29s 289ms/step - loss: 0.2167 - accuracy: 0.9341 - val_loss: 0.0509 - val_accuracy: 0.9858\n",
      "Epoch 535/2000\n",
      "100/100 [==============================] - 29s 292ms/step - loss: 0.1869 - accuracy: 0.9453 - val_loss: 0.0529 - val_accuracy: 0.9843\n",
      "Epoch 536/2000\n",
      "100/100 [==============================] - 28s 284ms/step - loss: 0.2169 - accuracy: 0.9303 - val_loss: 0.0550 - val_accuracy: 0.9842\n",
      "Epoch 537/2000\n",
      "100/100 [==============================] - 29s 289ms/step - loss: 0.2181 - accuracy: 0.9333 - val_loss: 0.0542 - val_accuracy: 0.9830\n",
      "Epoch 538/2000\n",
      "100/100 [==============================] - 29s 287ms/step - loss: 0.2162 - accuracy: 0.9347 - val_loss: 0.0504 - val_accuracy: 0.9842\n",
      "Epoch 539/2000\n",
      "100/100 [==============================] - 29s 288ms/step - loss: 0.2055 - accuracy: 0.9386 - val_loss: 0.0533 - val_accuracy: 0.9850\n",
      "Epoch 540/2000\n",
      "100/100 [==============================] - 29s 290ms/step - loss: 0.2165 - accuracy: 0.9339 - val_loss: 0.0491 - val_accuracy: 0.9841\n",
      "Epoch 541/2000\n",
      "100/100 [==============================] - 29s 291ms/step - loss: 0.2216 - accuracy: 0.9316 - val_loss: 0.0502 - val_accuracy: 0.9845\n",
      "Epoch 542/2000\n",
      "100/100 [==============================] - 29s 287ms/step - loss: 0.2221 - accuracy: 0.9323 - val_loss: 0.0471 - val_accuracy: 0.9847\n",
      "Epoch 543/2000\n",
      "100/100 [==============================] - 29s 295ms/step - loss: 0.2148 - accuracy: 0.9337 - val_loss: 0.0517 - val_accuracy: 0.9841\n",
      "Epoch 544/2000\n",
      "100/100 [==============================] - 30s 295ms/step - loss: 0.1996 - accuracy: 0.9406 - val_loss: 0.0463 - val_accuracy: 0.9850\n",
      "Epoch 545/2000\n",
      "100/100 [==============================] - 29s 288ms/step - loss: 0.1987 - accuracy: 0.9380 - val_loss: 0.0489 - val_accuracy: 0.9858\n",
      "Epoch 546/2000\n",
      "100/100 [==============================] - 29s 289ms/step - loss: 0.2308 - accuracy: 0.9289 - val_loss: 0.0523 - val_accuracy: 0.9836\n",
      "Epoch 547/2000\n",
      "100/100 [==============================] - 29s 291ms/step - loss: 0.2117 - accuracy: 0.9359 - val_loss: 0.0474 - val_accuracy: 0.9858\n",
      "Epoch 548/2000\n",
      "100/100 [==============================] - 29s 292ms/step - loss: 0.2194 - accuracy: 0.9333 - val_loss: 0.0471 - val_accuracy: 0.9870\n",
      "Epoch 549/2000\n",
      "100/100 [==============================] - 29s 289ms/step - loss: 0.2222 - accuracy: 0.9305 - val_loss: 0.0445 - val_accuracy: 0.9857\n",
      "Epoch 550/2000\n",
      "100/100 [==============================] - 29s 286ms/step - loss: 0.2228 - accuracy: 0.9328 - val_loss: 0.0479 - val_accuracy: 0.9845\n",
      "Epoch 551/2000\n"
     ]
    },
    {
     "name": "stdout",
     "output_type": "stream",
     "text": [
      "100/100 [==============================] - 29s 290ms/step - loss: 0.2221 - accuracy: 0.9319 - val_loss: 0.0517 - val_accuracy: 0.9841\n",
      "Epoch 552/2000\n",
      "100/100 [==============================] - 29s 293ms/step - loss: 0.2368 - accuracy: 0.9270 - val_loss: 0.0534 - val_accuracy: 0.9831\n",
      "Epoch 553/2000\n",
      "100/100 [==============================] - 29s 289ms/step - loss: 0.1878 - accuracy: 0.9380 - val_loss: 0.0540 - val_accuracy: 0.9832\n",
      "Epoch 554/2000\n",
      "100/100 [==============================] - 30s 300ms/step - loss: 0.2029 - accuracy: 0.9367 - val_loss: 0.0591 - val_accuracy: 0.9827\n",
      "Epoch 555/2000\n",
      "100/100 [==============================] - 29s 289ms/step - loss: 0.2285 - accuracy: 0.9294 - val_loss: 0.0552 - val_accuracy: 0.9831\n",
      "Epoch 556/2000\n",
      "100/100 [==============================] - 29s 287ms/step - loss: 0.2186 - accuracy: 0.9319 - val_loss: 0.0517 - val_accuracy: 0.9834\n",
      "Epoch 557/2000\n",
      "100/100 [==============================] - 29s 290ms/step - loss: 0.1964 - accuracy: 0.9411 - val_loss: 0.0538 - val_accuracy: 0.9852\n",
      "Epoch 558/2000\n",
      "100/100 [==============================] - 29s 290ms/step - loss: 0.2252 - accuracy: 0.9283 - val_loss: 0.0549 - val_accuracy: 0.9836\n",
      "Epoch 559/2000\n",
      "100/100 [==============================] - 28s 284ms/step - loss: 0.2056 - accuracy: 0.9347 - val_loss: 0.0470 - val_accuracy: 0.9858\n",
      "Epoch 560/2000\n",
      "100/100 [==============================] - 28s 285ms/step - loss: 0.2229 - accuracy: 0.9303 - val_loss: 0.0512 - val_accuracy: 0.9836\n",
      "Epoch 561/2000\n",
      "100/100 [==============================] - 29s 289ms/step - loss: 0.2307 - accuracy: 0.9294 - val_loss: 0.0584 - val_accuracy: 0.9814\n",
      "Epoch 562/2000\n",
      "100/100 [==============================] - 29s 290ms/step - loss: 0.2254 - accuracy: 0.9334 - val_loss: 0.0510 - val_accuracy: 0.9841\n",
      "Epoch 563/2000\n",
      "100/100 [==============================] - 29s 288ms/step - loss: 0.1800 - accuracy: 0.9450 - val_loss: 0.0532 - val_accuracy: 0.9828\n",
      "Epoch 564/2000\n",
      "100/100 [==============================] - 29s 288ms/step - loss: 0.2330 - accuracy: 0.9308 - val_loss: 0.0492 - val_accuracy: 0.9841\n",
      "Epoch 565/2000\n",
      "100/100 [==============================] - 30s 296ms/step - loss: 0.2135 - accuracy: 0.9327 - val_loss: 0.0533 - val_accuracy: 0.9838\n",
      "Epoch 566/2000\n",
      "100/100 [==============================] - 29s 286ms/step - loss: 0.2039 - accuracy: 0.9369 - val_loss: 0.0534 - val_accuracy: 0.9840\n",
      "Epoch 567/2000\n",
      "100/100 [==============================] - 29s 287ms/step - loss: 0.2268 - accuracy: 0.9286 - val_loss: 0.0527 - val_accuracy: 0.9833\n",
      "Epoch 568/2000\n",
      "100/100 [==============================] - 29s 285ms/step - loss: 0.2187 - accuracy: 0.9316 - val_loss: 0.0492 - val_accuracy: 0.9856\n",
      "Epoch 569/2000\n",
      "100/100 [==============================] - 29s 286ms/step - loss: 0.2157 - accuracy: 0.9319 - val_loss: 0.0521 - val_accuracy: 0.9840\n",
      "Epoch 570/2000\n",
      "100/100 [==============================] - 29s 288ms/step - loss: 0.2195 - accuracy: 0.9342 - val_loss: 0.0472 - val_accuracy: 0.9866\n",
      "Epoch 571/2000\n",
      "100/100 [==============================] - 28s 283ms/step - loss: 0.2361 - accuracy: 0.9277 - val_loss: 0.0492 - val_accuracy: 0.9856\n",
      "Epoch 572/2000\n",
      "100/100 [==============================] - 28s 284ms/step - loss: 0.1894 - accuracy: 0.9463 - val_loss: 0.0524 - val_accuracy: 0.9849\n",
      "Epoch 573/2000\n",
      "100/100 [==============================] - 28s 284ms/step - loss: 0.1916 - accuracy: 0.9398 - val_loss: 0.0533 - val_accuracy: 0.9846\n",
      "Epoch 574/2000\n",
      "100/100 [==============================] - 29s 288ms/step - loss: 0.2239 - accuracy: 0.9316 - val_loss: 0.0528 - val_accuracy: 0.9850\n",
      "Epoch 575/2000\n",
      "100/100 [==============================] - 29s 290ms/step - loss: 0.2145 - accuracy: 0.9308 - val_loss: 0.0518 - val_accuracy: 0.9846\n",
      "Epoch 576/2000\n",
      "100/100 [==============================] - 29s 289ms/step - loss: 0.2183 - accuracy: 0.9323 - val_loss: 0.0612 - val_accuracy: 0.9819\n",
      "Epoch 577/2000\n",
      "100/100 [==============================] - 29s 293ms/step - loss: 0.2364 - accuracy: 0.9316 - val_loss: 0.0503 - val_accuracy: 0.9856\n",
      "Epoch 578/2000\n",
      "100/100 [==============================] - 29s 285ms/step - loss: 0.2130 - accuracy: 0.9350 - val_loss: 0.0557 - val_accuracy: 0.9837\n",
      "Epoch 579/2000\n",
      "100/100 [==============================] - 28s 283ms/step - loss: 0.2112 - accuracy: 0.9362 - val_loss: 0.0570 - val_accuracy: 0.9828\n",
      "Epoch 580/2000\n",
      "100/100 [==============================] - 29s 287ms/step - loss: 0.2420 - accuracy: 0.9280 - val_loss: 0.0524 - val_accuracy: 0.9842\n",
      "Epoch 581/2000\n",
      "100/100 [==============================] - 29s 289ms/step - loss: 0.1919 - accuracy: 0.9391 - val_loss: 0.0564 - val_accuracy: 0.9838\n",
      "Epoch 582/2000\n",
      "100/100 [==============================] - 29s 287ms/step - loss: 0.1893 - accuracy: 0.9423 - val_loss: 0.0518 - val_accuracy: 0.9832\n",
      "Epoch 583/2000\n",
      "100/100 [==============================] - 29s 289ms/step - loss: 0.2148 - accuracy: 0.9361 - val_loss: 0.0541 - val_accuracy: 0.9827\n",
      "Epoch 584/2000\n",
      "100/100 [==============================] - 29s 288ms/step - loss: 0.2157 - accuracy: 0.9331 - val_loss: 0.0516 - val_accuracy: 0.9830\n",
      "Epoch 585/2000\n",
      "100/100 [==============================] - 29s 286ms/step - loss: 0.2054 - accuracy: 0.9353 - val_loss: 0.0571 - val_accuracy: 0.9812\n",
      "Epoch 586/2000\n",
      "100/100 [==============================] - 29s 290ms/step - loss: 0.2255 - accuracy: 0.9309 - val_loss: 0.0506 - val_accuracy: 0.9831\n",
      "Epoch 587/2000\n",
      "100/100 [==============================] - 29s 287ms/step - loss: 0.2110 - accuracy: 0.9322 - val_loss: 0.0481 - val_accuracy: 0.9862\n",
      "Epoch 588/2000\n",
      "100/100 [==============================] - 29s 290ms/step - loss: 0.2226 - accuracy: 0.9342 - val_loss: 0.0506 - val_accuracy: 0.9845\n",
      "Epoch 589/2000\n",
      "100/100 [==============================] - 28s 282ms/step - loss: 0.2228 - accuracy: 0.9330 - val_loss: 0.0585 - val_accuracy: 0.9824\n",
      "Epoch 590/2000\n",
      "100/100 [==============================] - 29s 288ms/step - loss: 0.2198 - accuracy: 0.9328 - val_loss: 0.0565 - val_accuracy: 0.9842\n",
      "Epoch 591/2000\n",
      "100/100 [==============================] - 28s 284ms/step - loss: 0.1782 - accuracy: 0.9469 - val_loss: 0.0560 - val_accuracy: 0.9814\n",
      "Epoch 592/2000\n",
      "100/100 [==============================] - 28s 282ms/step - loss: 0.2167 - accuracy: 0.9314 - val_loss: 0.0562 - val_accuracy: 0.9833\n",
      "Epoch 593/2000\n",
      "100/100 [==============================] - 29s 288ms/step - loss: 0.2122 - accuracy: 0.9356 - val_loss: 0.0495 - val_accuracy: 0.9839\n",
      "Epoch 594/2000\n",
      "100/100 [==============================] - 28s 284ms/step - loss: 0.2067 - accuracy: 0.9356 - val_loss: 0.0547 - val_accuracy: 0.9826\n",
      "Epoch 595/2000\n",
      "100/100 [==============================] - 30s 296ms/step - loss: 0.2205 - accuracy: 0.9300 - val_loss: 0.0540 - val_accuracy: 0.9831\n",
      "Epoch 596/2000\n",
      "100/100 [==============================] - 29s 294ms/step - loss: 0.2320 - accuracy: 0.9300 - val_loss: 0.0545 - val_accuracy: 0.9824\n",
      "Epoch 597/2000\n",
      "100/100 [==============================] - 30s 303ms/step - loss: 0.2343 - accuracy: 0.9289 - val_loss: 0.0598 - val_accuracy: 0.9814\n",
      "Epoch 598/2000\n",
      "100/100 [==============================] - 30s 295ms/step - loss: 0.2154 - accuracy: 0.9342 - val_loss: 0.0486 - val_accuracy: 0.9847\n",
      "Epoch 599/2000\n",
      "100/100 [==============================] - 29s 292ms/step - loss: 0.2366 - accuracy: 0.9272 - val_loss: 0.0475 - val_accuracy: 0.9846\n",
      "Epoch 600/2000\n",
      "100/100 [==============================] - 29s 293ms/step - loss: 0.1905 - accuracy: 0.9441 - val_loss: 0.0567 - val_accuracy: 0.9824\n",
      "Epoch 601/2000\n",
      "100/100 [==============================] - 29s 289ms/step - loss: 0.2050 - accuracy: 0.9356 - val_loss: 0.0619 - val_accuracy: 0.9809\n",
      "Epoch 602/2000\n",
      "100/100 [==============================] - 29s 292ms/step - loss: 0.2234 - accuracy: 0.9323 - val_loss: 0.0471 - val_accuracy: 0.9838\n",
      "Epoch 603/2000\n",
      "100/100 [==============================] - 29s 286ms/step - loss: 0.2158 - accuracy: 0.9345 - val_loss: 0.0477 - val_accuracy: 0.9857\n",
      "Epoch 604/2000\n",
      "100/100 [==============================] - 29s 286ms/step - loss: 0.2138 - accuracy: 0.9323 - val_loss: 0.0466 - val_accuracy: 0.9862\n",
      "Epoch 605/2000\n",
      "100/100 [==============================] - 28s 284ms/step - loss: 0.2231 - accuracy: 0.9314 - val_loss: 0.0565 - val_accuracy: 0.9820\n",
      "Epoch 606/2000\n"
     ]
    },
    {
     "name": "stdout",
     "output_type": "stream",
     "text": [
      "100/100 [==============================] - 29s 290ms/step - loss: 0.1992 - accuracy: 0.9373 - val_loss: 0.0499 - val_accuracy: 0.9836\n",
      "Epoch 607/2000\n",
      "100/100 [==============================] - 29s 295ms/step - loss: 0.2097 - accuracy: 0.9342 - val_loss: 0.0521 - val_accuracy: 0.9841\n",
      "Epoch 608/2000\n",
      "100/100 [==============================] - 29s 285ms/step - loss: 0.2357 - accuracy: 0.9287 - val_loss: 0.0484 - val_accuracy: 0.9847\n",
      "Epoch 609/2000\n",
      "100/100 [==============================] - 29s 285ms/step - loss: 0.1997 - accuracy: 0.9355 - val_loss: 0.0495 - val_accuracy: 0.9847\n",
      "Epoch 610/2000\n",
      "100/100 [==============================] - 29s 288ms/step - loss: 0.1822 - accuracy: 0.9436 - val_loss: 0.0533 - val_accuracy: 0.9821\n",
      "Epoch 611/2000\n",
      "100/100 [==============================] - 29s 287ms/step - loss: 0.2266 - accuracy: 0.9325 - val_loss: 0.0577 - val_accuracy: 0.9818\n",
      "Epoch 612/2000\n",
      "100/100 [==============================] - 29s 285ms/step - loss: 0.2233 - accuracy: 0.9317 - val_loss: 0.0509 - val_accuracy: 0.9843\n",
      "Epoch 613/2000\n",
      "100/100 [==============================] - 28s 281ms/step - loss: 0.2020 - accuracy: 0.9377 - val_loss: 0.0499 - val_accuracy: 0.9850\n",
      "Epoch 614/2000\n",
      "100/100 [==============================] - 29s 288ms/step - loss: 0.2208 - accuracy: 0.9314 - val_loss: 0.0493 - val_accuracy: 0.9844\n",
      "Epoch 615/2000\n",
      "100/100 [==============================] - 28s 284ms/step - loss: 0.2238 - accuracy: 0.9336 - val_loss: 0.0512 - val_accuracy: 0.9836\n",
      "Epoch 616/2000\n",
      "100/100 [==============================] - 29s 286ms/step - loss: 0.2264 - accuracy: 0.9322 - val_loss: 0.0511 - val_accuracy: 0.9841\n",
      "Epoch 617/2000\n",
      "100/100 [==============================] - 29s 291ms/step - loss: 0.2157 - accuracy: 0.9325 - val_loss: 0.0516 - val_accuracy: 0.9841\n",
      "Epoch 618/2000\n",
      "100/100 [==============================] - 29s 291ms/step - loss: 0.2237 - accuracy: 0.9317 - val_loss: 0.0530 - val_accuracy: 0.9831\n",
      "Epoch 619/2000\n",
      "100/100 [==============================] - 29s 286ms/step - loss: 0.1859 - accuracy: 0.9439 - val_loss: 0.0498 - val_accuracy: 0.9840\n",
      "Epoch 620/2000\n",
      "100/100 [==============================] - 29s 285ms/step - loss: 0.1973 - accuracy: 0.9413 - val_loss: 0.0530 - val_accuracy: 0.9835\n",
      "Epoch 621/2000\n",
      "100/100 [==============================] - 28s 283ms/step - loss: 0.2294 - accuracy: 0.9284 - val_loss: 0.0535 - val_accuracy: 0.9833\n",
      "Epoch 622/2000\n",
      "100/100 [==============================] - 28s 285ms/step - loss: 0.2143 - accuracy: 0.9367 - val_loss: 0.0560 - val_accuracy: 0.9829\n",
      "Epoch 623/2000\n",
      "100/100 [==============================] - 29s 288ms/step - loss: 0.2173 - accuracy: 0.9327 - val_loss: 0.0478 - val_accuracy: 0.9856\n",
      "Epoch 624/2000\n",
      "100/100 [==============================] - 29s 286ms/step - loss: 0.2249 - accuracy: 0.9284 - val_loss: 0.0555 - val_accuracy: 0.9836\n",
      "Epoch 625/2000\n",
      "100/100 [==============================] - 29s 287ms/step - loss: 0.2190 - accuracy: 0.9333 - val_loss: 0.0534 - val_accuracy: 0.9838\n",
      "Epoch 626/2000\n",
      "100/100 [==============================] - 29s 290ms/step - loss: 0.2055 - accuracy: 0.9348 - val_loss: 0.0490 - val_accuracy: 0.9855\n",
      "Epoch 627/2000\n",
      "100/100 [==============================] - 29s 286ms/step - loss: 0.2312 - accuracy: 0.9305 - val_loss: 0.0543 - val_accuracy: 0.9833\n",
      "Epoch 628/2000\n",
      "100/100 [==============================] - 29s 287ms/step - loss: 0.1785 - accuracy: 0.9433 - val_loss: 0.0521 - val_accuracy: 0.9854\n",
      "Epoch 629/2000\n",
      "100/100 [==============================] - 29s 291ms/step - loss: 0.1989 - accuracy: 0.9422 - val_loss: 0.0532 - val_accuracy: 0.9838\n",
      "Epoch 630/2000\n",
      "100/100 [==============================] - 29s 286ms/step - loss: 0.2236 - accuracy: 0.9333 - val_loss: 0.0551 - val_accuracy: 0.9816\n",
      "Epoch 631/2000\n",
      "100/100 [==============================] - 29s 286ms/step - loss: 0.2297 - accuracy: 0.9316 - val_loss: 0.0503 - val_accuracy: 0.9840\n",
      "Epoch 632/2000\n",
      "100/100 [==============================] - 28s 282ms/step - loss: 0.2143 - accuracy: 0.9348 - val_loss: 0.0523 - val_accuracy: 0.9850\n",
      "Epoch 633/2000\n",
      "100/100 [==============================] - 29s 287ms/step - loss: 0.2150 - accuracy: 0.9333 - val_loss: 0.0520 - val_accuracy: 0.9838\n",
      "Epoch 634/2000\n",
      "100/100 [==============================] - 29s 288ms/step - loss: 0.2140 - accuracy: 0.9339 - val_loss: 0.0534 - val_accuracy: 0.9828\n",
      "Epoch 635/2000\n",
      "100/100 [==============================] - 28s 284ms/step - loss: 0.2285 - accuracy: 0.9298 - val_loss: 0.0570 - val_accuracy: 0.9810\n",
      "Epoch 636/2000\n",
      "100/100 [==============================] - 28s 281ms/step - loss: 0.2332 - accuracy: 0.9270 - val_loss: 0.0537 - val_accuracy: 0.9836\n",
      "Epoch 637/2000\n",
      "100/100 [==============================] - 28s 282ms/step - loss: 0.2064 - accuracy: 0.9372 - val_loss: 0.0548 - val_accuracy: 0.9820\n",
      "Epoch 638/2000\n",
      "100/100 [==============================] - 29s 287ms/step - loss: 0.1820 - accuracy: 0.9475 - val_loss: 0.0541 - val_accuracy: 0.9832\n",
      "Epoch 639/2000\n",
      "100/100 [==============================] - 28s 282ms/step - loss: 0.2299 - accuracy: 0.9316 - val_loss: 0.0527 - val_accuracy: 0.9842\n",
      "Epoch 640/2000\n",
      "100/100 [==============================] - 30s 298ms/step - loss: 0.2211 - accuracy: 0.9314 - val_loss: 0.0528 - val_accuracy: 0.9826\n",
      "Epoch 641/2000\n",
      "100/100 [==============================] - 29s 288ms/step - loss: 0.1971 - accuracy: 0.9398 - val_loss: 0.0526 - val_accuracy: 0.9863\n",
      "Epoch 642/2000\n",
      "100/100 [==============================] - 29s 286ms/step - loss: 0.2185 - accuracy: 0.9336 - val_loss: 0.0479 - val_accuracy: 0.9864\n",
      "Epoch 643/2000\n",
      "100/100 [==============================] - 28s 284ms/step - loss: 0.2113 - accuracy: 0.9347 - val_loss: 0.0499 - val_accuracy: 0.9846\n",
      "Epoch 644/2000\n",
      "100/100 [==============================] - 29s 286ms/step - loss: 0.2109 - accuracy: 0.9381 - val_loss: 0.0586 - val_accuracy: 0.9825\n",
      "Epoch 645/2000\n",
      "100/100 [==============================] - 28s 283ms/step - loss: 0.2107 - accuracy: 0.9358 - val_loss: 0.0510 - val_accuracy: 0.9859\n",
      "Epoch 646/2000\n",
      "100/100 [==============================] - 29s 286ms/step - loss: 0.2253 - accuracy: 0.9311 - val_loss: 0.0491 - val_accuracy: 0.9849\n",
      "Epoch 647/2000\n",
      "100/100 [==============================] - 29s 286ms/step - loss: 0.1910 - accuracy: 0.9405 - val_loss: 0.0493 - val_accuracy: 0.9846\n",
      "Epoch 648/2000\n",
      "100/100 [==============================] - 29s 289ms/step - loss: 0.1983 - accuracy: 0.9389 - val_loss: 0.0489 - val_accuracy: 0.9850\n",
      "Epoch 649/2000\n",
      "100/100 [==============================] - 29s 285ms/step - loss: 0.2256 - accuracy: 0.9333 - val_loss: 0.0502 - val_accuracy: 0.9837\n",
      "Epoch 650/2000\n",
      "100/100 [==============================] - 29s 294ms/step - loss: 0.2223 - accuracy: 0.9294 - val_loss: 0.0523 - val_accuracy: 0.9843\n",
      "Epoch 651/2000\n",
      "100/100 [==============================] - 28s 284ms/step - loss: 0.2123 - accuracy: 0.9361 - val_loss: 0.0478 - val_accuracy: 0.9855\n",
      "Epoch 652/2000\n",
      "100/100 [==============================] - 28s 281ms/step - loss: 0.2348 - accuracy: 0.9250 - val_loss: 0.0483 - val_accuracy: 0.9844\n",
      "Epoch 653/2000\n",
      "100/100 [==============================] - 28s 280ms/step - loss: 0.2143 - accuracy: 0.9364 - val_loss: 0.0505 - val_accuracy: 0.9837\n",
      "Epoch 654/2000\n",
      "100/100 [==============================] - 29s 286ms/step - loss: 0.2192 - accuracy: 0.9314 - val_loss: 0.0506 - val_accuracy: 0.9854\n",
      "Epoch 655/2000\n",
      "100/100 [==============================] - 29s 287ms/step - loss: 0.2317 - accuracy: 0.9287 - val_loss: 0.0487 - val_accuracy: 0.9845\n",
      "Epoch 656/2000\n",
      "100/100 [==============================] - 28s 283ms/step - loss: 0.2082 - accuracy: 0.9377 - val_loss: 0.0477 - val_accuracy: 0.9835\n",
      "Epoch 657/2000\n",
      "100/100 [==============================] - 28s 282ms/step - loss: 0.1955 - accuracy: 0.9372 - val_loss: 0.0469 - val_accuracy: 0.9847\n",
      "Epoch 658/2000\n",
      "100/100 [==============================] - 29s 286ms/step - loss: 0.2222 - accuracy: 0.9309 - val_loss: 0.0489 - val_accuracy: 0.9847\n",
      "Epoch 659/2000\n",
      "100/100 [==============================] - 28s 283ms/step - loss: 0.2296 - accuracy: 0.9253 - val_loss: 0.0520 - val_accuracy: 0.9833\n",
      "Epoch 660/2000\n",
      "100/100 [==============================] - 28s 285ms/step - loss: 0.1985 - accuracy: 0.9383 - val_loss: 0.0508 - val_accuracy: 0.9842\n",
      "Epoch 661/2000\n"
     ]
    },
    {
     "name": "stdout",
     "output_type": "stream",
     "text": [
      "100/100 [==============================] - 29s 291ms/step - loss: 0.2172 - accuracy: 0.9303 - val_loss: 0.0472 - val_accuracy: 0.9859\n",
      "Epoch 662/2000\n",
      "100/100 [==============================] - 29s 289ms/step - loss: 0.2180 - accuracy: 0.9334 - val_loss: 0.0534 - val_accuracy: 0.9836\n",
      "Epoch 663/2000\n",
      "100/100 [==============================] - 28s 284ms/step - loss: 0.2287 - accuracy: 0.9289 - val_loss: 0.0533 - val_accuracy: 0.9835\n",
      "Epoch 664/2000\n",
      "100/100 [==============================] - 28s 281ms/step - loss: 0.2183 - accuracy: 0.9320 - val_loss: 0.0564 - val_accuracy: 0.9824\n",
      "Epoch 665/2000\n",
      "100/100 [==============================] - 28s 281ms/step - loss: 0.2182 - accuracy: 0.9327 - val_loss: 0.0516 - val_accuracy: 0.9839\n",
      "Epoch 666/2000\n",
      "100/100 [==============================] - 28s 282ms/step - loss: 0.1875 - accuracy: 0.9420 - val_loss: 0.0500 - val_accuracy: 0.9842\n",
      "Epoch 667/2000\n",
      "100/100 [==============================] - 28s 284ms/step - loss: 0.2076 - accuracy: 0.9356 - val_loss: 0.0532 - val_accuracy: 0.9847\n",
      "Epoch 668/2000\n",
      "100/100 [==============================] - 28s 284ms/step - loss: 0.2045 - accuracy: 0.9348 - val_loss: 0.0499 - val_accuracy: 0.9849\n",
      "Epoch 669/2000\n",
      "100/100 [==============================] - 28s 282ms/step - loss: 0.2039 - accuracy: 0.9370 - val_loss: 0.0530 - val_accuracy: 0.9838\n",
      "Epoch 670/2000\n",
      "100/100 [==============================] - 28s 281ms/step - loss: 0.2073 - accuracy: 0.9358 - val_loss: 0.0485 - val_accuracy: 0.9845\n",
      "Epoch 671/2000\n",
      "100/100 [==============================] - 29s 286ms/step - loss: 0.2138 - accuracy: 0.9272 - val_loss: 0.0495 - val_accuracy: 0.9867\n",
      "Epoch 672/2000\n",
      "100/100 [==============================] - 29s 292ms/step - loss: 0.2144 - accuracy: 0.9339 - val_loss: 0.0483 - val_accuracy: 0.9858\n",
      "Epoch 673/2000\n",
      "100/100 [==============================] - 29s 288ms/step - loss: 0.2142 - accuracy: 0.9355 - val_loss: 0.0486 - val_accuracy: 0.9853\n",
      "Epoch 674/2000\n",
      "100/100 [==============================] - 28s 282ms/step - loss: 0.2422 - accuracy: 0.9255 - val_loss: 0.0518 - val_accuracy: 0.9839\n",
      "Epoch 675/2000\n",
      "100/100 [==============================] - 28s 282ms/step - loss: 0.1822 - accuracy: 0.9481 - val_loss: 0.0530 - val_accuracy: 0.9833\n",
      "Epoch 676/2000\n",
      "100/100 [==============================] - 28s 281ms/step - loss: 0.2044 - accuracy: 0.9373 - val_loss: 0.0540 - val_accuracy: 0.9850\n",
      "Epoch 677/2000\n",
      "100/100 [==============================] - 28s 284ms/step - loss: 0.2223 - accuracy: 0.9322 - val_loss: 0.0476 - val_accuracy: 0.9849\n",
      "Epoch 678/2000\n",
      "100/100 [==============================] - 29s 286ms/step - loss: 0.2112 - accuracy: 0.9384 - val_loss: 0.0495 - val_accuracy: 0.9837\n",
      "Epoch 679/2000\n",
      "100/100 [==============================] - 29s 286ms/step - loss: 0.2214 - accuracy: 0.9339 - val_loss: 0.0470 - val_accuracy: 0.9857\n",
      "Epoch 680/2000\n",
      "100/100 [==============================] - 29s 287ms/step - loss: 0.2424 - accuracy: 0.9262 - val_loss: 0.0483 - val_accuracy: 0.9839\n",
      "Epoch 681/2000\n",
      "100/100 [==============================] - 28s 281ms/step - loss: 0.2097 - accuracy: 0.9317 - val_loss: 0.0445 - val_accuracy: 0.9853\n",
      "Epoch 682/2000\n",
      "100/100 [==============================] - 29s 285ms/step - loss: 0.2033 - accuracy: 0.9406 - val_loss: 0.0489 - val_accuracy: 0.9846\n",
      "Epoch 683/2000\n",
      "100/100 [==============================] - 29s 291ms/step - loss: 0.2316 - accuracy: 0.9286 - val_loss: 0.0456 - val_accuracy: 0.9860\n",
      "Epoch 684/2000\n",
      "100/100 [==============================] - 28s 285ms/step - loss: 0.2053 - accuracy: 0.9423 - val_loss: 0.0484 - val_accuracy: 0.9852\n",
      "Epoch 685/2000\n",
      "100/100 [==============================] - 28s 280ms/step - loss: 0.2022 - accuracy: 0.9373 - val_loss: 0.0470 - val_accuracy: 0.9846\n",
      "Epoch 686/2000\n",
      "100/100 [==============================] - 28s 284ms/step - loss: 0.2242 - accuracy: 0.9297 - val_loss: 0.0516 - val_accuracy: 0.9834\n",
      "Epoch 687/2000\n",
      "100/100 [==============================] - 28s 280ms/step - loss: 0.2120 - accuracy: 0.9364 - val_loss: 0.0515 - val_accuracy: 0.9848\n",
      "Epoch 688/2000\n",
      "100/100 [==============================] - 28s 281ms/step - loss: 0.2045 - accuracy: 0.9361 - val_loss: 0.0511 - val_accuracy: 0.9844\n",
      "Epoch 689/2000\n",
      "100/100 [==============================] - 28s 285ms/step - loss: 0.2209 - accuracy: 0.9330 - val_loss: 0.0492 - val_accuracy: 0.9844\n",
      "Epoch 690/2000\n",
      "100/100 [==============================] - 28s 285ms/step - loss: 0.2119 - accuracy: 0.9353 - val_loss: 0.0493 - val_accuracy: 0.9840\n",
      "Epoch 691/2000\n",
      "100/100 [==============================] - 29s 289ms/step - loss: 0.2277 - accuracy: 0.9341 - val_loss: 0.0526 - val_accuracy: 0.9843\n",
      "Epoch 692/2000\n",
      "100/100 [==============================] - 28s 284ms/step - loss: 0.2184 - accuracy: 0.9316 - val_loss: 0.0483 - val_accuracy: 0.9860\n",
      "Epoch 693/2000\n",
      "100/100 [==============================] - 29s 286ms/step - loss: 0.2282 - accuracy: 0.9277 - val_loss: 0.0474 - val_accuracy: 0.9866\n",
      "Epoch 694/2000\n",
      "100/100 [==============================] - 29s 291ms/step - loss: 0.1886 - accuracy: 0.9431 - val_loss: 0.0503 - val_accuracy: 0.9854\n",
      "Epoch 695/2000\n",
      "100/100 [==============================] - 29s 285ms/step - loss: 0.2046 - accuracy: 0.9400 - val_loss: 0.0493 - val_accuracy: 0.9845\n",
      "Epoch 696/2000\n",
      "100/100 [==============================] - 28s 285ms/step - loss: 0.2273 - accuracy: 0.9314 - val_loss: 0.0507 - val_accuracy: 0.9846\n",
      "Epoch 697/2000\n",
      "100/100 [==============================] - 28s 283ms/step - loss: 0.2244 - accuracy: 0.9312 - val_loss: 0.0534 - val_accuracy: 0.9833\n",
      "Epoch 698/2000\n",
      "100/100 [==============================] - 28s 281ms/step - loss: 0.2126 - accuracy: 0.9341 - val_loss: 0.0485 - val_accuracy: 0.9848\n",
      "Epoch 699/2000\n",
      "100/100 [==============================] - 28s 285ms/step - loss: 0.2108 - accuracy: 0.9359 - val_loss: 0.0468 - val_accuracy: 0.9851\n",
      "Epoch 700/2000\n",
      "100/100 [==============================] - 28s 284ms/step - loss: 0.2176 - accuracy: 0.9323 - val_loss: 0.0462 - val_accuracy: 0.9841\n",
      "Epoch 701/2000\n",
      "100/100 [==============================] - 28s 283ms/step - loss: 0.2043 - accuracy: 0.9358 - val_loss: 0.0498 - val_accuracy: 0.9845\n",
      "Epoch 702/2000\n",
      "100/100 [==============================] - 28s 283ms/step - loss: 0.2165 - accuracy: 0.9337 - val_loss: 0.0532 - val_accuracy: 0.9821\n",
      "Epoch 703/2000\n",
      "100/100 [==============================] - 29s 286ms/step - loss: 0.1983 - accuracy: 0.9384 - val_loss: 0.0516 - val_accuracy: 0.9828\n",
      "Epoch 704/2000\n",
      "100/100 [==============================] - 29s 292ms/step - loss: 0.2135 - accuracy: 0.9366 - val_loss: 0.0518 - val_accuracy: 0.9843\n",
      "Epoch 705/2000\n",
      "100/100 [==============================] - 28s 280ms/step - loss: 0.2271 - accuracy: 0.9267 - val_loss: 0.0581 - val_accuracy: 0.9812\n",
      "Epoch 706/2000\n",
      "100/100 [==============================] - 29s 286ms/step - loss: 0.2195 - accuracy: 0.9322 - val_loss: 0.0468 - val_accuracy: 0.9839\n",
      "Epoch 707/2000\n",
      "100/100 [==============================] - 29s 289ms/step - loss: 0.1974 - accuracy: 0.9392 - val_loss: 0.0455 - val_accuracy: 0.9851\n",
      "Epoch 708/2000\n",
      "100/100 [==============================] - 28s 284ms/step - loss: 0.2069 - accuracy: 0.9364 - val_loss: 0.0502 - val_accuracy: 0.9847\n",
      "Epoch 709/2000\n",
      "100/100 [==============================] - 29s 287ms/step - loss: 0.2237 - accuracy: 0.9336 - val_loss: 0.0483 - val_accuracy: 0.9844\n",
      "Epoch 710/2000\n",
      "100/100 [==============================] - 28s 283ms/step - loss: 0.2141 - accuracy: 0.9355 - val_loss: 0.0512 - val_accuracy: 0.9827\n",
      "Epoch 711/2000\n",
      "100/100 [==============================] - 28s 283ms/step - loss: 0.2495 - accuracy: 0.9242 - val_loss: 0.0521 - val_accuracy: 0.9825\n",
      "Epoch 712/2000\n",
      "100/100 [==============================] - 28s 283ms/step - loss: 0.2019 - accuracy: 0.9392 - val_loss: 0.0472 - val_accuracy: 0.9847\n",
      "Epoch 713/2000\n",
      "100/100 [==============================] - 29s 288ms/step - loss: 0.1781 - accuracy: 0.9459 - val_loss: 0.0479 - val_accuracy: 0.9847\n",
      "Epoch 714/2000\n",
      "100/100 [==============================] - 28s 283ms/step - loss: 0.2302 - accuracy: 0.9330 - val_loss: 0.0474 - val_accuracy: 0.9839\n",
      "Epoch 715/2000\n",
      "100/100 [==============================] - 29s 292ms/step - loss: 0.2342 - accuracy: 0.9281 - val_loss: 0.0496 - val_accuracy: 0.9836\n",
      "Epoch 716/2000\n"
     ]
    },
    {
     "name": "stdout",
     "output_type": "stream",
     "text": [
      "100/100 [==============================] - 28s 279ms/step - loss: 0.1884 - accuracy: 0.9398 - val_loss: 0.0521 - val_accuracy: 0.9846\n",
      "Epoch 717/2000\n",
      "100/100 [==============================] - 28s 284ms/step - loss: 0.2225 - accuracy: 0.9284 - val_loss: 0.0480 - val_accuracy: 0.9859\n",
      "Epoch 718/2000\n",
      "100/100 [==============================] - 29s 289ms/step - loss: 0.2316 - accuracy: 0.9309 - val_loss: 0.0482 - val_accuracy: 0.9846\n",
      "Epoch 719/2000\n",
      "100/100 [==============================] - 28s 283ms/step - loss: 0.2154 - accuracy: 0.9341 - val_loss: 0.0471 - val_accuracy: 0.9847\n",
      "Epoch 720/2000\n",
      "100/100 [==============================] - 28s 282ms/step - loss: 0.2207 - accuracy: 0.9322 - val_loss: 0.0510 - val_accuracy: 0.9838\n",
      "Epoch 721/2000\n",
      "100/100 [==============================] - 28s 284ms/step - loss: 0.2201 - accuracy: 0.9292 - val_loss: 0.0524 - val_accuracy: 0.9831\n",
      "Epoch 722/2000\n",
      "100/100 [==============================] - 28s 285ms/step - loss: 0.1801 - accuracy: 0.9434 - val_loss: 0.0459 - val_accuracy: 0.9862\n",
      "Epoch 723/2000\n",
      "100/100 [==============================] - 28s 278ms/step - loss: 0.1940 - accuracy: 0.9388 - val_loss: 0.0476 - val_accuracy: 0.9855\n",
      "Epoch 724/2000\n",
      "100/100 [==============================] - 28s 282ms/step - loss: 0.2234 - accuracy: 0.9345 - val_loss: 0.0491 - val_accuracy: 0.9850\n",
      "Epoch 725/2000\n",
      "100/100 [==============================] - 29s 285ms/step - loss: 0.2164 - accuracy: 0.9341 - val_loss: 0.0442 - val_accuracy: 0.9854\n",
      "Epoch 726/2000\n",
      "100/100 [==============================] - 29s 288ms/step - loss: 0.2111 - accuracy: 0.9352 - val_loss: 0.0450 - val_accuracy: 0.9845\n",
      "Epoch 727/2000\n",
      "100/100 [==============================] - 29s 290ms/step - loss: 0.2227 - accuracy: 0.9314 - val_loss: 0.0459 - val_accuracy: 0.9865\n",
      "Epoch 728/2000\n",
      "100/100 [==============================] - 29s 287ms/step - loss: 0.2136 - accuracy: 0.9358 - val_loss: 0.0475 - val_accuracy: 0.9849\n",
      "Epoch 729/2000\n",
      "100/100 [==============================] - 28s 283ms/step - loss: 0.2287 - accuracy: 0.9284 - val_loss: 0.0515 - val_accuracy: 0.9835\n",
      "Epoch 730/2000\n",
      "100/100 [==============================] - 29s 287ms/step - loss: 0.2281 - accuracy: 0.9297 - val_loss: 0.0532 - val_accuracy: 0.9825\n",
      "Epoch 731/2000\n",
      "100/100 [==============================] - 28s 284ms/step - loss: 0.1937 - accuracy: 0.9403 - val_loss: 0.0530 - val_accuracy: 0.9826\n",
      "Epoch 732/2000\n",
      "100/100 [==============================] - 29s 287ms/step - loss: 0.1978 - accuracy: 0.9395 - val_loss: 0.0471 - val_accuracy: 0.9842\n",
      "Epoch 733/2000\n",
      "100/100 [==============================] - 28s 282ms/step - loss: 0.2378 - accuracy: 0.9281 - val_loss: 0.0545 - val_accuracy: 0.9834\n",
      "Epoch 734/2000\n",
      "100/100 [==============================] - 28s 281ms/step - loss: 0.2240 - accuracy: 0.9316 - val_loss: 0.0519 - val_accuracy: 0.9841\n",
      "Epoch 735/2000\n",
      "100/100 [==============================] - 29s 289ms/step - loss: 0.2096 - accuracy: 0.9356 - val_loss: 0.0453 - val_accuracy: 0.9850\n",
      "Epoch 736/2000\n",
      "100/100 [==============================] - 28s 281ms/step - loss: 0.2303 - accuracy: 0.9289 - val_loss: 0.0444 - val_accuracy: 0.9864\n",
      "Epoch 737/2000\n",
      "100/100 [==============================] - 29s 286ms/step - loss: 0.2027 - accuracy: 0.9386 - val_loss: 0.0532 - val_accuracy: 0.9833\n",
      "Epoch 738/2000\n",
      "100/100 [==============================] - 28s 281ms/step - loss: 0.2284 - accuracy: 0.9306 - val_loss: 0.0559 - val_accuracy: 0.9812\n",
      "Epoch 739/2000\n",
      "100/100 [==============================] - 29s 287ms/step - loss: 0.2179 - accuracy: 0.9314 - val_loss: 0.0530 - val_accuracy: 0.9831\n",
      "Epoch 740/2000\n",
      "100/100 [==============================] - 29s 285ms/step - loss: 0.2179 - accuracy: 0.9362 - val_loss: 0.0502 - val_accuracy: 0.9865\n",
      "Epoch 741/2000\n",
      "100/100 [==============================] - 29s 286ms/step - loss: 0.1863 - accuracy: 0.9439 - val_loss: 0.0496 - val_accuracy: 0.9847\n",
      "Epoch 742/2000\n",
      "100/100 [==============================] - 28s 283ms/step - loss: 0.2037 - accuracy: 0.9345 - val_loss: 0.0540 - val_accuracy: 0.9830\n",
      "Epoch 743/2000\n",
      "100/100 [==============================] - 28s 281ms/step - loss: 0.2197 - accuracy: 0.9339 - val_loss: 0.0463 - val_accuracy: 0.9867\n",
      "Epoch 744/2000\n",
      "100/100 [==============================] - 28s 282ms/step - loss: 0.2134 - accuracy: 0.9355 - val_loss: 0.0487 - val_accuracy: 0.9850\n",
      "Epoch 745/2000\n",
      "100/100 [==============================] - 28s 281ms/step - loss: 0.2210 - accuracy: 0.9350 - val_loss: 0.0498 - val_accuracy: 0.9833\n",
      "Epoch 746/2000\n",
      "100/100 [==============================] - 28s 284ms/step - loss: 0.2010 - accuracy: 0.9386 - val_loss: 0.0436 - val_accuracy: 0.9871\n",
      "Epoch 747/2000\n",
      "100/100 [==============================] - 30s 298ms/step - loss: 0.2332 - accuracy: 0.9309 - val_loss: 0.0518 - val_accuracy: 0.9828\n",
      "Epoch 748/2000\n",
      "100/100 [==============================] - 28s 283ms/step - loss: 0.2261 - accuracy: 0.9330 - val_loss: 0.0480 - val_accuracy: 0.9847\n",
      "Epoch 749/2000\n",
      "100/100 [==============================] - 28s 282ms/step - loss: 0.2261 - accuracy: 0.9269 - val_loss: 0.0499 - val_accuracy: 0.9841\n",
      "Epoch 750/2000\n",
      "100/100 [==============================] - 28s 277ms/step - loss: 0.1822 - accuracy: 0.9434 - val_loss: 0.0512 - val_accuracy: 0.9827\n",
      "Epoch 751/2000\n",
      "100/100 [==============================] - 28s 283ms/step - loss: 0.2033 - accuracy: 0.9367 - val_loss: 0.0571 - val_accuracy: 0.9828\n",
      "Epoch 752/2000\n",
      "100/100 [==============================] - 29s 286ms/step - loss: 0.2197 - accuracy: 0.9323 - val_loss: 0.0553 - val_accuracy: 0.9834\n",
      "Epoch 753/2000\n",
      "100/100 [==============================] - 28s 281ms/step - loss: 0.2189 - accuracy: 0.9312 - val_loss: 0.0515 - val_accuracy: 0.9829\n",
      "Epoch 754/2000\n",
      "100/100 [==============================] - 28s 283ms/step - loss: 0.2321 - accuracy: 0.9277 - val_loss: 0.0548 - val_accuracy: 0.9825\n",
      "Epoch 755/2000\n",
      "100/100 [==============================] - 28s 284ms/step - loss: 0.2349 - accuracy: 0.9267 - val_loss: 0.0527 - val_accuracy: 0.9832\n",
      "Epoch 756/2000\n",
      "100/100 [==============================] - 28s 285ms/step - loss: 0.2026 - accuracy: 0.9375 - val_loss: 0.0521 - val_accuracy: 0.9842\n",
      "Epoch 757/2000\n",
      "100/100 [==============================] - 28s 284ms/step - loss: 0.2067 - accuracy: 0.9370 - val_loss: 0.0500 - val_accuracy: 0.9838\n",
      "Epoch 758/2000\n",
      "100/100 [==============================] - 29s 290ms/step - loss: 0.2388 - accuracy: 0.9264 - val_loss: 0.0523 - val_accuracy: 0.9839\n",
      "Epoch 759/2000\n",
      "100/100 [==============================] - 28s 284ms/step - loss: 0.2115 - accuracy: 0.9378 - val_loss: 0.0513 - val_accuracy: 0.9839\n",
      "Epoch 760/2000\n",
      "100/100 [==============================] - 28s 284ms/step - loss: 0.1882 - accuracy: 0.9408 - val_loss: 0.0559 - val_accuracy: 0.9820\n",
      "Epoch 761/2000\n",
      "100/100 [==============================] - 28s 284ms/step - loss: 0.2204 - accuracy: 0.9312 - val_loss: 0.0506 - val_accuracy: 0.9844\n",
      "Epoch 762/2000\n",
      "100/100 [==============================] - 29s 287ms/step - loss: 0.2174 - accuracy: 0.9334 - val_loss: 0.0523 - val_accuracy: 0.9843\n",
      "Epoch 763/2000\n",
      "100/100 [==============================] - 29s 285ms/step - loss: 0.2133 - accuracy: 0.9345 - val_loss: 0.0471 - val_accuracy: 0.9853\n",
      "Epoch 764/2000\n",
      "100/100 [==============================] - 28s 285ms/step - loss: 0.2164 - accuracy: 0.9352 - val_loss: 0.0498 - val_accuracy: 0.9854\n",
      "Epoch 765/2000\n",
      "100/100 [==============================] - 29s 286ms/step - loss: 0.2117 - accuracy: 0.9364 - val_loss: 0.0501 - val_accuracy: 0.9853\n",
      "Epoch 766/2000\n",
      "100/100 [==============================] - 28s 282ms/step - loss: 0.2097 - accuracy: 0.9352 - val_loss: 0.0500 - val_accuracy: 0.9842\n",
      "Epoch 767/2000\n",
      "100/100 [==============================] - 28s 282ms/step - loss: 0.2310 - accuracy: 0.9281 - val_loss: 0.0475 - val_accuracy: 0.9849\n",
      "Epoch 768/2000\n",
      "100/100 [==============================] - 29s 287ms/step - loss: 0.2229 - accuracy: 0.9333 - val_loss: 0.0522 - val_accuracy: 0.9834\n",
      "Epoch 769/2000\n",
      "100/100 [==============================] - 29s 291ms/step - loss: 0.1921 - accuracy: 0.9406 - val_loss: 0.0512 - val_accuracy: 0.9839\n",
      "Epoch 770/2000\n",
      "100/100 [==============================] - 29s 285ms/step - loss: 0.2021 - accuracy: 0.9378 - val_loss: 0.0496 - val_accuracy: 0.9849\n",
      "Epoch 771/2000\n"
     ]
    },
    {
     "name": "stdout",
     "output_type": "stream",
     "text": [
      "100/100 [==============================] - 29s 287ms/step - loss: 0.2194 - accuracy: 0.9309 - val_loss: 0.0474 - val_accuracy: 0.9850\n",
      "Epoch 772/2000\n",
      "100/100 [==============================] - 29s 290ms/step - loss: 0.2193 - accuracy: 0.9334 - val_loss: 0.0546 - val_accuracy: 0.9826\n",
      "Epoch 773/2000\n",
      "100/100 [==============================] - 28s 285ms/step - loss: 0.2255 - accuracy: 0.9331 - val_loss: 0.0499 - val_accuracy: 0.9850\n",
      "Epoch 774/2000\n",
      "100/100 [==============================] - 28s 283ms/step - loss: 0.2284 - accuracy: 0.9286 - val_loss: 0.0479 - val_accuracy: 0.9844\n",
      "Epoch 775/2000\n",
      "100/100 [==============================] - 28s 282ms/step - loss: 0.2190 - accuracy: 0.9353 - val_loss: 0.0504 - val_accuracy: 0.9843\n",
      "Epoch 776/2000\n",
      "100/100 [==============================] - 28s 283ms/step - loss: 0.2237 - accuracy: 0.9331 - val_loss: 0.0449 - val_accuracy: 0.9867\n",
      "Epoch 777/2000\n",
      "100/100 [==============================] - 29s 289ms/step - loss: 0.2206 - accuracy: 0.9317 - val_loss: 0.0517 - val_accuracy: 0.9836\n",
      "Epoch 778/2000\n",
      "100/100 [==============================] - 29s 290ms/step - loss: 0.1958 - accuracy: 0.9414 - val_loss: 0.0577 - val_accuracy: 0.9828\n",
      "Epoch 779/2000\n",
      "100/100 [==============================] - 29s 286ms/step - loss: 0.1962 - accuracy: 0.9417 - val_loss: 0.0502 - val_accuracy: 0.9846\n",
      "Epoch 780/2000\n",
      "100/100 [==============================] - 29s 294ms/step - loss: 0.2176 - accuracy: 0.9306 - val_loss: 0.0542 - val_accuracy: 0.9822\n",
      "Epoch 781/2000\n",
      "100/100 [==============================] - 29s 291ms/step - loss: 0.2129 - accuracy: 0.9372 - val_loss: 0.0476 - val_accuracy: 0.9856\n",
      "Epoch 782/2000\n",
      "100/100 [==============================] - 29s 287ms/step - loss: 0.2112 - accuracy: 0.9366 - val_loss: 0.0469 - val_accuracy: 0.9866\n",
      "Epoch 783/2000\n",
      "100/100 [==============================] - 29s 289ms/step - loss: 0.2263 - accuracy: 0.9316 - val_loss: 0.0462 - val_accuracy: 0.9863\n",
      "Epoch 784/2000\n",
      "100/100 [==============================] - 29s 285ms/step - loss: 0.2262 - accuracy: 0.9300 - val_loss: 0.0483 - val_accuracy: 0.9841\n",
      "Epoch 785/2000\n",
      "100/100 [==============================] - 28s 284ms/step - loss: 0.2135 - accuracy: 0.9384 - val_loss: 0.0539 - val_accuracy: 0.9823\n",
      "Epoch 786/2000\n",
      "100/100 [==============================] - 29s 288ms/step - loss: 0.2269 - accuracy: 0.9312 - val_loss: 0.0537 - val_accuracy: 0.9823\n",
      "Epoch 787/2000\n",
      "100/100 [==============================] - 28s 285ms/step - loss: 0.2130 - accuracy: 0.9331 - val_loss: 0.0491 - val_accuracy: 0.9848\n",
      "Epoch 788/2000\n",
      "100/100 [==============================] - 28s 281ms/step - loss: 0.1868 - accuracy: 0.9447 - val_loss: 0.0464 - val_accuracy: 0.9848\n",
      "Epoch 789/2000\n",
      "100/100 [==============================] - 29s 291ms/step - loss: 0.2223 - accuracy: 0.9334 - val_loss: 0.0477 - val_accuracy: 0.9848\n",
      "Epoch 790/2000\n",
      "100/100 [==============================] - 29s 293ms/step - loss: 0.2225 - accuracy: 0.9311 - val_loss: 0.0458 - val_accuracy: 0.9850\n",
      "Epoch 791/2000\n",
      "100/100 [==============================] - 29s 288ms/step - loss: 0.1908 - accuracy: 0.9433 - val_loss: 0.0441 - val_accuracy: 0.9877\n",
      "Epoch 792/2000\n",
      "100/100 [==============================] - 29s 293ms/step - loss: 0.2113 - accuracy: 0.9356 - val_loss: 0.0430 - val_accuracy: 0.9865\n",
      "Epoch 793/2000\n",
      "100/100 [==============================] - 29s 293ms/step - loss: 0.2162 - accuracy: 0.9328 - val_loss: 0.0478 - val_accuracy: 0.9850\n",
      "Epoch 794/2000\n",
      "100/100 [==============================] - 29s 292ms/step - loss: 0.2194 - accuracy: 0.9325 - val_loss: 0.0453 - val_accuracy: 0.9855\n",
      "Epoch 795/2000\n",
      "100/100 [==============================] - 29s 290ms/step - loss: 0.2217 - accuracy: 0.9322 - val_loss: 0.0440 - val_accuracy: 0.9867\n",
      "Epoch 796/2000\n",
      "100/100 [==============================] - 31s 307ms/step - loss: 0.2161 - accuracy: 0.9341 - val_loss: 0.0435 - val_accuracy: 0.9861\n",
      "Epoch 797/2000\n",
      "100/100 [==============================] - 29s 293ms/step - loss: 0.1886 - accuracy: 0.9442 - val_loss: 0.0554 - val_accuracy: 0.9826\n",
      "Epoch 798/2000\n",
      "100/100 [==============================] - 29s 294ms/step - loss: 0.1958 - accuracy: 0.9398 - val_loss: 0.0478 - val_accuracy: 0.9861\n",
      "Epoch 799/2000\n",
      "100/100 [==============================] - 29s 294ms/step - loss: 0.2308 - accuracy: 0.9266 - val_loss: 0.0493 - val_accuracy: 0.9855\n",
      "Epoch 800/2000\n",
      "100/100 [==============================] - 29s 293ms/step - loss: 0.2276 - accuracy: 0.9314 - val_loss: 0.0502 - val_accuracy: 0.9857\n",
      "Epoch 801/2000\n",
      "100/100 [==============================] - 30s 298ms/step - loss: 0.2108 - accuracy: 0.9319 - val_loss: 0.0438 - val_accuracy: 0.9868\n",
      "Epoch 802/2000\n",
      "100/100 [==============================] - 30s 302ms/step - loss: 0.2299 - accuracy: 0.9322 - val_loss: 0.0458 - val_accuracy: 0.9858\n",
      "Epoch 803/2000\n",
      "100/100 [==============================] - 29s 293ms/step - loss: 0.2021 - accuracy: 0.9395 - val_loss: 0.0528 - val_accuracy: 0.9839\n",
      "Epoch 804/2000\n",
      "100/100 [==============================] - 42s 417ms/step - loss: 0.2056 - accuracy: 0.9316 - val_loss: 0.0500 - val_accuracy: 0.9842\n",
      "Epoch 805/2000\n",
      "100/100 [==============================] - 34s 341ms/step - loss: 0.2362 - accuracy: 0.9258 - val_loss: 0.0501 - val_accuracy: 0.9835\n",
      "Epoch 806/2000\n",
      "100/100 [==============================] - 36s 358ms/step - loss: 0.2078 - accuracy: 0.9377 - val_loss: 0.0470 - val_accuracy: 0.9842\n",
      "Epoch 807/2000\n",
      "100/100 [==============================] - 34s 337ms/step - loss: 0.1832 - accuracy: 0.9431 - val_loss: 0.0493 - val_accuracy: 0.9839\n",
      "Epoch 808/2000\n",
      "100/100 [==============================] - 36s 358ms/step - loss: 0.2349 - accuracy: 0.9309 - val_loss: 0.0456 - val_accuracy: 0.9850\n",
      "Epoch 809/2000\n",
      "100/100 [==============================] - 36s 361ms/step - loss: 0.2260 - accuracy: 0.9323 - val_loss: 0.0515 - val_accuracy: 0.9825\n",
      "Epoch 810/2000\n",
      "100/100 [==============================] - 34s 342ms/step - loss: 0.2079 - accuracy: 0.9361 - val_loss: 0.0478 - val_accuracy: 0.9846\n",
      "Epoch 811/2000\n",
      "100/100 [==============================] - 35s 353ms/step - loss: 0.2251 - accuracy: 0.9308 - val_loss: 0.0479 - val_accuracy: 0.9848\n",
      "Epoch 812/2000\n",
      "100/100 [==============================] - 34s 341ms/step - loss: 0.2213 - accuracy: 0.9323 - val_loss: 0.0501 - val_accuracy: 0.9857\n",
      "Epoch 813/2000\n",
      "100/100 [==============================] - 37s 368ms/step - loss: 0.2327 - accuracy: 0.9297 - val_loss: 0.0499 - val_accuracy: 0.9828\n",
      "Epoch 814/2000\n",
      "100/100 [==============================] - 36s 363ms/step - loss: 0.2189 - accuracy: 0.9300 - val_loss: 0.0434 - val_accuracy: 0.9861\n",
      "Epoch 815/2000\n",
      "100/100 [==============================] - 34s 335ms/step - loss: 0.2037 - accuracy: 0.9375 - val_loss: 0.0513 - val_accuracy: 0.9826\n",
      "Epoch 816/2000\n",
      "100/100 [==============================] - 36s 361ms/step - loss: 0.1930 - accuracy: 0.9438 - val_loss: 0.0494 - val_accuracy: 0.9847\n",
      "Epoch 817/2000\n",
      "100/100 [==============================] - 36s 361ms/step - loss: 0.2276 - accuracy: 0.9316 - val_loss: 0.0587 - val_accuracy: 0.9821\n",
      "Epoch 818/2000\n",
      "100/100 [==============================] - 36s 362ms/step - loss: 0.2215 - accuracy: 0.9348 - val_loss: 0.0499 - val_accuracy: 0.9840\n",
      "Epoch 819/2000\n",
      "100/100 [==============================] - 36s 356ms/step - loss: 0.2171 - accuracy: 0.9323 - val_loss: 0.0472 - val_accuracy: 0.9847\n",
      "Epoch 820/2000\n",
      "100/100 [==============================] - 37s 370ms/step - loss: 0.2003 - accuracy: 0.9370 - val_loss: 0.0460 - val_accuracy: 0.9847\n",
      "Epoch 821/2000\n",
      "100/100 [==============================] - 36s 356ms/step - loss: 0.2167 - accuracy: 0.9308 - val_loss: 0.0446 - val_accuracy: 0.9857\n",
      "Epoch 822/2000\n",
      "100/100 [==============================] - 36s 363ms/step - loss: 0.2111 - accuracy: 0.9344 - val_loss: 0.0435 - val_accuracy: 0.9856\n",
      "Epoch 823/2000\n",
      "100/100 [==============================] - 38s 380ms/step - loss: 0.2195 - accuracy: 0.9352 - val_loss: 0.0478 - val_accuracy: 0.9851\n",
      "Epoch 824/2000\n",
      "100/100 [==============================] - 36s 364ms/step - loss: 0.2309 - accuracy: 0.9316 - val_loss: 0.0490 - val_accuracy: 0.9845\n",
      "Epoch 825/2000\n",
      "100/100 [==============================] - 31s 310ms/step - loss: 0.1952 - accuracy: 0.9403 - val_loss: 0.0523 - val_accuracy: 0.9858\n",
      "Epoch 826/2000\n"
     ]
    },
    {
     "name": "stdout",
     "output_type": "stream",
     "text": [
      "100/100 [==============================] - 31s 306ms/step - loss: 0.1954 - accuracy: 0.9406 - val_loss: 0.0502 - val_accuracy: 0.9853\n",
      "Epoch 827/2000\n",
      "100/100 [==============================] - 30s 304ms/step - loss: 0.2179 - accuracy: 0.9319 - val_loss: 0.0483 - val_accuracy: 0.9857\n",
      "Epoch 828/2000\n",
      "100/100 [==============================] - 31s 306ms/step - loss: 0.2181 - accuracy: 0.9339 - val_loss: 0.0477 - val_accuracy: 0.9848\n",
      "Epoch 829/2000\n",
      "100/100 [==============================] - 30s 300ms/step - loss: 0.2106 - accuracy: 0.9347 - val_loss: 0.0494 - val_accuracy: 0.9845\n",
      "Epoch 830/2000\n",
      "100/100 [==============================] - 30s 302ms/step - loss: 0.2224 - accuracy: 0.9291 - val_loss: 0.0484 - val_accuracy: 0.9837\n",
      "Epoch 831/2000\n",
      "100/100 [==============================] - 30s 302ms/step - loss: 0.2107 - accuracy: 0.9362 - val_loss: 0.0467 - val_accuracy: 0.9850\n",
      "Epoch 832/2000\n",
      "100/100 [==============================] - 30s 297ms/step - loss: 0.2211 - accuracy: 0.9331 - val_loss: 0.0482 - val_accuracy: 0.9848\n",
      "Epoch 833/2000\n",
      "100/100 [==============================] - 30s 299ms/step - loss: 0.2303 - accuracy: 0.9272 - val_loss: 0.0485 - val_accuracy: 0.9843\n",
      "Epoch 834/2000\n",
      "100/100 [==============================] - 30s 302ms/step - loss: 0.2205 - accuracy: 0.9330 - val_loss: 0.0499 - val_accuracy: 0.9846\n",
      "Epoch 835/2000\n",
      "100/100 [==============================] - 29s 292ms/step - loss: 0.1830 - accuracy: 0.9416 - val_loss: 0.0498 - val_accuracy: 0.9840\n",
      "Epoch 836/2000\n",
      "100/100 [==============================] - 30s 296ms/step - loss: 0.2261 - accuracy: 0.9297 - val_loss: 0.0496 - val_accuracy: 0.9868\n",
      "Epoch 837/2000\n",
      "100/100 [==============================] - 30s 297ms/step - loss: 0.2020 - accuracy: 0.9355 - val_loss: 0.0505 - val_accuracy: 0.9842\n",
      "Epoch 838/2000\n",
      "100/100 [==============================] - 30s 305ms/step - loss: 0.1997 - accuracy: 0.9383 - val_loss: 0.0440 - val_accuracy: 0.9858\n",
      "Epoch 839/2000\n",
      "100/100 [==============================] - 30s 296ms/step - loss: 0.2069 - accuracy: 0.9400 - val_loss: 0.0494 - val_accuracy: 0.9854\n",
      "Epoch 840/2000\n",
      "100/100 [==============================] - 30s 297ms/step - loss: 0.2094 - accuracy: 0.9337 - val_loss: 0.0459 - val_accuracy: 0.9860\n",
      "Epoch 841/2000\n",
      "100/100 [==============================] - 30s 295ms/step - loss: 0.2238 - accuracy: 0.9345 - val_loss: 0.0481 - val_accuracy: 0.9860\n",
      "Epoch 842/2000\n",
      "100/100 [==============================] - 30s 296ms/step - loss: 0.2136 - accuracy: 0.9348 - val_loss: 0.0451 - val_accuracy: 0.9862\n",
      "Epoch 843/2000\n",
      "100/100 [==============================] - 30s 300ms/step - loss: 0.2117 - accuracy: 0.9364 - val_loss: 0.0495 - val_accuracy: 0.9844\n",
      "Epoch 844/2000\n",
      "100/100 [==============================] - 30s 297ms/step - loss: 0.1918 - accuracy: 0.9409 - val_loss: 0.0496 - val_accuracy: 0.9850\n",
      "Epoch 845/2000\n",
      "100/100 [==============================] - 29s 295ms/step - loss: 0.1976 - accuracy: 0.9416 - val_loss: 0.0425 - val_accuracy: 0.9871\n",
      "Epoch 846/2000\n",
      "100/100 [==============================] - 30s 298ms/step - loss: 0.2213 - accuracy: 0.9334 - val_loss: 0.0438 - val_accuracy: 0.9859\n",
      "Epoch 847/2000\n",
      "100/100 [==============================] - 29s 292ms/step - loss: 0.2113 - accuracy: 0.9373 - val_loss: 0.0461 - val_accuracy: 0.9861\n",
      "Epoch 848/2000\n",
      "100/100 [==============================] - 30s 300ms/step - loss: 0.2081 - accuracy: 0.9369 - val_loss: 0.0463 - val_accuracy: 0.9859\n",
      "Epoch 849/2000\n",
      "100/100 [==============================] - 29s 294ms/step - loss: 0.2155 - accuracy: 0.9325 - val_loss: 0.0442 - val_accuracy: 0.9869\n",
      "Epoch 850/2000\n",
      "100/100 [==============================] - 29s 292ms/step - loss: 0.2212 - accuracy: 0.9334 - val_loss: 0.0462 - val_accuracy: 0.9862\n",
      "Epoch 851/2000\n",
      "100/100 [==============================] - 29s 293ms/step - loss: 0.2222 - accuracy: 0.9334 - val_loss: 0.0442 - val_accuracy: 0.9852\n",
      "Epoch 852/2000\n",
      "100/100 [==============================] - 30s 298ms/step - loss: 0.2250 - accuracy: 0.9339 - val_loss: 0.0480 - val_accuracy: 0.9832\n",
      "Epoch 853/2000\n",
      "100/100 [==============================] - 29s 293ms/step - loss: 0.1783 - accuracy: 0.9445 - val_loss: 0.0425 - val_accuracy: 0.9870\n",
      "Epoch 854/2000\n",
      "100/100 [==============================] - 30s 296ms/step - loss: 0.1986 - accuracy: 0.9414 - val_loss: 0.0468 - val_accuracy: 0.9857\n",
      "Epoch 855/2000\n",
      "100/100 [==============================] - 29s 293ms/step - loss: 0.2168 - accuracy: 0.9369 - val_loss: 0.0514 - val_accuracy: 0.9831\n",
      "Epoch 856/2000\n",
      "100/100 [==============================] - 29s 291ms/step - loss: 0.2105 - accuracy: 0.9375 - val_loss: 0.0457 - val_accuracy: 0.9858\n",
      "Epoch 857/2000\n",
      "100/100 [==============================] - 30s 298ms/step - loss: 0.1998 - accuracy: 0.9395 - val_loss: 0.0483 - val_accuracy: 0.9868\n",
      "Epoch 858/2000\n",
      "100/100 [==============================] - 30s 297ms/step - loss: 0.2061 - accuracy: 0.9331 - val_loss: 0.0452 - val_accuracy: 0.9865\n",
      "Epoch 859/2000\n",
      "100/100 [==============================] - 30s 303ms/step - loss: 0.2075 - accuracy: 0.9358 - val_loss: 0.0460 - val_accuracy: 0.9853\n",
      "Epoch 860/2000\n",
      "100/100 [==============================] - 30s 296ms/step - loss: 0.1997 - accuracy: 0.9359 - val_loss: 0.0474 - val_accuracy: 0.9850\n",
      "Epoch 861/2000\n",
      "100/100 [==============================] - 30s 298ms/step - loss: 0.2299 - accuracy: 0.9347 - val_loss: 0.0498 - val_accuracy: 0.9845\n",
      "Epoch 862/2000\n",
      "100/100 [==============================] - 30s 295ms/step - loss: 0.2185 - accuracy: 0.9383 - val_loss: 0.0509 - val_accuracy: 0.9855\n",
      "Epoch 863/2000\n",
      "100/100 [==============================] - 29s 293ms/step - loss: 0.1862 - accuracy: 0.9425 - val_loss: 0.0468 - val_accuracy: 0.9857\n",
      "Epoch 864/2000\n",
      "100/100 [==============================] - 29s 294ms/step - loss: 0.2244 - accuracy: 0.9305 - val_loss: 0.0494 - val_accuracy: 0.9867\n",
      "Epoch 865/2000\n",
      "100/100 [==============================] - 30s 297ms/step - loss: 0.2092 - accuracy: 0.9347 - val_loss: 0.0502 - val_accuracy: 0.9845\n",
      "Epoch 866/2000\n",
      "100/100 [==============================] - 31s 315ms/step - loss: 0.1974 - accuracy: 0.9394 - val_loss: 0.0498 - val_accuracy: 0.9854\n",
      "Epoch 867/2000\n",
      "100/100 [==============================] - 29s 295ms/step - loss: 0.2123 - accuracy: 0.9373 - val_loss: 0.0486 - val_accuracy: 0.9843\n",
      "Epoch 868/2000\n",
      "100/100 [==============================] - 29s 292ms/step - loss: 0.2205 - accuracy: 0.9344 - val_loss: 0.0493 - val_accuracy: 0.9859\n",
      "Epoch 869/2000\n",
      "100/100 [==============================] - 30s 298ms/step - loss: 0.2140 - accuracy: 0.9361 - val_loss: 0.0545 - val_accuracy: 0.9835\n",
      "Epoch 870/2000\n",
      "100/100 [==============================] - 29s 295ms/step - loss: 0.2045 - accuracy: 0.9388 - val_loss: 0.0450 - val_accuracy: 0.9857\n",
      "Epoch 871/2000\n",
      "100/100 [==============================] - 29s 293ms/step - loss: 0.2275 - accuracy: 0.9305 - val_loss: 0.0421 - val_accuracy: 0.9866\n",
      "Epoch 872/2000\n",
      "100/100 [==============================] - 29s 294ms/step - loss: 0.1899 - accuracy: 0.9436 - val_loss: 0.0464 - val_accuracy: 0.9861\n",
      "Epoch 873/2000\n",
      "100/100 [==============================] - 29s 294ms/step - loss: 0.2080 - accuracy: 0.9370 - val_loss: 0.0497 - val_accuracy: 0.9857\n",
      "Epoch 874/2000\n",
      "100/100 [==============================] - 29s 292ms/step - loss: 0.2076 - accuracy: 0.9339 - val_loss: 0.0489 - val_accuracy: 0.9847\n",
      "Epoch 875/2000\n",
      "100/100 [==============================] - 29s 295ms/step - loss: 0.2289 - accuracy: 0.9317 - val_loss: 0.0495 - val_accuracy: 0.9838\n",
      "Epoch 876/2000\n",
      "100/100 [==============================] - 29s 292ms/step - loss: 0.2095 - accuracy: 0.9353 - val_loss: 0.0448 - val_accuracy: 0.9867\n",
      "Epoch 877/2000\n",
      "100/100 [==============================] - 29s 291ms/step - loss: 0.2098 - accuracy: 0.9325 - val_loss: 0.0442 - val_accuracy: 0.9866\n",
      "Epoch 878/2000\n",
      "100/100 [==============================] - 30s 298ms/step - loss: 0.1977 - accuracy: 0.9409 - val_loss: 0.0485 - val_accuracy: 0.9848\n",
      "Epoch 879/2000\n",
      "100/100 [==============================] - 30s 301ms/step - loss: 0.2096 - accuracy: 0.9336 - val_loss: 0.0470 - val_accuracy: 0.9846\n",
      "Epoch 880/2000\n",
      "100/100 [==============================] - 29s 295ms/step - loss: 0.2191 - accuracy: 0.9330 - val_loss: 0.0458 - val_accuracy: 0.9847\n",
      "Epoch 881/2000\n"
     ]
    },
    {
     "name": "stdout",
     "output_type": "stream",
     "text": [
      "100/100 [==============================] - 29s 290ms/step - loss: 0.2027 - accuracy: 0.9392 - val_loss: 0.0460 - val_accuracy: 0.9854\n",
      "Epoch 882/2000\n",
      "100/100 [==============================] - 29s 291ms/step - loss: 0.1799 - accuracy: 0.9456 - val_loss: 0.0425 - val_accuracy: 0.9857\n",
      "Epoch 883/2000\n",
      "100/100 [==============================] - 29s 294ms/step - loss: 0.2331 - accuracy: 0.9292 - val_loss: 0.0453 - val_accuracy: 0.9853\n",
      "Epoch 884/2000\n",
      "100/100 [==============================] - 29s 293ms/step - loss: 0.2167 - accuracy: 0.9316 - val_loss: 0.0423 - val_accuracy: 0.9867\n",
      "Epoch 885/2000\n",
      "100/100 [==============================] - 30s 296ms/step - loss: 0.2003 - accuracy: 0.9403 - val_loss: 0.0447 - val_accuracy: 0.9861\n",
      "Epoch 886/2000\n",
      "100/100 [==============================] - 30s 297ms/step - loss: 0.2146 - accuracy: 0.9333 - val_loss: 0.0451 - val_accuracy: 0.9846\n",
      "Epoch 887/2000\n",
      "100/100 [==============================] - 29s 291ms/step - loss: 0.2019 - accuracy: 0.9370 - val_loss: 0.0473 - val_accuracy: 0.9843\n",
      "Epoch 888/2000\n",
      "100/100 [==============================] - 29s 295ms/step - loss: 0.2251 - accuracy: 0.9334 - val_loss: 0.0452 - val_accuracy: 0.9860\n",
      "Epoch 889/2000\n",
      "100/100 [==============================] - 29s 293ms/step - loss: 0.2125 - accuracy: 0.9328 - val_loss: 0.0483 - val_accuracy: 0.9851\n",
      "Epoch 890/2000\n",
      "100/100 [==============================] - 30s 302ms/step - loss: 0.2160 - accuracy: 0.9327 - val_loss: 0.0496 - val_accuracy: 0.9842\n",
      "Epoch 891/2000\n",
      "100/100 [==============================] - 30s 303ms/step - loss: 0.1853 - accuracy: 0.9461 - val_loss: 0.0450 - val_accuracy: 0.9857\n",
      "Epoch 892/2000\n",
      "100/100 [==============================] - 29s 292ms/step - loss: 0.2188 - accuracy: 0.9331 - val_loss: 0.0484 - val_accuracy: 0.9848\n",
      "Epoch 893/2000\n",
      "100/100 [==============================] - 29s 290ms/step - loss: 0.2239 - accuracy: 0.9297 - val_loss: 0.0447 - val_accuracy: 0.9866\n",
      "Epoch 894/2000\n",
      "100/100 [==============================] - 29s 289ms/step - loss: 0.2151 - accuracy: 0.9344 - val_loss: 0.0456 - val_accuracy: 0.9862\n",
      "Epoch 895/2000\n",
      "100/100 [==============================] - 29s 289ms/step - loss: 0.2038 - accuracy: 0.9388 - val_loss: 0.0480 - val_accuracy: 0.9850\n",
      "Epoch 896/2000\n",
      "100/100 [==============================] - 29s 289ms/step - loss: 0.2152 - accuracy: 0.9322 - val_loss: 0.0487 - val_accuracy: 0.9841\n",
      "Epoch 897/2000\n",
      "100/100 [==============================] - 29s 293ms/step - loss: 0.2311 - accuracy: 0.9325 - val_loss: 0.0459 - val_accuracy: 0.9855\n",
      "Epoch 898/2000\n",
      "100/100 [==============================] - 29s 293ms/step - loss: 0.2201 - accuracy: 0.9347 - val_loss: 0.0458 - val_accuracy: 0.9852\n",
      "Epoch 899/2000\n",
      "100/100 [==============================] - 29s 289ms/step - loss: 0.2080 - accuracy: 0.9377 - val_loss: 0.0478 - val_accuracy: 0.9848\n",
      "Epoch 900/2000\n",
      "100/100 [==============================] - 29s 295ms/step - loss: 0.1874 - accuracy: 0.9456 - val_loss: 0.0485 - val_accuracy: 0.9849\n",
      "Epoch 901/2000\n",
      "100/100 [==============================] - 29s 295ms/step - loss: 0.1892 - accuracy: 0.9441 - val_loss: 0.0518 - val_accuracy: 0.9839\n",
      "Epoch 902/2000\n",
      "100/100 [==============================] - 29s 291ms/step - loss: 0.2186 - accuracy: 0.9302 - val_loss: 0.0465 - val_accuracy: 0.9845\n",
      "Epoch 903/2000\n",
      "100/100 [==============================] - 29s 289ms/step - loss: 0.2117 - accuracy: 0.9358 - val_loss: 0.0422 - val_accuracy: 0.9867\n",
      "Epoch 904/2000\n",
      "100/100 [==============================] - 29s 292ms/step - loss: 0.2040 - accuracy: 0.9367 - val_loss: 0.0424 - val_accuracy: 0.9877\n",
      "Epoch 905/2000\n",
      "100/100 [==============================] - 29s 292ms/step - loss: 0.2189 - accuracy: 0.9327 - val_loss: 0.0449 - val_accuracy: 0.9860\n",
      "Epoch 906/2000\n",
      "100/100 [==============================] - 29s 294ms/step - loss: 0.2130 - accuracy: 0.9364 - val_loss: 0.0448 - val_accuracy: 0.9860\n",
      "Epoch 907/2000\n",
      "100/100 [==============================] - 29s 294ms/step - loss: 0.2135 - accuracy: 0.9344 - val_loss: 0.0441 - val_accuracy: 0.9868\n",
      "Epoch 908/2000\n",
      "100/100 [==============================] - 29s 291ms/step - loss: 0.2264 - accuracy: 0.9291 - val_loss: 0.0438 - val_accuracy: 0.9857\n",
      "Epoch 909/2000\n",
      "100/100 [==============================] - 29s 293ms/step - loss: 0.1981 - accuracy: 0.9405 - val_loss: 0.0437 - val_accuracy: 0.9859\n",
      "Epoch 910/2000\n",
      "100/100 [==============================] - 29s 288ms/step - loss: 0.1820 - accuracy: 0.9469 - val_loss: 0.0431 - val_accuracy: 0.9864\n",
      "Epoch 911/2000\n",
      "100/100 [==============================] - 30s 300ms/step - loss: 0.2217 - accuracy: 0.9342 - val_loss: 0.0546 - val_accuracy: 0.9828\n",
      "Epoch 912/2000\n",
      "100/100 [==============================] - 29s 295ms/step - loss: 0.2273 - accuracy: 0.9280 - val_loss: 0.0477 - val_accuracy: 0.9859\n",
      "Epoch 913/2000\n",
      "100/100 [==============================] - 30s 296ms/step - loss: 0.2024 - accuracy: 0.9400 - val_loss: 0.0408 - val_accuracy: 0.9865\n",
      "Epoch 914/2000\n",
      "100/100 [==============================] - 29s 289ms/step - loss: 0.2148 - accuracy: 0.9361 - val_loss: 0.0474 - val_accuracy: 0.9852\n",
      "Epoch 915/2000\n",
      "100/100 [==============================] - 29s 288ms/step - loss: 0.2096 - accuracy: 0.9358 - val_loss: 0.0505 - val_accuracy: 0.9837\n",
      "Epoch 916/2000\n",
      "100/100 [==============================] - 29s 293ms/step - loss: 0.2191 - accuracy: 0.9344 - val_loss: 0.0466 - val_accuracy: 0.9847\n",
      "Epoch 917/2000\n",
      "100/100 [==============================] - 29s 292ms/step - loss: 0.2117 - accuracy: 0.9358 - val_loss: 0.0417 - val_accuracy: 0.9868\n",
      "Epoch 918/2000\n",
      "100/100 [==============================] - 29s 290ms/step - loss: 0.2179 - accuracy: 0.9336 - val_loss: 0.0452 - val_accuracy: 0.9862\n",
      "Epoch 919/2000\n",
      "100/100 [==============================] - 29s 291ms/step - loss: 0.1821 - accuracy: 0.9466 - val_loss: 0.0453 - val_accuracy: 0.9853\n",
      "Epoch 920/2000\n",
      "100/100 [==============================] - 29s 291ms/step - loss: 0.1834 - accuracy: 0.9425 - val_loss: 0.0434 - val_accuracy: 0.9857\n",
      "Epoch 921/2000\n",
      "100/100 [==============================] - 30s 298ms/step - loss: 0.2115 - accuracy: 0.9362 - val_loss: 0.0436 - val_accuracy: 0.9855\n",
      "Epoch 922/2000\n",
      "100/100 [==============================] - 29s 291ms/step - loss: 0.2133 - accuracy: 0.9337 - val_loss: 0.0438 - val_accuracy: 0.9864\n",
      "Epoch 923/2000\n",
      "100/100 [==============================] - 29s 292ms/step - loss: 0.2059 - accuracy: 0.9359 - val_loss: 0.0448 - val_accuracy: 0.9857\n",
      "Epoch 924/2000\n",
      "100/100 [==============================] - 29s 290ms/step - loss: 0.2210 - accuracy: 0.9348 - val_loss: 0.0458 - val_accuracy: 0.9849\n",
      "Epoch 925/2000\n",
      "100/100 [==============================] - 29s 291ms/step - loss: 0.2172 - accuracy: 0.9366 - val_loss: 0.0490 - val_accuracy: 0.9849\n",
      "Epoch 926/2000\n",
      "100/100 [==============================] - 29s 291ms/step - loss: 0.2221 - accuracy: 0.9309 - val_loss: 0.0429 - val_accuracy: 0.9851\n",
      "Epoch 927/2000\n",
      "100/100 [==============================] - 29s 293ms/step - loss: 0.2153 - accuracy: 0.9341 - val_loss: 0.0462 - val_accuracy: 0.9848\n",
      "Epoch 928/2000\n",
      "100/100 [==============================] - 29s 291ms/step - loss: 0.1961 - accuracy: 0.9411 - val_loss: 0.0494 - val_accuracy: 0.9846\n",
      "Epoch 929/2000\n",
      "100/100 [==============================] - 29s 293ms/step - loss: 0.1892 - accuracy: 0.9444 - val_loss: 0.0448 - val_accuracy: 0.9859\n",
      "Epoch 930/2000\n",
      "100/100 [==============================] - 29s 290ms/step - loss: 0.2177 - accuracy: 0.9311 - val_loss: 0.0561 - val_accuracy: 0.9819\n",
      "Epoch 931/2000\n",
      "100/100 [==============================] - 29s 292ms/step - loss: 0.2048 - accuracy: 0.9342 - val_loss: 0.0445 - val_accuracy: 0.9863\n",
      "Epoch 932/2000\n",
      "100/100 [==============================] - 30s 300ms/step - loss: 0.2119 - accuracy: 0.9362 - val_loss: 0.0444 - val_accuracy: 0.9872\n",
      "Epoch 933/2000\n",
      "100/100 [==============================] - 30s 297ms/step - loss: 0.2078 - accuracy: 0.9384 - val_loss: 0.0461 - val_accuracy: 0.9860\n",
      "Epoch 934/2000\n",
      "100/100 [==============================] - 30s 302ms/step - loss: 0.2158 - accuracy: 0.9328 - val_loss: 0.0438 - val_accuracy: 0.9865\n",
      "Epoch 935/2000\n",
      "100/100 [==============================] - 29s 290ms/step - loss: 0.2062 - accuracy: 0.9345 - val_loss: 0.0506 - val_accuracy: 0.9836\n",
      "Epoch 936/2000\n"
     ]
    },
    {
     "name": "stdout",
     "output_type": "stream",
     "text": [
      "100/100 [==============================] - 29s 295ms/step - loss: 0.2103 - accuracy: 0.9355 - val_loss: 0.0462 - val_accuracy: 0.9847\n",
      "Epoch 937/2000\n",
      "100/100 [==============================] - 29s 288ms/step - loss: 0.1986 - accuracy: 0.9398 - val_loss: 0.0458 - val_accuracy: 0.9858\n",
      "Epoch 938/2000\n",
      "100/100 [==============================] - 29s 289ms/step - loss: 0.1864 - accuracy: 0.9409 - val_loss: 0.0499 - val_accuracy: 0.9837\n",
      "Epoch 939/2000\n",
      "100/100 [==============================] - 29s 289ms/step - loss: 0.2065 - accuracy: 0.9397 - val_loss: 0.0495 - val_accuracy: 0.9855\n",
      "Epoch 940/2000\n",
      "100/100 [==============================] - 29s 291ms/step - loss: 0.2239 - accuracy: 0.9322 - val_loss: 0.0521 - val_accuracy: 0.9837\n",
      "Epoch 941/2000\n",
      "100/100 [==============================] - 29s 293ms/step - loss: 0.1910 - accuracy: 0.9433 - val_loss: 0.0459 - val_accuracy: 0.9855\n",
      "Epoch 942/2000\n",
      "100/100 [==============================] - 30s 299ms/step - loss: 0.2255 - accuracy: 0.9309 - val_loss: 0.0449 - val_accuracy: 0.9869\n",
      "Epoch 943/2000\n",
      "100/100 [==============================] - 29s 293ms/step - loss: 0.2106 - accuracy: 0.9342 - val_loss: 0.0465 - val_accuracy: 0.9853\n",
      "Epoch 944/2000\n",
      "100/100 [==============================] - 29s 292ms/step - loss: 0.2074 - accuracy: 0.9391 - val_loss: 0.0517 - val_accuracy: 0.9838\n",
      "Epoch 945/2000\n",
      "100/100 [==============================] - 29s 294ms/step - loss: 0.2082 - accuracy: 0.9372 - val_loss: 0.0452 - val_accuracy: 0.9854\n",
      "Epoch 946/2000\n",
      "100/100 [==============================] - 29s 294ms/step - loss: 0.2102 - accuracy: 0.9345 - val_loss: 0.0423 - val_accuracy: 0.9860\n",
      "Epoch 947/2000\n",
      "100/100 [==============================] - 29s 287ms/step - loss: 0.1728 - accuracy: 0.9464 - val_loss: 0.0436 - val_accuracy: 0.9854\n",
      "Epoch 948/2000\n",
      "100/100 [==============================] - 29s 293ms/step - loss: 0.2088 - accuracy: 0.9397 - val_loss: 0.0461 - val_accuracy: 0.9857\n",
      "Epoch 949/2000\n",
      "100/100 [==============================] - 29s 292ms/step - loss: 0.2150 - accuracy: 0.9331 - val_loss: 0.0438 - val_accuracy: 0.9850\n",
      "Epoch 950/2000\n",
      "100/100 [==============================] - 29s 293ms/step - loss: 0.2118 - accuracy: 0.9381 - val_loss: 0.0459 - val_accuracy: 0.9850\n",
      "Epoch 951/2000\n",
      "100/100 [==============================] - 29s 287ms/step - loss: 0.2090 - accuracy: 0.9370 - val_loss: 0.0465 - val_accuracy: 0.9854\n",
      "Epoch 952/2000\n",
      "100/100 [==============================] - 29s 291ms/step - loss: 0.2285 - accuracy: 0.9350 - val_loss: 0.0466 - val_accuracy: 0.9852\n",
      "Epoch 953/2000\n",
      "100/100 [==============================] - 30s 301ms/step - loss: 0.1965 - accuracy: 0.9416 - val_loss: 0.0451 - val_accuracy: 0.9854\n",
      "Epoch 954/2000\n",
      "100/100 [==============================] - 38s 383ms/step - loss: 0.2175 - accuracy: 0.9317 - val_loss: 0.0452 - val_accuracy: 0.9864\n",
      "Epoch 955/2000\n",
      "100/100 [==============================] - 33s 330ms/step - loss: 0.2173 - accuracy: 0.9295 - val_loss: 0.0435 - val_accuracy: 0.9862\n",
      "Epoch 956/2000\n",
      "100/100 [==============================] - 38s 382ms/step - loss: 0.1900 - accuracy: 0.9384 - val_loss: 0.0508 - val_accuracy: 0.9847\n",
      "Epoch 957/2000\n",
      "100/100 [==============================] - 36s 360ms/step - loss: 0.1859 - accuracy: 0.9445 - val_loss: 0.0477 - val_accuracy: 0.9836\n",
      "Epoch 958/2000\n",
      "100/100 [==============================] - 37s 374ms/step - loss: 0.2323 - accuracy: 0.9291 - val_loss: 0.0468 - val_accuracy: 0.9851\n",
      "Epoch 959/2000\n",
      "100/100 [==============================] - 37s 375ms/step - loss: 0.2126 - accuracy: 0.9341 - val_loss: 0.0474 - val_accuracy: 0.9851\n",
      "Epoch 960/2000\n",
      "100/100 [==============================] - 32s 322ms/step - loss: 0.2102 - accuracy: 0.9353 - val_loss: 0.0476 - val_accuracy: 0.9845\n",
      "Epoch 961/2000\n",
      "100/100 [==============================] - 36s 357ms/step - loss: 0.2167 - accuracy: 0.9323 - val_loss: 0.0469 - val_accuracy: 0.9849\n",
      "Epoch 962/2000\n",
      "100/100 [==============================] - 36s 361ms/step - loss: 0.2104 - accuracy: 0.9364 - val_loss: 0.0476 - val_accuracy: 0.9850\n",
      "Epoch 963/2000\n",
      "100/100 [==============================] - 39s 394ms/step - loss: 0.2208 - accuracy: 0.9344 - val_loss: 0.0448 - val_accuracy: 0.9860\n",
      "Epoch 964/2000\n",
      "100/100 [==============================] - 14714s 147s/step - loss: 0.2021 - accuracy: 0.9392 - val_loss: 0.0445 - val_accuracy: 0.9867\n",
      "Epoch 965/2000\n",
      "100/100 [==============================] - 27s 266ms/step - loss: 0.2045 - accuracy: 0.9380 - val_loss: 0.0504 - val_accuracy: 0.9848\n",
      "Epoch 966/2000\n",
      "100/100 [==============================] - 26s 260ms/step - loss: 0.1790 - accuracy: 0.9472 - val_loss: 0.0440 - val_accuracy: 0.9869\n",
      "Epoch 967/2000\n",
      "100/100 [==============================] - 25s 252ms/step - loss: 0.2038 - accuracy: 0.9381 - val_loss: 0.0542 - val_accuracy: 0.9843\n",
      "Epoch 968/2000\n",
      "100/100 [==============================] - 25s 250ms/step - loss: 0.2338 - accuracy: 0.9291 - val_loss: 0.0495 - val_accuracy: 0.9851\n",
      "Epoch 969/2000\n",
      "100/100 [==============================] - 24s 243ms/step - loss: 0.2141 - accuracy: 0.9334 - val_loss: 0.0461 - val_accuracy: 0.9852\n",
      "Epoch 970/2000\n",
      "100/100 [==============================] - 24s 238ms/step - loss: 0.2107 - accuracy: 0.9352 - val_loss: 0.0469 - val_accuracy: 0.9859\n",
      "Epoch 971/2000\n",
      "100/100 [==============================] - 24s 243ms/step - loss: 0.2076 - accuracy: 0.9366 - val_loss: 0.0485 - val_accuracy: 0.9834\n",
      "Epoch 972/2000\n",
      "100/100 [==============================] - 24s 237ms/step - loss: 0.2251 - accuracy: 0.9328 - val_loss: 0.0506 - val_accuracy: 0.9830\n",
      "Epoch 973/2000\n",
      "100/100 [==============================] - 24s 242ms/step - loss: 0.2158 - accuracy: 0.9303 - val_loss: 0.0474 - val_accuracy: 0.9852\n",
      "Epoch 974/2000\n",
      "100/100 [==============================] - 24s 243ms/step - loss: 0.2239 - accuracy: 0.9311 - val_loss: 0.0554 - val_accuracy: 0.9837\n",
      "Epoch 975/2000\n",
      "100/100 [==============================] - 25s 252ms/step - loss: 0.1864 - accuracy: 0.9425 - val_loss: 0.0466 - val_accuracy: 0.9847\n",
      "Epoch 976/2000\n",
      "100/100 [==============================] - 26s 262ms/step - loss: 0.1928 - accuracy: 0.9464 - val_loss: 0.0572 - val_accuracy: 0.9829\n",
      "Epoch 977/2000\n",
      "100/100 [==============================] - 26s 258ms/step - loss: 0.2305 - accuracy: 0.9316 - val_loss: 0.0502 - val_accuracy: 0.9851\n",
      "Epoch 978/2000\n",
      "100/100 [==============================] - 28s 277ms/step - loss: 0.2159 - accuracy: 0.9345 - val_loss: 0.0493 - val_accuracy: 0.9855\n",
      "Epoch 979/2000\n",
      "100/100 [==============================] - 28s 275ms/step - loss: 0.1994 - accuracy: 0.9395 - val_loss: 0.0495 - val_accuracy: 0.9850\n",
      "Epoch 980/2000\n",
      "100/100 [==============================] - 29s 288ms/step - loss: 0.2161 - accuracy: 0.9323 - val_loss: 0.0467 - val_accuracy: 0.9854\n",
      "Epoch 981/2000\n",
      "100/100 [==============================] - 29s 289ms/step - loss: 0.2233 - accuracy: 0.9319 - val_loss: 0.0447 - val_accuracy: 0.9859\n",
      "Epoch 982/2000\n",
      "100/100 [==============================] - 34s 342ms/step - loss: 0.2166 - accuracy: 0.9352 - val_loss: 0.0532 - val_accuracy: 0.9827\n",
      "Epoch 983/2000\n",
      "100/100 [==============================] - 37s 374ms/step - loss: 0.2416 - accuracy: 0.9283 - val_loss: 0.0473 - val_accuracy: 0.9864\n",
      "Epoch 984/2000\n",
      "100/100 [==============================] - 35s 353ms/step - loss: 0.2107 - accuracy: 0.9347 - val_loss: 0.0510 - val_accuracy: 0.9852\n",
      "Epoch 985/2000\n",
      "100/100 [==============================] - 36s 355ms/step - loss: 0.1844 - accuracy: 0.9472 - val_loss: 0.0479 - val_accuracy: 0.9843\n",
      "Epoch 986/2000\n",
      "100/100 [==============================] - 42s 416ms/step - loss: 0.2112 - accuracy: 0.9314 - val_loss: 0.0529 - val_accuracy: 0.9846\n",
      "Epoch 987/2000\n",
      "100/100 [==============================] - 44s 441ms/step - loss: 0.2042 - accuracy: 0.9350 - val_loss: 0.0491 - val_accuracy: 0.9840\n",
      "Epoch 988/2000\n",
      "100/100 [==============================] - 36s 361ms/step - loss: 0.1959 - accuracy: 0.9402 - val_loss: 0.0456 - val_accuracy: 0.9855\n",
      "Epoch 989/2000\n",
      "100/100 [==============================] - 35s 350ms/step - loss: 0.2009 - accuracy: 0.9380 - val_loss: 0.0479 - val_accuracy: 0.9843\n",
      "Epoch 990/2000\n",
      "100/100 [==============================] - 35s 355ms/step - loss: 0.2315 - accuracy: 0.9302 - val_loss: 0.0473 - val_accuracy: 0.9846\n",
      "Epoch 991/2000\n"
     ]
    },
    {
     "name": "stdout",
     "output_type": "stream",
     "text": [
      "100/100 [==============================] - 34s 344ms/step - loss: 0.2166 - accuracy: 0.9320 - val_loss: 0.0460 - val_accuracy: 0.9848\n",
      "Epoch 992/2000\n",
      "100/100 [==============================] - 36s 360ms/step - loss: 0.2072 - accuracy: 0.9348 - val_loss: 0.0481 - val_accuracy: 0.9859\n",
      "Epoch 993/2000\n",
      "100/100 [==============================] - 34s 342ms/step - loss: 0.2093 - accuracy: 0.9364 - val_loss: 0.0462 - val_accuracy: 0.9860\n",
      "Epoch 994/2000\n",
      "100/100 [==============================] - 34s 339ms/step - loss: 0.1847 - accuracy: 0.9425 - val_loss: 0.0483 - val_accuracy: 0.9858\n",
      "Epoch 995/2000\n",
      "100/100 [==============================] - 31s 307ms/step - loss: 0.2086 - accuracy: 0.9381 - val_loss: 0.0472 - val_accuracy: 0.9861\n",
      "Epoch 996/2000\n",
      "100/100 [==============================] - 34s 337ms/step - loss: 0.2078 - accuracy: 0.9328 - val_loss: 0.0476 - val_accuracy: 0.9855\n",
      "Epoch 997/2000\n",
      "100/100 [==============================] - 32s 316ms/step - loss: 0.1922 - accuracy: 0.9369 - val_loss: 0.0479 - val_accuracy: 0.9855\n",
      "Epoch 998/2000\n",
      "100/100 [==============================] - 35s 350ms/step - loss: 0.2103 - accuracy: 0.9373 - val_loss: 0.0474 - val_accuracy: 0.9851\n",
      "Epoch 999/2000\n",
      "100/100 [==============================] - 35s 355ms/step - loss: 0.2171 - accuracy: 0.9350 - val_loss: 0.0468 - val_accuracy: 0.9843\n",
      "Epoch 1000/2000\n",
      "100/100 [==============================] - 35s 351ms/step - loss: 0.2036 - accuracy: 0.9356 - val_loss: 0.0468 - val_accuracy: 0.9855\n",
      "Epoch 1001/2000\n",
      " 28/100 [=======>......................] - ETA: 24s - loss: 0.1901 - accuracy: 0.9397"
     ]
    },
    {
     "ename": "KeyboardInterrupt",
     "evalue": "",
     "output_type": "error",
     "traceback": [
      "\u001b[1;31m---------------------------------------------------------------------------\u001b[0m",
      "\u001b[1;31mKeyboardInterrupt\u001b[0m                         Traceback (most recent call last)",
      "\u001b[1;32m<ipython-input-14-3fe5dbbddd1c>\u001b[0m in \u001b[0;36m<module>\u001b[1;34m\u001b[0m\n\u001b[0;32m     13\u001b[0m                          validation_labels),\n\u001b[0;32m     14\u001b[0m         \u001b[0msteps_per_epoch\u001b[0m\u001b[1;33m=\u001b[0m\u001b[1;36m100\u001b[0m\u001b[1;33m,\u001b[0m\u001b[1;33m\u001b[0m\u001b[1;33m\u001b[0m\u001b[0m\n\u001b[1;32m---> 15\u001b[1;33m         \u001b[0mepochs\u001b[0m\u001b[1;33m=\u001b[0m\u001b[1;36m2000\u001b[0m\u001b[1;33m\u001b[0m\u001b[1;33m\u001b[0m\u001b[0m\n\u001b[0m\u001b[0;32m     16\u001b[0m     )\n\u001b[0;32m     17\u001b[0m \u001b[1;33m\u001b[0m\u001b[0m\n",
      "\u001b[1;32m~\\AppData\\Local\\Programs\\Python\\Python36\\lib\\site-packages\\tensorflow\\python\\keras\\engine\\training.py\u001b[0m in \u001b[0;36m_method_wrapper\u001b[1;34m(self, *args, **kwargs)\u001b[0m\n\u001b[0;32m     64\u001b[0m   \u001b[1;32mdef\u001b[0m \u001b[0m_method_wrapper\u001b[0m\u001b[1;33m(\u001b[0m\u001b[0mself\u001b[0m\u001b[1;33m,\u001b[0m \u001b[1;33m*\u001b[0m\u001b[0margs\u001b[0m\u001b[1;33m,\u001b[0m \u001b[1;33m**\u001b[0m\u001b[0mkwargs\u001b[0m\u001b[1;33m)\u001b[0m\u001b[1;33m:\u001b[0m\u001b[1;33m\u001b[0m\u001b[1;33m\u001b[0m\u001b[0m\n\u001b[0;32m     65\u001b[0m     \u001b[1;32mif\u001b[0m \u001b[1;32mnot\u001b[0m \u001b[0mself\u001b[0m\u001b[1;33m.\u001b[0m\u001b[0m_in_multi_worker_mode\u001b[0m\u001b[1;33m(\u001b[0m\u001b[1;33m)\u001b[0m\u001b[1;33m:\u001b[0m  \u001b[1;31m# pylint: disable=protected-access\u001b[0m\u001b[1;33m\u001b[0m\u001b[1;33m\u001b[0m\u001b[0m\n\u001b[1;32m---> 66\u001b[1;33m       \u001b[1;32mreturn\u001b[0m \u001b[0mmethod\u001b[0m\u001b[1;33m(\u001b[0m\u001b[0mself\u001b[0m\u001b[1;33m,\u001b[0m \u001b[1;33m*\u001b[0m\u001b[0margs\u001b[0m\u001b[1;33m,\u001b[0m \u001b[1;33m**\u001b[0m\u001b[0mkwargs\u001b[0m\u001b[1;33m)\u001b[0m\u001b[1;33m\u001b[0m\u001b[1;33m\u001b[0m\u001b[0m\n\u001b[0m\u001b[0;32m     67\u001b[0m \u001b[1;33m\u001b[0m\u001b[0m\n\u001b[0;32m     68\u001b[0m     \u001b[1;31m# Running inside `run_distribute_coordinator` already.\u001b[0m\u001b[1;33m\u001b[0m\u001b[1;33m\u001b[0m\u001b[1;33m\u001b[0m\u001b[0m\n",
      "\u001b[1;32m~\\AppData\\Local\\Programs\\Python\\Python36\\lib\\site-packages\\tensorflow\\python\\keras\\engine\\training.py\u001b[0m in \u001b[0;36mfit\u001b[1;34m(self, x, y, batch_size, epochs, verbose, callbacks, validation_split, validation_data, shuffle, class_weight, sample_weight, initial_epoch, steps_per_epoch, validation_steps, validation_batch_size, validation_freq, max_queue_size, workers, use_multiprocessing)\u001b[0m\n\u001b[0;32m    846\u001b[0m                 batch_size=batch_size):\n\u001b[0;32m    847\u001b[0m               \u001b[0mcallbacks\u001b[0m\u001b[1;33m.\u001b[0m\u001b[0mon_train_batch_begin\u001b[0m\u001b[1;33m(\u001b[0m\u001b[0mstep\u001b[0m\u001b[1;33m)\u001b[0m\u001b[1;33m\u001b[0m\u001b[1;33m\u001b[0m\u001b[0m\n\u001b[1;32m--> 848\u001b[1;33m               \u001b[0mtmp_logs\u001b[0m \u001b[1;33m=\u001b[0m \u001b[0mtrain_function\u001b[0m\u001b[1;33m(\u001b[0m\u001b[0miterator\u001b[0m\u001b[1;33m)\u001b[0m\u001b[1;33m\u001b[0m\u001b[1;33m\u001b[0m\u001b[0m\n\u001b[0m\u001b[0;32m    849\u001b[0m               \u001b[1;31m# Catch OutOfRangeError for Datasets of unknown size.\u001b[0m\u001b[1;33m\u001b[0m\u001b[1;33m\u001b[0m\u001b[1;33m\u001b[0m\u001b[0m\n\u001b[0;32m    850\u001b[0m               \u001b[1;31m# This blocks until the batch has finished executing.\u001b[0m\u001b[1;33m\u001b[0m\u001b[1;33m\u001b[0m\u001b[1;33m\u001b[0m\u001b[0m\n",
      "\u001b[1;32m~\\AppData\\Local\\Programs\\Python\\Python36\\lib\\site-packages\\tensorflow\\python\\eager\\def_function.py\u001b[0m in \u001b[0;36m__call__\u001b[1;34m(self, *args, **kwds)\u001b[0m\n\u001b[0;32m    578\u001b[0m         \u001b[0mxla_context\u001b[0m\u001b[1;33m.\u001b[0m\u001b[0mExit\u001b[0m\u001b[1;33m(\u001b[0m\u001b[1;33m)\u001b[0m\u001b[1;33m\u001b[0m\u001b[1;33m\u001b[0m\u001b[0m\n\u001b[0;32m    579\u001b[0m     \u001b[1;32melse\u001b[0m\u001b[1;33m:\u001b[0m\u001b[1;33m\u001b[0m\u001b[1;33m\u001b[0m\u001b[0m\n\u001b[1;32m--> 580\u001b[1;33m       \u001b[0mresult\u001b[0m \u001b[1;33m=\u001b[0m \u001b[0mself\u001b[0m\u001b[1;33m.\u001b[0m\u001b[0m_call\u001b[0m\u001b[1;33m(\u001b[0m\u001b[1;33m*\u001b[0m\u001b[0margs\u001b[0m\u001b[1;33m,\u001b[0m \u001b[1;33m**\u001b[0m\u001b[0mkwds\u001b[0m\u001b[1;33m)\u001b[0m\u001b[1;33m\u001b[0m\u001b[1;33m\u001b[0m\u001b[0m\n\u001b[0m\u001b[0;32m    581\u001b[0m \u001b[1;33m\u001b[0m\u001b[0m\n\u001b[0;32m    582\u001b[0m     \u001b[1;32mif\u001b[0m \u001b[0mtracing_count\u001b[0m \u001b[1;33m==\u001b[0m \u001b[0mself\u001b[0m\u001b[1;33m.\u001b[0m\u001b[0m_get_tracing_count\u001b[0m\u001b[1;33m(\u001b[0m\u001b[1;33m)\u001b[0m\u001b[1;33m:\u001b[0m\u001b[1;33m\u001b[0m\u001b[1;33m\u001b[0m\u001b[0m\n",
      "\u001b[1;32m~\\AppData\\Local\\Programs\\Python\\Python36\\lib\\site-packages\\tensorflow\\python\\eager\\def_function.py\u001b[0m in \u001b[0;36m_call\u001b[1;34m(self, *args, **kwds)\u001b[0m\n\u001b[0;32m    609\u001b[0m       \u001b[1;31m# In this case we have created variables on the first call, so we run the\u001b[0m\u001b[1;33m\u001b[0m\u001b[1;33m\u001b[0m\u001b[1;33m\u001b[0m\u001b[0m\n\u001b[0;32m    610\u001b[0m       \u001b[1;31m# defunned version which is guaranteed to never create variables.\u001b[0m\u001b[1;33m\u001b[0m\u001b[1;33m\u001b[0m\u001b[1;33m\u001b[0m\u001b[0m\n\u001b[1;32m--> 611\u001b[1;33m       \u001b[1;32mreturn\u001b[0m \u001b[0mself\u001b[0m\u001b[1;33m.\u001b[0m\u001b[0m_stateless_fn\u001b[0m\u001b[1;33m(\u001b[0m\u001b[1;33m*\u001b[0m\u001b[0margs\u001b[0m\u001b[1;33m,\u001b[0m \u001b[1;33m**\u001b[0m\u001b[0mkwds\u001b[0m\u001b[1;33m)\u001b[0m  \u001b[1;31m# pylint: disable=not-callable\u001b[0m\u001b[1;33m\u001b[0m\u001b[1;33m\u001b[0m\u001b[0m\n\u001b[0m\u001b[0;32m    612\u001b[0m     \u001b[1;32melif\u001b[0m \u001b[0mself\u001b[0m\u001b[1;33m.\u001b[0m\u001b[0m_stateful_fn\u001b[0m \u001b[1;32mis\u001b[0m \u001b[1;32mnot\u001b[0m \u001b[1;32mNone\u001b[0m\u001b[1;33m:\u001b[0m\u001b[1;33m\u001b[0m\u001b[1;33m\u001b[0m\u001b[0m\n\u001b[0;32m    613\u001b[0m       \u001b[1;31m# Release the lock early so that multiple threads can perform the call\u001b[0m\u001b[1;33m\u001b[0m\u001b[1;33m\u001b[0m\u001b[1;33m\u001b[0m\u001b[0m\n",
      "\u001b[1;32m~\\AppData\\Local\\Programs\\Python\\Python36\\lib\\site-packages\\tensorflow\\python\\eager\\function.py\u001b[0m in \u001b[0;36m__call__\u001b[1;34m(self, *args, **kwargs)\u001b[0m\n\u001b[0;32m   2418\u001b[0m     \u001b[1;32mwith\u001b[0m \u001b[0mself\u001b[0m\u001b[1;33m.\u001b[0m\u001b[0m_lock\u001b[0m\u001b[1;33m:\u001b[0m\u001b[1;33m\u001b[0m\u001b[1;33m\u001b[0m\u001b[0m\n\u001b[0;32m   2419\u001b[0m       \u001b[0mgraph_function\u001b[0m\u001b[1;33m,\u001b[0m \u001b[0margs\u001b[0m\u001b[1;33m,\u001b[0m \u001b[0mkwargs\u001b[0m \u001b[1;33m=\u001b[0m \u001b[0mself\u001b[0m\u001b[1;33m.\u001b[0m\u001b[0m_maybe_define_function\u001b[0m\u001b[1;33m(\u001b[0m\u001b[0margs\u001b[0m\u001b[1;33m,\u001b[0m \u001b[0mkwargs\u001b[0m\u001b[1;33m)\u001b[0m\u001b[1;33m\u001b[0m\u001b[1;33m\u001b[0m\u001b[0m\n\u001b[1;32m-> 2420\u001b[1;33m     \u001b[1;32mreturn\u001b[0m \u001b[0mgraph_function\u001b[0m\u001b[1;33m.\u001b[0m\u001b[0m_filtered_call\u001b[0m\u001b[1;33m(\u001b[0m\u001b[0margs\u001b[0m\u001b[1;33m,\u001b[0m \u001b[0mkwargs\u001b[0m\u001b[1;33m)\u001b[0m  \u001b[1;31m# pylint: disable=protected-access\u001b[0m\u001b[1;33m\u001b[0m\u001b[1;33m\u001b[0m\u001b[0m\n\u001b[0m\u001b[0;32m   2421\u001b[0m \u001b[1;33m\u001b[0m\u001b[0m\n\u001b[0;32m   2422\u001b[0m   \u001b[1;33m@\u001b[0m\u001b[0mproperty\u001b[0m\u001b[1;33m\u001b[0m\u001b[1;33m\u001b[0m\u001b[0m\n",
      "\u001b[1;32m~\\AppData\\Local\\Programs\\Python\\Python36\\lib\\site-packages\\tensorflow\\python\\eager\\function.py\u001b[0m in \u001b[0;36m_filtered_call\u001b[1;34m(self, args, kwargs)\u001b[0m\n\u001b[0;32m   1663\u001b[0m          if isinstance(t, (ops.Tensor,\n\u001b[0;32m   1664\u001b[0m                            resource_variable_ops.BaseResourceVariable))),\n\u001b[1;32m-> 1665\u001b[1;33m         self.captured_inputs)\n\u001b[0m\u001b[0;32m   1666\u001b[0m \u001b[1;33m\u001b[0m\u001b[0m\n\u001b[0;32m   1667\u001b[0m   \u001b[1;32mdef\u001b[0m \u001b[0m_call_flat\u001b[0m\u001b[1;33m(\u001b[0m\u001b[0mself\u001b[0m\u001b[1;33m,\u001b[0m \u001b[0margs\u001b[0m\u001b[1;33m,\u001b[0m \u001b[0mcaptured_inputs\u001b[0m\u001b[1;33m,\u001b[0m \u001b[0mcancellation_manager\u001b[0m\u001b[1;33m=\u001b[0m\u001b[1;32mNone\u001b[0m\u001b[1;33m)\u001b[0m\u001b[1;33m:\u001b[0m\u001b[1;33m\u001b[0m\u001b[1;33m\u001b[0m\u001b[0m\n",
      "\u001b[1;32m~\\AppData\\Local\\Programs\\Python\\Python36\\lib\\site-packages\\tensorflow\\python\\eager\\function.py\u001b[0m in \u001b[0;36m_call_flat\u001b[1;34m(self, args, captured_inputs, cancellation_manager)\u001b[0m\n\u001b[0;32m   1744\u001b[0m       \u001b[1;31m# No tape is watching; skip to running the function.\u001b[0m\u001b[1;33m\u001b[0m\u001b[1;33m\u001b[0m\u001b[1;33m\u001b[0m\u001b[0m\n\u001b[0;32m   1745\u001b[0m       return self._build_call_outputs(self._inference_function.call(\n\u001b[1;32m-> 1746\u001b[1;33m           ctx, args, cancellation_manager=cancellation_manager))\n\u001b[0m\u001b[0;32m   1747\u001b[0m     forward_backward = self._select_forward_and_backward_functions(\n\u001b[0;32m   1748\u001b[0m         \u001b[0margs\u001b[0m\u001b[1;33m,\u001b[0m\u001b[1;33m\u001b[0m\u001b[1;33m\u001b[0m\u001b[0m\n",
      "\u001b[1;32m~\\AppData\\Local\\Programs\\Python\\Python36\\lib\\site-packages\\tensorflow\\python\\eager\\function.py\u001b[0m in \u001b[0;36mcall\u001b[1;34m(self, ctx, args, cancellation_manager)\u001b[0m\n\u001b[0;32m    596\u001b[0m               \u001b[0minputs\u001b[0m\u001b[1;33m=\u001b[0m\u001b[0margs\u001b[0m\u001b[1;33m,\u001b[0m\u001b[1;33m\u001b[0m\u001b[1;33m\u001b[0m\u001b[0m\n\u001b[0;32m    597\u001b[0m               \u001b[0mattrs\u001b[0m\u001b[1;33m=\u001b[0m\u001b[0mattrs\u001b[0m\u001b[1;33m,\u001b[0m\u001b[1;33m\u001b[0m\u001b[1;33m\u001b[0m\u001b[0m\n\u001b[1;32m--> 598\u001b[1;33m               ctx=ctx)\n\u001b[0m\u001b[0;32m    599\u001b[0m         \u001b[1;32melse\u001b[0m\u001b[1;33m:\u001b[0m\u001b[1;33m\u001b[0m\u001b[1;33m\u001b[0m\u001b[0m\n\u001b[0;32m    600\u001b[0m           outputs = execute.execute_with_cancellation(\n",
      "\u001b[1;32m~\\AppData\\Local\\Programs\\Python\\Python36\\lib\\site-packages\\tensorflow\\python\\eager\\execute.py\u001b[0m in \u001b[0;36mquick_execute\u001b[1;34m(op_name, num_outputs, inputs, attrs, ctx, name)\u001b[0m\n\u001b[0;32m     58\u001b[0m     \u001b[0mctx\u001b[0m\u001b[1;33m.\u001b[0m\u001b[0mensure_initialized\u001b[0m\u001b[1;33m(\u001b[0m\u001b[1;33m)\u001b[0m\u001b[1;33m\u001b[0m\u001b[1;33m\u001b[0m\u001b[0m\n\u001b[0;32m     59\u001b[0m     tensors = pywrap_tfe.TFE_Py_Execute(ctx._handle, device_name, op_name,\n\u001b[1;32m---> 60\u001b[1;33m                                         inputs, attrs, num_outputs)\n\u001b[0m\u001b[0;32m     61\u001b[0m   \u001b[1;32mexcept\u001b[0m \u001b[0mcore\u001b[0m\u001b[1;33m.\u001b[0m\u001b[0m_NotOkStatusException\u001b[0m \u001b[1;32mas\u001b[0m \u001b[0me\u001b[0m\u001b[1;33m:\u001b[0m\u001b[1;33m\u001b[0m\u001b[1;33m\u001b[0m\u001b[0m\n\u001b[0;32m     62\u001b[0m     \u001b[1;32mif\u001b[0m \u001b[0mname\u001b[0m \u001b[1;32mis\u001b[0m \u001b[1;32mnot\u001b[0m \u001b[1;32mNone\u001b[0m\u001b[1;33m:\u001b[0m\u001b[1;33m\u001b[0m\u001b[1;33m\u001b[0m\u001b[0m\n",
      "\u001b[1;31mKeyboardInterrupt\u001b[0m: "
     ]
    }
   ],
   "source": [
    "TRAIN_MODEL = True\n",
    "\n",
    "if TRAIN_MODEL:\n",
    "    generator = dt.generators.Generator().generate(\n",
    "        augmented_training_set,\n",
    "        get_label,\n",
    "        batch_size=64,\n",
    "    )\n",
    "\n",
    "    h = model.fit(\n",
    "        generator,\n",
    "        validation_data=(validation_images,\n",
    "                         validation_labels),\n",
    "        steps_per_epoch=100,\n",
    "        epochs=2000\n",
    "    )\n",
    "    \n",
    "    plt.plot(h.history[\"loss\"], 'g')\n",
    "    plt.plot(h.history[\"val_loss\"], 'r')\n",
    "    plt.legend([\"Loss\", \"Validation loss\"])\n",
    "    plt.yscale(\"log\")\n",
    "    plt.show()\n",
    "    \n",
    "else:\n",
    "    import keras\n",
    "    model_path = datasets.load_model(\"MNIST\")\n",
    "    model.load_weights(model_path)"
   ]
  },
  {
   "cell_type": "markdown",
   "metadata": {},
   "source": [
    "## 5. Evaluating the training\n"
   ]
  },
  {
   "cell_type": "code",
   "execution_count": null,
   "metadata": {},
   "outputs": [],
   "source": [
    "array_of_images = validation_images\n",
    "array_of_labels = validation_labels\n",
    "\n",
    "predicted_digits = np.argmax(model.predict(array_of_images), axis=1)\n",
    "\n",
    "accuracy = np.mean(np.array(array_of_labels) == predicted_digits)\n",
    "print(\"Accuracy:\", accuracy)\n",
    "print(\"Error rate:\",1 - accuracy)"
   ]
  },
  {
   "cell_type": "markdown",
   "metadata": {},
   "source": [
    "### 5.1 Prediction vs actual\n",
    "\n",
    "We show a few images, the true digit and the predicted digit"
   ]
  },
  {
   "cell_type": "code",
   "execution_count": null,
   "metadata": {},
   "outputs": [],
   "source": [
    "NUMBER_OF_IMAGES = 8 \n",
    "TITLE_STRING = \"The image shows the digit {0} \\n The model predicted the digit {1}\"\n",
    "\n",
    "for image_index in range(NUMBER_OF_IMAGES):\n",
    "    image_to_show = np.reshape(array_of_images[image_index], (28, 28))\n",
    "    plt.imshow(image_to_show)\n",
    "    plt.title(TITLE_STRING.format(array_of_labels[image_index], predicted_digits[image_index]))\n",
    "    plt.show()"
   ]
  },
  {
   "cell_type": "markdown",
   "metadata": {},
   "source": [
    "### 5.2 Visualizing errors\n",
    "\n",
    "We show a few images which the model predicted inaccurately"
   ]
  },
  {
   "cell_type": "code",
   "execution_count": null,
   "metadata": {},
   "outputs": [],
   "source": [
    "NUMBER_OF_IMAGES = 16\n",
    "\n",
    "model_is_wrong = predicted_digits != array_of_labels\n",
    "\n",
    "array_of_hard_images = array_of_images[model_is_wrong]\n",
    "array_of_hard_labels = array_of_labels[model_is_wrong]\n",
    "inaccurately_predicted_digits = predicted_digits[model_is_wrong]\n",
    "\n",
    "for image_index in range(NUMBER_OF_IMAGES):\n",
    "    image_to_show = np.reshape(array_of_hard_images[image_index], (28, 28))\n",
    "    plt.imshow(image_to_show)\n",
    "    plt.title(TITLE_STRING.format(array_of_hard_labels[image_index], inaccurately_predicted_digits[image_index]))\n",
    "    plt.show()"
   ]
  },
  {
   "cell_type": "code",
   "execution_count": null,
   "metadata": {},
   "outputs": [],
   "source": [
    "import scipy.io\n",
    "\n",
    "scipy.io.savemat('../../figures/mnist_loss.mat', h.history)"
   ]
  },
  {
   "cell_type": "code",
   "execution_count": 15,
   "metadata": {},
   "outputs": [],
   "source": []
  },
  {
   "cell_type": "code",
   "execution_count": 19,
   "metadata": {},
   "outputs": [],
   "source": [
    "loss = string.split(\" loss: \")\n",
    "val_loss = string.split(\" val_loss: \")"
   ]
  },
  {
   "cell_type": "code",
   "execution_count": 20,
   "metadata": {},
   "outputs": [
    {
     "data": {
      "text/plain": [
       "[<matplotlib.lines.Line2D at 0x1f03a5c4c18>]"
      ]
     },
     "execution_count": 20,
     "metadata": {},
     "output_type": "execute_result"
    },
    {
     "data": {
      "image/png": "[encoded data removed]",
      "text/plain": [
       "<Figure size 432x288 with 1 Axes>"
      ]
     },
     "metadata": {
      "needs_background": "light"
     },
     "output_type": "display_data"
    }
   ],
   "source": [
    "losses = [float(l[:6]) for l in loss[1:]]\n",
    "val_losses = [float(l[:6]) for l in val_loss[1:]]\n",
    "plt.plot(losses)\n",
    "plt.plot(val_losses)\n",
    "plt.u"
   ]
  },
  {
   "cell_type": "code",
   "execution_count": 22,
   "metadata": {},
   "outputs": [],
   "source": [
    "import scipy.io\n",
    "scipy.io.savemat('../../figures/mnist_loss.mat', {\"loss\": np.array(losses), \"val_loss\": np.array(val_losses)})"
   ]
  }
 ],
 "metadata": {
  "kernelspec": {
   "display_name": "Python 3",
   "language": "python",
   "name": "python3"
  },
  "language_info": {
   "codemirror_mode": {
    "name": "ipython",
    "version": 3
   },
   "file_extension": ".py",
   "mimetype": "text/x-python",
   "name": "python",
   "nbconvert_exporter": "python",
   "pygments_lexer": "ipython3",
   "version": "3.7.8"
  }
 },
 "nbformat": 4,
 "nbformat_minor": 2
}
