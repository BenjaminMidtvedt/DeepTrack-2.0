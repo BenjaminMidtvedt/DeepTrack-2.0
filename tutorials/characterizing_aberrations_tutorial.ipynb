{
 "cells": [
  {
   "cell_type": "code",
   "execution_count": null,
   "metadata": {},
   "outputs": [],
   "source": [
    "%matplotlib inline\n",
    "import sys\n",
    "sys.path.append(\"..\")"
   ]
  },
  {
   "cell_type": "markdown",
   "execution_count": null,
   "metadata": {},
   "outputs": [],
   "source": [
    "# DeepTrack 2.0 - Characterizing aberrations\n",
    "\n",
    "This tutorial demonstrates how to characterize the aberrations of an optical device using the image of a particle. We will specifically look at spherical aberrations, though the example can straightforwardly be extended to other aberrations.\n",
    "\n",
    "It is recommended to read both [deeptrack_introdution_tutorial](./deeptrack_introdution_tutorial.ipynb) and [tracking_particle_cnn_tutorial](./tracking_particle_cnn_tutorial.ipynb) before reading this tutorial."
   ]
  },
  {
   "cell_type": "markdown",
   "execution_count": null,
   "metadata": {},
   "outputs": [],
   "source": [
    "## 1. Setup\n",
    "\n",
    "Imports needed for this tutorial."
   ]
  },
  {
   "cell_type": "code",
   "execution_count": null,
   "metadata": {},
   "outputs": [],
   "source": [
    "import numpy as np\n",
    "import matplotlib.pyplot as plt\n",
    "\n",
    "from deeptrack.scatterers import Sphere\n",
    "from deeptrack.optics import Fluorescence\n",
    "from deeptrack.noises import Poisson, Offset\n",
    "from deeptrack.aberrations import SphericalAberration\n",
    "from deeptrack.math import NormalizeMinMax\n",
    "\n",
    "from deeptrack.models import convolutional\n",
    "from deeptrack.generators import Generator"
   ]
  },
  {
   "cell_type": "markdown",
   "execution_count": null,
   "metadata": {},
   "outputs": [],
   "source": [
    "## 2. Define the features\n",
    "\n",
    "We define the features needed for this example. \n",
    "\n",
    "* `fluorescence_microscope` - Flourescence microscope with a pixel size of 0.1 microns and a 128x128 camera (see also [optics_example](../examples/optics_example.ipynb))\n",
    "* `particle` - Spherical particle roughly centered in the image, a micron out of focus (see also [features_example](../examples/features_example.ipynb))\n",
    "* `aberration` - Spherical aberration with a coefficient between -4 and 4 (see also [aberrations_example](../examples/aberrations_example.ipynb))\n",
    "* `noise` - A constant background illumantion and a Poisson noise with SNR 100 (see also [noises_example](../examples/noises_example.ipynb))\n",
    "* `normalization` - Maps the image to values between 0 and 1\n",
    "\n",
    "In particular, `SphericalAberration` is a wrapper of the more general `Zernike` feature, which introduces a phase to the pupil function based on the normalized Zernike polynomials. The property `coefficient` is a multiplier for the respective poynomial in the set of Zernike polynomials."
   ]
  },
  {
   "cell_type": "code",
   "execution_count": null,
   "metadata": {},
   "outputs": [],
   "source": [
    "fluorescence_microscope = Fluorescence(\n",
    "    magnification=10,\n",
    "    resolution=1e-6,\n",
    "    wavelength=633e-9,\n",
    "    output_region=(0, 0, 128, 128)\n",
    ")\n",
    "\n",
    "particle = Sphere(\n",
    "    position=lambda: np.random.randn(3) * (1, 1, 3) + (64, 64, 10),\n",
    "    position_unit=\"pixel\",\n",
    "    intensity=10,\n",
    "    radius=np.random.rand() * 1e-6 + 0.5e-6\n",
    ")\n",
    "\n",
    "aberration = SphericalAberration(coefficient=lambda: (2 * np.random.rand() - 1) * 4)\n",
    "\n",
    "noise = Offset(offset=0.01) + Poisson(snr=100)\n",
    "\n",
    "normalization = NormalizeMinMax(min=0, max=1)"
   ]
  },
  {
   "cell_type": "markdown",
   "execution_count": null,
   "metadata": {},
   "outputs": [],
   "source": [
    "## 3. Combine the features\n",
    "\n",
    "To view the particle throught the aberrated microscope, we call `fluorescence_microscope` with both the particle and the aberration. Then we add the noise and normalization as usual."
   ]
  },
  {
   "cell_type": "code",
   "execution_count": null,
   "metadata": {},
   "outputs": [],
   "source": [
    "aberrated_particle = fluorescence_microscope(particle, aberration=aberration) + noise + normalization\n",
    "\n",
    "for coefficient in range(-4, 5):\n",
    "    aberrated_particle.update()\n",
    "    aberration.properties[\"coefficient\"].current_value = coefficient\n",
    "    \n",
    "    plt.title(\"Spherical aberration of strength {0}\".format(coefficient))\n",
    "    aberrated_particle.plot(cmap=\"gray\")  "
   ]
  },
  {
   "cell_type": "markdown",
   "execution_count": null,
   "metadata": {},
   "outputs": [],
   "source": [
    "## 4. Define the label function and the generator\n",
    "\n",
    "We define a label function that iterates through all the properties and returns the coefficient of `SphericalAberration`."
   ]
  },
  {
   "cell_type": "code",
   "execution_count": null,
   "metadata": {},
   "outputs": [],
   "source": [
    "def get_aberration(image):\n",
    "    for prop in image.properties:\n",
    "        if prop[\"name\"] == \"SphericalAberration\":\n",
    "            return prop[\"coefficient\"]"
   ]
  },
  {
   "cell_type": "markdown",
   "execution_count": null,
   "metadata": {},
   "outputs": [],
   "source": [
    "We use this function to create a generator of spherically aberrated images of particles to be used to train the neural network model."
   ]
  },
  {
   "cell_type": "code",
   "execution_count": null,
   "metadata": {},
   "outputs": [],
   "source": [
    "generator = Generator().generate(\n",
    "    aberrated_particle, \n",
    "    get_aberration, \n",
    "    batch_size=32\n",
    ")"
   ]
  },
  {
   "cell_type": "markdown",
   "execution_count": null,
   "metadata": {},
   "outputs": [],
   "source": [
    "## 5. Create the model\n",
    "\n",
    "We will use the standard convolution model for this task implemented by the function `convolutional` (see also [models_example](../examples/models_example.ipynb)). Since this is a regression task, we will use mean absolute error as loss."
   ]
  },
  {
   "cell_type": "code",
   "execution_count": null,
   "metadata": {},
   "outputs": [],
   "source": [
    "model = convolutional(\n",
    "    input_shape=(128, 128, 1), \n",
    "    number_of_outputs=1,\n",
    "    optimizer='rmsprop', \n",
    "    loss='mae', \n",
    "    metrics=['mse', 'mae']\n",
    ")"
   ]
  },
  {
   "cell_type": "markdown",
   "execution_count": null,
   "metadata": {},
   "outputs": [],
   "source": [
    "## 6. Train the model\n",
    "\n",
    "We train the model for 100 epochs. This will take some time (approximately one hour)."
   ]
  },
  {
   "cell_type": "code",
   "execution_count": null,
   "metadata": {},
   "outputs": [],
   "source": [
    "model.fit(\n",
    "    generator, \n",
    "    epochs=100, \n",
    "    steps_per_epoch=20\n",
    ")"
   ]
  },
  {
   "cell_type": "markdown",
   "execution_count": null,
   "metadata": {},
   "outputs": [],
   "source": [
    "## 7. Validate the result\n",
    "\n",
    "Finally, we validate the result by plotting the predicted value of the spherical aberration against the true value."
   ]
  },
  {
   "cell_type": "code",
   "execution_count": null,
   "metadata": {},
   "outputs": [],
   "source": [
    "batch, labels = next(generator)\n",
    "\n",
    "prediction = model.predict(batch)\n",
    "\n",
    "plt.scatter(labels, prediction)\n",
    "plt.plot([-5, 5], [-5, 5])\n",
    "plt.gca().set_aspect('equal', adjustable='box')\n",
    "plt.xlabel(\"Ground truth\")\n",
    "plt.ylabel(\"Predicted value\")\n",
    "plt.title(\"Spherical aberration coefficient\")  "
   ]
  }
 ],
 "metadata": {
  "kernelspec": {
   "display_name": "Python 3",
   "language": "python",
   "name": "python3"
  },
  "language_info": {
   "codemirror_mode": {
    "name": "ipython",
    "version": 3
   },
   "file_extension": ".py",
   "mimetype": "text/x-python",
   "name": "python",
   "nbconvert_exporter": "python",
   "pygments_lexer": "ipython3",
   "version": "3.6.7-final"
  }
 },
 "nbformat": 4,
 "nbformat_minor": 2
}