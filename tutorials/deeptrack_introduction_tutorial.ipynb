{
 "cells": [
  {
   "cell_type": "code",
   "execution_count": null,
   "metadata": {},
   "outputs": [],
   "source": [
    "%matplotlib inline\n",
    "import sys\n",
    "sys.path.append(\"..\") # Adds the module to path"
   ]
  },
  {
   "cell_type": "markdown",
   "metadata": {},
   "source": [
    "# DeepTrack 2.0 - Introduction\n",
    "\n",
    "This tutorial gives an overview of how to use DeepTrack 2.0.\n",
    "\n",
    "### What is DeepTrack 2.0?\n",
    "\n",
    "DeepTrack 2.0 is a software that provides a comprehensive framework for digital microscopy enhanced by deep learning. Possible applications include particle identification, particle tracking, image segmentation, and cell counting. This tutorial focuses on the simple task to track a particle."
   ]
  },
  {
   "cell_type": "markdown",
   "metadata": {},
   "source": [
    "## 1. Generate images\n",
    "\n",
    "In order to train and validate deep-learning models to be used in digital microcopy, we need to generate synthetic images. For example, these images may be like the output of a digital video micoscopy experiment, where we want to track some particles.\n",
    "\n",
    "In DeepTrack 2.0, any image can be viewed as a series of **features** applied in a sequence. Each feature takes an input image and updates it according to an **update rule**. For example, a feature can add a particle, introduce some noise, or image something through an optical device."
   ]
  },
  {
   "cell_type": "markdown",
   "metadata": {},
   "source": [
    "### Features and properties\n",
    "\n",
    "In DeepTrack 2.0, these features are classes implementing the class `Feature` (see also [features_example](../examples/features_example.ipynb)). The way a feature updates an image is determined by the values passed to the class constructor. These inputs are converted to **properties** (see also [properties_example](../examples/properties_example.ipynb)). For example, a property could be the position of a particle. \n",
    "\n",
    "For example, the code below creates a feature: a point particle implemented by the class `PointParticle` with properties `position=(0, 0)`, `position_unit=\"pixel\"`, and `intensity=1`."
   ]
  },
  {
   "cell_type": "code",
   "execution_count": null,
   "metadata": {},
   "outputs": [],
   "source": [
    "from deeptrack.scatterers import PointParticle\n",
    "\n",
    "particle = PointParticle(\n",
    "    position=(0, 0),\n",
    "    position_unit=\"pixel\", # the default is meter\n",
    "    intensity=1\n",
    ")"
   ]
  },
  {
   "cell_type": "markdown",
   "metadata": {},
   "source": [
    "The above feature is completely deterministic so that the particle will always be at position (0, 0). For machine learning, it may be more useful to add a particle at a random position. This can be done by passing a lambda function that returns a pair of random numbers to the property `position`."
   ]
  },
  {
   "cell_type": "code",
   "execution_count": null,
   "metadata": {},
   "outputs": [],
   "source": [
    "import numpy as np\n",
    "\n",
    "IMAGE_SIZE = 64\n",
    "\n",
    "particle = PointParticle(\n",
    "    position=lambda: np.random.rand(2) * IMAGE_SIZE,\n",
    "    position_unit=\"pixel\",\n",
    "    intensity=1\n",
    ")"
   ]
  },
  {
   "cell_type": "markdown",
   "metadata": {},
   "source": [
    "A point particle on its own does not make much sense when thinking of actual experiments. In order to get a more realistic image, we need to define also the optical device through which it is viewed. In DeepTrack 2.0, optical devices are features that convolve the input image with a pupil function. Here, we will use a fluorescence microscope `fluorescence_microscope`, which is implemented by the feature `Fluorescence` (see also [optics_example](../examples/optics_example.ipynb)). \n",
    "\n",
    "By calling the fluorescence microscope `fluorescence_microscope` with the point particle `particle`, we create a new feature which resolves the image of the particle as seen through the fluorescence microscope."
   ]
  },
  {
   "cell_type": "code",
   "execution_count": null,
   "metadata": {},
   "outputs": [],
   "source": [
    "from deeptrack.optics import Fluorescence\n",
    "\n",
    "fluorescence_microscope = Fluorescence(\n",
    "    NA=0.8,\n",
    "    wavelength=680e-9,\n",
    "    magnification=10,\n",
    "    resolution=1e-6,\n",
    "    output_region=(0, 0, IMAGE_SIZE, IMAGE_SIZE)\n",
    ")\n",
    "\n",
    "imaged_particle = fluorescence_microscope(particle)"
   ]
  },
  {
   "cell_type": "markdown",
   "metadata": {},
   "source": [
    "We can finally create the image of the particle by calling the method `imaged_particle.resolve()` and plot it."
   ]
  },
  {
   "cell_type": "code",
   "execution_count": null,
   "metadata": {},
   "outputs": [],
   "source": [
    "output_image = imaged_particle.resolve()\n",
    "\n",
    "import matplotlib.pyplot as plt\n",
    "plt.imshow(np.squeeze(output_image), cmap='gray')\n",
    "plt.show()"
   ]
  },
  {
   "cell_type": "markdown",
   "metadata": {},
   "source": [
    "You might have noticed that, even though the position of the particle is random, it doesn't change if you refresh the cell. This is because the value of the particle position is stored as a property of the particle, useful for example to know the ground truth value of the particle position to train a deep-learning model.\n",
    "\n",
    "If you want the particle position to change each time you refresh the cell, you need to call the method `imaged_particle.update()` before resolving the image."
   ]
  },
  {
   "cell_type": "code",
   "execution_count": null,
   "metadata": {},
   "outputs": [],
   "source": [
    "imaged_particle.update()\n",
    "output_image = imaged_particle.resolve()\n",
    "\n",
    "plt.imshow(np.squeeze(output_image), cmap='gray')\n",
    "plt.show()"
   ]
  },
  {
   "cell_type": "markdown",
   "metadata": {},
   "source": [
    "### Adding more features\n",
    "\n",
    "Features can be combined (see also [features_example](../examples/features_example.ipynb)) using overloaded operators (+, \\*, \\*\\* and ()). Here exemplify the add operator (+) and the power operator (\\*\\*)."
   ]
  },
  {
   "cell_type": "code",
   "execution_count": null,
   "metadata": {},
   "outputs": [],
   "source": [
    "# The + operator\n",
    "\n",
    "particle_1 = PointParticle(\n",
    "    position=lambda: np.random.rand(2) * IMAGE_SIZE,\n",
    "    position_unit=\"pixel\",\n",
    "    intensity=1\n",
    ")\n",
    "\n",
    "particle_2 = PointParticle(\n",
    "    position=lambda: np.random.rand(2) * IMAGE_SIZE,\n",
    "    position_unit=\"pixel\",\n",
    "    intensity=1\n",
    ")\n",
    "\n",
    "two_particles = particle_1 + particle_2\n",
    "\n",
    "# imaged_two_particles is a new feature that first resolves particle_1 and then particle_2, then images it\n",
    "imaged_two_particles = fluorescence_microscope(two_particles)\n",
    "\n",
    "output_image = imaged_two_particles.resolve()\n",
    "\n",
    "plt.imshow(np.squeeze(output_image), cmap='gray')\n",
    "plt.show()"
   ]
  },
  {
   "cell_type": "code",
   "execution_count": null,
   "metadata": {},
   "outputs": [],
   "source": [
    "# The ** operator\n",
    "\n",
    "particle = PointParticle(\n",
    "    position=lambda: np.random.rand(2) * IMAGE_SIZE,\n",
    "    position_unit=\"pixel\",\n",
    "    intensity=1\n",
    ")\n",
    "\n",
    "five_particles = particle**5\n",
    "\n",
    "# five_particles is a feature that resolves five deep copies of particle, then images it\n",
    "imaged_five_particles = fluorescence_microscope(five_particles)\n",
    "\n",
    "output_image = imaged_five_particles.resolve()\n",
    "\n",
    "plt.imshow(np.squeeze(output_image), cmap='gray')\n",
    "plt.show()"
   ]
  },
  {
   "cell_type": "markdown",
   "metadata": {},
   "source": [
    "### Adding noise\n",
    "\n",
    "To make the image more realistic, we can now add some noise (see also [noises_example](../examples/noises_example.ipynb))."
   ]
  },
  {
   "cell_type": "code",
   "execution_count": null,
   "metadata": {},
   "outputs": [],
   "source": [
    "from deeptrack.noises import Offset, Poisson\n",
    "\n",
    "# Adds a constant value to the background\n",
    "offset = Offset(offset=0.01)\n",
    "\n",
    "# Introduce Poisson noise to the image\n",
    "poisson_noise = Poisson(snr=100)\n",
    "\n",
    "# noisy_particles resolves five particles, then adds a offset, images it, then introduces poisson noise\n",
    "imaged_noisy_particles = fluorescence_microscope(particle**5) + offset + poisson_noise\n",
    "\n",
    "output_image = imaged_noisy_particles.resolve()\n",
    "\n",
    "plt.imshow(np.squeeze(output_image), cmap='gray')\n",
    "plt.show()"
   ]
  },
  {
   "cell_type": "markdown",
   "metadata": {},
   "source": [
    "## 2. Retrieve information about the image\n",
    "\n",
    "To train a supervised machine-learning model, labelled images are needed. When a feature is resolved, it automatically stores the properties of all features used to create the image. This allows us to extract information about the image, for example, in order to use them to train machine-learning models.\n",
    "\n",
    "Here, we extract the position of all the particles and plot them as red crosses on the generated image."
   ]
  },
  {
   "cell_type": "code",
   "execution_count": null,
   "metadata": {},
   "outputs": [],
   "source": [
    "def get_positions(image):\n",
    "    # All properties are stored in the `properties` field of the output.\n",
    "    positions = [property_dict[\"position\"] for property_dict in image.properties if \"position\" in property_dict]\n",
    "    return np.array(positions)\n",
    "\n",
    "\n",
    "imaged_noisy_particles.update()\n",
    "output_image = imaged_noisy_particles.resolve()\n",
    "\n",
    "positions = get_positions(output_image)\n",
    "\n",
    "plt.imshow(np.squeeze(output_image), cmap='gray')\n",
    "plt.scatter(positions[:, 1], positions[:, 0], c=\"r\", marker=\"x\")\n",
    "plt.show()"
   ]
  },
  {
   "cell_type": "markdown",
   "metadata": {},
   "source": [
    "## 3. Wrap features in generators\n",
    "\n",
    "Generators are ways to continuously resolve new images, and are the prefered interface to machine learning models. The default generator is defined in the module `generators` (see also [generators_example](../examples/generators_example.ipynb)). We can also optionally pass a label function that will be called on every image, in this case we will use the function `get_positions` that we have implemented above."
   ]
  },
  {
   "cell_type": "code",
   "execution_count": null,
   "metadata": {},
   "outputs": [],
   "source": [
    "from deeptrack.generators import Generator\n",
    "\n",
    "generator = Generator().generate(imaged_noisy_particles, label_function=get_positions)\n",
    "\n",
    "for _ in range(4):\n",
    "    # Outputs shape (1, height, width, 1)\n",
    "    next_image, positions = next(generator)\n",
    "    plt.imshow(np.squeeze(next_image), cmap='gray')\n",
    "    plt.scatter(positions[0, :, 1], positions[0, :, 0], c='r', marker='x')\n",
    "    plt.show()"
   ]
  },
  {
   "cell_type": "markdown",
   "metadata": {},
   "source": [
    "## 4. Training the model"
   ]
  },
  {
   "cell_type": "markdown",
   "metadata": {},
   "source": [
    "We are finally ready to create a deep-learning model to track the particles.\n",
    "We will use a convolutional neural network implemented by the function `convolutional` (see also [models_example](../examples/models_example.ipynb)) to track point particles (`particle`) imaged through a fluorescence microscope (`fluorescence_microscope`) with some noise (`offset` and `poisson_noise`). We will furthermore use the feature `NormalizeMinMax` to normalize the dynamic range of the images btween 0 and 1.\n",
    "\n",
    "This model is designed to track a single particle with a high accuracy. It is not well suited for the task of multi-particle tracking."
   ]
  },
  {
   "cell_type": "code",
   "execution_count": null,
   "metadata": {},
   "outputs": [],
   "source": [
    "from deeptrack.models import convolutional\n",
    "from deeptrack.math import NormalizeMinMax\n",
    "\n",
    "# DEFINE LABEL FUNCTION\n",
    "def get_position(image):\n",
    "    for propertydict in image.properties:\n",
    "        if \"position\" in propertydict:\n",
    "            return propertydict[\"position\"] / IMAGE_SIZE\n",
    "        \n",
    "# DEFINE MODEL\n",
    "model = convolutional(input_shape=(IMAGE_SIZE, IMAGE_SIZE, 1), number_of_outputs=2)\n",
    "\n",
    "\n",
    "\n",
    "# DEFINE TRAINING SET\n",
    "normalization = NormalizeMinMax(min=0, max=1)\n",
    "training_set = fluorescence_microscope(particle) + offset + poisson_noise + normalization\n",
    "\n",
    "# DEFINE GENERATOR\n",
    "generator = Generator().generate(training_set, get_position, batch_size=32)"
   ]
  },
  {
   "cell_type": "markdown",
   "metadata": {},
   "source": [
    "Now we train the model. Be patient, this might take some time (several minutes)."
   ]
  },
  {
   "cell_type": "code",
   "execution_count": null,
   "metadata": {},
   "outputs": [],
   "source": [
    "# TRAIN TRACKER\n",
    "model.fit(generator, epochs=100, steps_per_epoch=10)"
   ]
  },
  {
   "cell_type": "markdown",
   "metadata": {},
   "source": [
    "Finally, we test the trained model on some newly generated images."
   ]
  },
  {
   "cell_type": "code",
   "execution_count": null,
   "metadata": {},
   "outputs": [],
   "source": [
    "images, real_positions = next(generator)\n",
    "\n",
    "measured_positions = model.predict(images)\n",
    "\n",
    "for i in range(images.shape[0]):\n",
    "    \n",
    "    image = np.squeeze(images[i])\n",
    "    \n",
    "    measured_position_x = measured_positions[i, 1] * IMAGE_SIZE\n",
    "    measured_position_y = measured_positions[i, 0] * IMAGE_SIZE\n",
    "\n",
    "    real_position_x = real_positions[i, 1] * IMAGE_SIZE\n",
    "    real_position_y = real_positions[i, 0] * IMAGE_SIZE\n",
    "\n",
    "    plt.imshow(image, cmap='gray')\n",
    "    plt.scatter(real_position_x, real_position_y, s=70, c='r', marker='x')\n",
    "    plt.scatter(measured_position_x, measured_position_y, s=100, marker='o', facecolor='none', edgecolors='b')\n",
    "    plt.show()"
   ]
  },
  {
   "cell_type": "code",
   "execution_count": null,
   "metadata": {},
   "outputs": [],
   "source": []
  }
 ],
 "metadata": {
  "kernelspec": {
   "display_name": "Python 3",
   "language": "python",
   "name": "python3"
  },
  "language_info": {
   "codemirror_mode": {
    "name": "ipython",
    "version": 3
   },
   "file_extension": ".py",
   "mimetype": "text/x-python",
   "name": "python",
   "nbconvert_exporter": "python",
   "pygments_lexer": "ipython3",
   "version": "3.7.8"
  }
 },
 "nbformat": 4,
 "nbformat_minor": 2
}
